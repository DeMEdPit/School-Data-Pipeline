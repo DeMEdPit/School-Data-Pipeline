{
 "cells": [
  {
   "cell_type": "code",
   "execution_count": 11,
   "metadata": {},
   "outputs": [],
   "source": [
    "import pyperclip as clip"
   ]
  },
  {
   "cell_type": "code",
   "execution_count": 12,
   "metadata": {},
   "outputs": [],
   "source": [
    "races = ['BL', 'WH', 'AM', 'AS', 'HI', 'HP', 'TR']\n",
    "genders = ['M', 'F', 'both_genders']\n",
    "suspensions = ['MULTOOS', 'SINGOOS']\n",
    "disciplinary_metrics = ['REF', 'ARR']\n",
    "academic_metrics = ['GTENR', 'APENR']\n",
    "disability = ['WODIS', 'WDIS']"
   ]
  },
  {
   "cell_type": "markdown",
   "metadata": {},
   "source": [
    "### District rate calculations"
   ]
  },
  {
   "cell_type": "code",
   "execution_count": 13,
   "metadata": {},
   "outputs": [],
   "source": [
    "dist_query_segments = 'SELECT \"LEAID\"'"
   ]
  },
  {
   "cell_type": "markdown",
   "metadata": {},
   "source": [
    "### Sum multiple and single suspensions to get total suspensions."
   ]
  },
  {
   "cell_type": "code",
   "execution_count": 14,
   "metadata": {},
   "outputs": [],
   "source": [
    "disab=''\n",
    "for dis_status in disability:\n",
    "    for race in races:\n",
    "        if dis_status == 'WDIS':\n",
    "            disab = 'IDEA_'\n",
    "        for gender in genders:\n",
    "            if gender == 'both_genders':\n",
    "                district_query = f'\\n, (\"SCH_DISC{dis_status}_SINGOOS_{disab}{race}_M\" + \"SCH_DISC{dis_status}_SINGOOS_{disab}{race}_F\" + \"SCH_DISC{dis_status}_MULTOOS_{disab}{race}_F\" + \"SCH_DISC{dis_status}_MULTOOS_{disab}{race}_M\") / (NULLIF(\"SCH_{disab[:4]}ENR_{race}_F\", 0) + NULLIF(\"SCH_{disab[:4]}ENR_{race}_M\", 0)) as {race}_{gender}_{dis_status}_suspension_rate'\n",
    "\n",
    "            else:\n",
    "                district_query = f'\\n, (\"SCH_DISC{dis_status}_MULTOOS_{disab}{race}_{gender}\" + \"SCH_DISC{dis_status}_SINGOOS_{disab}{race}_{gender}\" / NULLIF(\"SCH_{disab[:4]}ENR_{race}_{gender}\", 0)) as {race}_{gender}_{dis_status}_suspension_rate'\n",
    "\n",
    "            dist_query_segments += district_query"
   ]
  },
  {
   "cell_type": "code",
   "execution_count": 15,
   "metadata": {},
   "outputs": [],
   "source": [
    "clip.copy(dist_query_segments)"
   ]
  },
  {
   "cell_type": "code",
   "execution_count": 16,
   "metadata": {},
   "outputs": [],
   "source": [
    "for metric in disciplinary_metrics:\n",
    "    for dis_status in disability:\n",
    "        if dis_status == 'WDIS':\n",
    "            metric += '_IDEA'\n",
    "            enrollment_denom = '(NULLIF(\"SCH_ENR_{race}_F\", 0) + NULLIF(\"SCH_ENR_{race}_M\", 0))'\n",
    "        for race in races:\n",
    "            for gender in genders:\n",
    "                if gender == 'both_genders':\n",
    "                    district_query = f'\\n, (\"SCH_DISC{dis_status}_{metric}_{race}_F\" + \"SCH_DISC{dis_status}_{metric}_{race}_M\") / (NULLIF(\"SCH_ENR_{race}_F\", 0) + NULLIF(\"SCH_ENR_{race}_M\", 0)) as {race}_{gender}_{dis_status}_{metric}_rate'\n",
    "\n",
    "                else:\n",
    "                    district_query = f'\\n, (\"SCH_DISC{dis_status}_{metric}_{race}_{gender}\" / NULLIF(\"SCH_ENR_{race}_{gender}\", 0)) as {race}_{gender}_{dis_status}_{metric}_rate'\n",
    "\n",
    "                dist_query_segments += district_query"
   ]
  },
  {
   "cell_type": "code",
   "execution_count": 17,
   "metadata": {},
   "outputs": [],
   "source": [
    "for metric in academic_metrics:\n",
    "    for race in races:\n",
    "        for gender in genders:\n",
    "            if gender == 'both_genders':\n",
    "                district_query = f'\\n, (\"SCH_{metric}_{race}_F\" + \"SCH_{metric}_{race}_M\") / (NULLIF(\"SCH_ENR_{race}_F\", 0) + NULLIF(\"SCH_ENR_{race}_M\", 0)) as {race}_{gender}_{metric}_rate'\n",
    "\n",
    "            else:\n",
    "                district_query = f'\\n, (\"SCH_{metric}_{race}_{gender}\" / NULLIF(\"SCH_ENR_{race}_{gender}\", 0)) as {race}_{gender}_{metric}_rate'\n",
    "\n",
    "            dist_query_segments += district_query"
   ]
  },
  {
   "cell_type": "code",
   "execution_count": 18,
   "metadata": {},
   "outputs": [],
   "source": [
    "dist_query_segments += ' from districts;'\n",
    "# print(dist_query_segments)"
   ]
  },
  {
   "cell_type": "code",
   "execution_count": 19,
   "metadata": {},
   "outputs": [],
   "source": [
    "clip.copy(dist_query_segments)"
   ]
  },
  {
   "cell_type": "markdown",
   "metadata": {},
   "source": [
    "### National Rate calculations"
   ]
  },
  {
   "cell_type": "markdown",
   "metadata": {},
   "source": [
    "Calculate national rate for:\n",
    "1. White student groups for each metric\n",
    "2. All student groups for each metric"
   ]
  },
  {
   "cell_type": "code",
   "execution_count": 60,
   "metadata": {},
   "outputs": [],
   "source": [
    "national_query = 'Select 1'"
   ]
  },
  {
   "cell_type": "code",
   "execution_count": 61,
   "metadata": {},
   "outputs": [],
   "source": [
    "race = 'WH'\n",
    "\n",
    "disab=''\n",
    "for dis_status in disability:\n",
    "    if dis_status == 'WDIS':\n",
    "        disab = 'IDEA_'\n",
    "    for gender in genders:\n",
    "        if gender == 'both_genders':\n",
    "            query_segment = f'\\n, SUM(\"SCH_DISC{dis_status}_SINGOOS_{disab}{race}_M\" + \"SCH_DISC{dis_status}_SINGOOS_{disab}{race}_F\" + \"SCH_DISC{dis_status}_MULTOOS_{disab}{race}_F\" + \"SCH_DISC{dis_status}_MULTOOS_{disab}{race}_M\") / SUM(NULLIF(\"SCH_{disab[:4]}ENR_{race}_F\", 0) + NULLIF(\"SCH_{disab[:4]}ENR_{race}_M\", 0)) as ntl_{race}_{gender}_{dis_status}_suspension_rate'\n",
    "\n",
    "        else:\n",
    "            query_segment = f'\\n, SUM(\"SCH_DISC{dis_status}_MULTOOS_{disab}{race}_{gender}\" + \"SCH_DISC{dis_status}_SINGOOS_{disab}{race}_{gender}\") / SUM(NULLIF(\"SCH_{disab[:4]}ENR_{race}_{gender}\", 0)) as ntl_{race}_{gender}_{dis_status}_suspension_rate'\n",
    "\n",
    "        national_query += query_segment\n",
    "\n",
    "disab=''\n",
    "for metric in disciplinary_metrics:\n",
    "    for dis_status in disability:\n",
    "        if dis_status == 'WDIS':\n",
    "            metric += '_IDEA'\n",
    "            disab='IDEA'\n",
    "        for gender in genders:\n",
    "            if gender == 'both_genders':\n",
    "                query_segment = f'\\n, SUM(\"SCH_DISC{dis_status}_{metric}_{race}_F\" + \"SCH_DISC{dis_status}_{metric}_{race}_M\") / SUM((NULLIF(\"SCH_{disab}ENR_{race}_F\", 0) + NULLIF(\"SCH_{disab}ENR_{race}_M\", 0))) as ntl_{race}_{gender}_{dis_status}_{metric}_rate'\n",
    "\n",
    "            else:\n",
    "                query_segment = f'\\n, SUM(\"SCH_DISC{dis_status}_{metric}_{race}_{gender}\") / SUM(NULLIF(\"SCH_{disab}ENR_{race}_{gender}\", 0)) as ntl_{race}_{gender}_{dis_status}_{metric}_rate'\n",
    "\n",
    "            national_query += query_segment\n",
    "            \n",
    "for metric in academic_metrics:\n",
    "    for gender in genders:\n",
    "        if gender == 'both_genders':\n",
    "            query_segment = f'\\n, SUM(\"SCH_{metric}_{race}_F\" + \"SCH_{metric}_{race}_M\") / SUM(NULLIF(\"SCH_ENR_{race}_F\", 0) + NULLIF(\"SCH_ENR_{race}_M\", 0)) as ntl_{race}_{gender}_{metric}_rate'\n",
    "\n",
    "        else:\n",
    "            query_segment = f'\\n, SUM(\"SCH_{metric}_{race}_{gender}\") / SUM(NULLIF(\"SCH_ENR_{race}_{gender}\", 0)) as ntl_{race}_{gender}_{metric}_rate'\n",
    "\n",
    "        national_query += query_segment"
   ]
  },
  {
   "cell_type": "code",
   "execution_count": 62,
   "metadata": {},
   "outputs": [],
   "source": [
    "national_query += ' from districts;'"
   ]
  },
  {
   "cell_type": "code",
   "execution_count": 63,
   "metadata": {},
   "outputs": [],
   "source": [
    "clip.copy(national_query)"
   ]
  },
  {
   "cell_type": "markdown",
   "metadata": {},
   "source": [
    "Aggregates across all races"
   ]
  },
  {
   "cell_type": "code",
   "execution_count": 70,
   "metadata": {},
   "outputs": [],
   "source": [
    "all_races_qry = 'SELECT 1'\n",
    "\n",
    "disab=''\n",
    "for dis_status in disability:\n",
    "    if dis_status == 'WDIS':\n",
    "        disab = 'IDEA_'\n",
    "    for gender in genders:\n",
    "        if gender == 'both_genders':\n",
    "            query_segment = f'\\n, SUM(\"TOT_DISC{dis_status}_MULTOOS_{disab}F\" +\"TOT_DISC{dis_status}_SINGOOS_{disab}F\" + \"TOT_DISC{dis_status}_MULTOOS_{disab}M\" + \"TOT_DISC{dis_status}_SINGOOS_{disab}F\") / SUM((NULLIF(\"TOT_{disab[:4]}ENR_F\", 0) + NULLIF(\"TOT_{disab[:4]}ENR_M\", 0))) as ntl_all_races_{gender}_{dis_status}_suspensions_rate'\n",
    "\n",
    "        else:\n",
    "            query_segment = f'\\n, SUM(\"TOT_DISC{dis_status}_MULTOOS_{disab}{gender}\" + \"TOT_DISC{dis_status}_SINGOOS_{disab}{gender}\") / SUM(NULLIF(\"TOT_{disab[:4]}ENR_{gender}\", 0)) as ntl_all_races_{gender}_{dis_status}_suspension_rate'\n",
    "\n",
    "        all_races_qry += query_segment\n",
    "\n",
    "disab=''\n",
    "for metric in disciplinary_metrics:\n",
    "    for dis_status in disability:\n",
    "        if dis_status == 'WDIS':\n",
    "            metric += '_IDEA'\n",
    "            disab = 'IDEA'\n",
    "        for gender in genders:\n",
    "            if gender == 'both_genders':\n",
    "                query_segment = f'\\n, SUM(\"TOT_DISC{dis_status}_{metric}_F\" + \"TOT_DISC{dis_status}_{metric}_M\") / SUM((NULLIF(\"TOT_{disab}ENR_F\", 0) + NULLIF(\"TOT_{disab}ENR_M\", 0))) as ntl_all_races_{gender}_{dis_status}_{metric}_rate'\n",
    "\n",
    "            else:\n",
    "                query_segment = f'\\n, SUM(\"TOT_DISC{dis_status}_{metric}_{gender}\") / SUM(NULLIF(\"TOT_{disab}ENR_{gender}\", 0)) as ntl_all_races_{gender}_{dis_status}_{metric}_rate'\n",
    "\n",
    "            all_races_qry += query_segment\n",
    "            \n",
    "\n",
    "for metric in academic_metrics:\n",
    "    for gender in genders:\n",
    "        if gender == 'both_genders':\n",
    "            query_segment = f'\\n, SUM(\"TOT_{metric}_F\" + \"TOT_{metric}_M\") / SUM(NULLIF(\"TOT_ENR_F\", 0) + NULLIF(\"TOT_ENR_M\", 0)) as ntl_all_races_{gender}_{metric}_rate'\n",
    "\n",
    "        else:\n",
    "            query_segment = f'\\n, SUM(\"TOT_{metric}_{gender}\") / SUM(NULLIF(\"TOT_ENR_{gender}\", 0)) as ntl_all_races_{gender}_{metric}_rate'\n",
    "\n",
    "        all_races_qry += query_segment\n",
    "        \n",
    "all_races_qry += ' from districts;'        "
   ]
  },
  {
   "cell_type": "code",
   "execution_count": 71,
   "metadata": {
    "scrolled": true
   },
   "outputs": [
    {
     "name": "stdout",
     "output_type": "stream",
     "text": [
      "SELECT 1\n",
      ", SUM(\"TOT_DISCWODIS_MULTOOS_M\" + \"TOT_DISCWODIS_SINGOOS_M\") / SUM(NULLIF(\"TOT_ENR_M\", 0)) as ntl_all_races_M_WODIS_suspension_rate\n",
      ", SUM(\"TOT_DISCWODIS_MULTOOS_F\" + \"TOT_DISCWODIS_SINGOOS_F\") / SUM(NULLIF(\"TOT_ENR_F\", 0)) as ntl_all_races_F_WODIS_suspension_rate\n",
      ", SUM(\"TOT_DISCWODIS_MULTOOS_F\" +\"TOT_DISCWODIS_SINGOOS_F\" + \"TOT_DISCWODIS_MULTOOS_M\" + \"TOT_DISCWODIS_SINGOOS_F\") / SUM((NULLIF(\"TOT_ENR_F\", 0) + NULLIF(\"TOT_ENR_M\", 0))) as ntl_all_races_both_genders_WODIS_suspensions_rate\n",
      ", SUM(\"TOT_DISCWDIS_MULTOOS_IDEA_M\" + \"TOT_DISCWDIS_SINGOOS_IDEA_M\") / SUM(NULLIF(\"TOT_IDEAENR_M\", 0)) as ntl_all_races_M_WDIS_suspension_rate\n",
      ", SUM(\"TOT_DISCWDIS_MULTOOS_IDEA_F\" + \"TOT_DISCWDIS_SINGOOS_IDEA_F\") / SUM(NULLIF(\"TOT_IDEAENR_F\", 0)) as ntl_all_races_F_WDIS_suspension_rate\n",
      ", SUM(\"TOT_DISCWDIS_MULTOOS_IDEA_F\" +\"TOT_DISCWDIS_SINGOOS_IDEA_F\" + \"TOT_DISCWDIS_MULTOOS_IDEA_M\" + \"TOT_DISCWDIS_SINGOOS_IDEA_F\") / SUM((NULLIF(\"TOT_IDEAENR_F\", 0) + NULLIF(\"TOT_IDEAENR_M\", 0))) as ntl_all_races_both_genders_WDIS_suspensions_rate\n",
      ", SUM(\"TOT_DISCWODIS_REF_M\") / SUM(NULLIF(\"TOT_ENR_M\", 0)) as ntl_all_races_M_WODIS_REF_rate\n",
      ", SUM(\"TOT_DISCWODIS_REF_F\") / SUM(NULLIF(\"TOT_ENR_F\", 0)) as ntl_all_races_F_WODIS_REF_rate\n",
      ", SUM(\"TOT_DISCWODIS_REF_F\" + \"TOT_DISCWODIS_REF_M\") / SUM((NULLIF(\"TOT_ENR_F\", 0) + NULLIF(\"TOT_ENR_M\", 0))) as ntl_all_races_both_genders_WODIS_REF_rate\n",
      ", SUM(\"TOT_DISCWDIS_REF_IDEA_M\") / SUM(NULLIF(\"TOT_IDEAENR_M\", 0)) as ntl_all_races_M_WDIS_REF_IDEA_rate\n",
      ", SUM(\"TOT_DISCWDIS_REF_IDEA_F\") / SUM(NULLIF(\"TOT_IDEAENR_F\", 0)) as ntl_all_races_F_WDIS_REF_IDEA_rate\n",
      ", SUM(\"TOT_DISCWDIS_REF_IDEA_F\" + \"TOT_DISCWDIS_REF_IDEA_M\") / SUM((NULLIF(\"TOT_IDEAENR_F\", 0) + NULLIF(\"TOT_IDEAENR_M\", 0))) as ntl_all_races_both_genders_WDIS_REF_IDEA_rate\n",
      ", SUM(\"TOT_DISCWODIS_ARR_M\") / SUM(NULLIF(\"TOT_IDEAENR_M\", 0)) as ntl_all_races_M_WODIS_ARR_rate\n",
      ", SUM(\"TOT_DISCWODIS_ARR_F\") / SUM(NULLIF(\"TOT_IDEAENR_F\", 0)) as ntl_all_races_F_WODIS_ARR_rate\n",
      ", SUM(\"TOT_DISCWODIS_ARR_F\" + \"TOT_DISCWODIS_ARR_M\") / SUM((NULLIF(\"TOT_IDEAENR_F\", 0) + NULLIF(\"TOT_IDEAENR_M\", 0))) as ntl_all_races_both_genders_WODIS_ARR_rate\n",
      ", SUM(\"TOT_DISCWDIS_ARR_IDEA_M\") / SUM(NULLIF(\"TOT_IDEAENR_M\", 0)) as ntl_all_races_M_WDIS_ARR_IDEA_rate\n",
      ", SUM(\"TOT_DISCWDIS_ARR_IDEA_F\") / SUM(NULLIF(\"TOT_IDEAENR_F\", 0)) as ntl_all_races_F_WDIS_ARR_IDEA_rate\n",
      ", SUM(\"TOT_DISCWDIS_ARR_IDEA_F\" + \"TOT_DISCWDIS_ARR_IDEA_M\") / SUM((NULLIF(\"TOT_IDEAENR_F\", 0) + NULLIF(\"TOT_IDEAENR_M\", 0))) as ntl_all_races_both_genders_WDIS_ARR_IDEA_rate\n",
      ", SUM(\"TOT_GTENR_M\") / SUM(NULLIF(\"TOT_ENR_M\", 0)) as ntl_all_races_M_GTENR_rate\n",
      ", SUM(\"TOT_GTENR_F\") / SUM(NULLIF(\"TOT_ENR_F\", 0)) as ntl_all_races_F_GTENR_rate\n",
      ", SUM(\"TOT_GTENR_F\" + \"TOT_GTENR_M\") / SUM(NULLIF(\"TOT_ENR_F\", 0) + NULLIF(\"TOT_ENR_M\", 0)) as ntl_all_races_both_genders_GTENR_rate\n",
      ", SUM(\"TOT_APENR_M\") / SUM(NULLIF(\"TOT_ENR_M\", 0)) as ntl_all_races_M_APENR_rate\n",
      ", SUM(\"TOT_APENR_F\") / SUM(NULLIF(\"TOT_ENR_F\", 0)) as ntl_all_races_F_APENR_rate\n",
      ", SUM(\"TOT_APENR_F\" + \"TOT_APENR_M\") / SUM(NULLIF(\"TOT_ENR_F\", 0) + NULLIF(\"TOT_ENR_M\", 0)) as ntl_all_races_both_genders_APENR_rate from districts;\n"
     ]
    }
   ],
   "source": [
    "print(all_races_qry)"
   ]
  },
  {
   "cell_type": "code",
   "execution_count": 72,
   "metadata": {},
   "outputs": [],
   "source": [
    "clip.copy(all_races_qry)"
   ]
  },
  {
   "cell_type": "markdown",
   "metadata": {},
   "source": [
    "### Generate risk ratio queries"
   ]
  },
  {
   "cell_type": "code",
   "execution_count": null,
   "metadata": {},
   "outputs": [],
   "source": [
    "ratio_segments = 'SELECT 1 '\n",
    "\n",
    "for metric in disciplinary_metrics:\n",
    "    for dis_status in disability:\n",
    "        if dis_status == 'WDIS':\n",
    "            metric += '_IDEA'\n",
    "        for race in races:\n",
    "            for gender in genders:\n",
    "                all_race_ratio_query = f'\\n, (\"{race}_{gender}_{dis_status}_{metric}_rate\" / \"ntl_all_races_{gender}_{dis_status}_{metric}_rate\") as {race}_{gender}_{dis_status}_{metric}_risk_ratio_all_races'\n",
    "                white_student_ratio_query = f'\\n, (\"{race}_{gender}_{dis_status}_{metric}_rate\" / \"ntl_WH_{gender}_{dis_status}_{metric}_rate\") as {race}_{gender}_{dis_status}_{metric}_risk_ratio_white'\n",
    "                ratio_segments += all_race_ratio_query.lower()\n",
    "                ratio_segments += white_student_ratio_query.lower()\n",
    "\n",
    "ratio_segments += ' from (select * from district_rates cross join national_rates) full_table;'\n",
    "print(ratio_segments)"
   ]
  },
  {
   "cell_type": "code",
   "execution_count": null,
   "metadata": {},
   "outputs": [],
   "source": [
    "clip.copy(ratio_segments)"
   ]
  }
 ],
 "metadata": {
  "kernelspec": {
   "display_name": "Python 3",
   "language": "python",
   "name": "python3"
  },
  "language_info": {
   "codemirror_mode": {
    "name": "ipython",
    "version": 3
   },
   "file_extension": ".py",
   "mimetype": "text/x-python",
   "name": "python",
   "nbconvert_exporter": "python",
   "pygments_lexer": "ipython3",
   "version": "3.7.0"
  }
 },
 "nbformat": 4,
 "nbformat_minor": 2
}
