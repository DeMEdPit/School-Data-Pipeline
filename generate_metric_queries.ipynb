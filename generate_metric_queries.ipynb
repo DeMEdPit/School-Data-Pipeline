{
 "cells": [
  {
   "cell_type": "code",
   "execution_count": 21,
   "metadata": {},
   "outputs": [],
   "source": [
    "import pandas as pd"
   ]
  },
  {
   "cell_type": "code",
   "execution_count": 22,
   "metadata": {},
   "outputs": [],
   "source": [
    "races = ['BL', 'WH', 'AM', 'AS', 'HI', 'HP', 'TR']\n",
    "genders = ['M', 'F', 'both']\n",
    "school_metrics = ['MULTOOS', 'SINGOOS', 'REF', 'GTENR', 'APENR']\n",
    "disability = ['WODIS', 'WDIS']"
   ]
  },
  {
   "cell_type": "code",
   "execution_count": 23,
   "metadata": {},
   "outputs": [],
   "source": [
    "query_segments = []"
   ]
  },
  {
   "cell_type": "code",
   "execution_count": 25,
   "metadata": {},
   "outputs": [],
   "source": [
    "for metric in school_metrics:\n",
    "    for race in races:\n",
    "        for dis_status in disability:\n",
    "            for gender in genders:\n",
    "                if gender == 'both':\n",
    "                    district_query = f',(\"SCH_DISC{dis_status}_{metric}_{race}_F\" + \"SCH_DISC{dis_status}_{metric}_{race}_M\") / (NULLIF(\"SCH_ENR_{race}_F\", 0) + NULLIF(\"SCH_ENR_{race}_M\", 0))'\n",
    "\n",
    "                else:\n",
    "                    district_query = f',(\"SCH_DISC{dis_status}_{metric}_{race}_{gender}\" / (NULLIF(\"SCH_ENR_{race}_{gender}\", 0)'\n",
    "\n",
    "                query_segments.append(district_query)\n",
    "            break"
   ]
  },
  {
   "cell_type": "code",
   "execution_count": 27,
   "metadata": {},
   "outputs": [
    {
     "data": {
      "text/plain": [
       "210"
      ]
     },
     "execution_count": 27,
     "metadata": {},
     "output_type": "execute_result"
    }
   ],
   "source": [
    "len(query_segments)"
   ]
  },
  {
   "cell_type": "code",
   "execution_count": null,
   "metadata": {},
   "outputs": [],
   "source": [
    "select \"LEAID\"\n",
    "    ,\"SCH_ENR_BL_F\" + \"SCH_ENR_BL_M\" as bl_enrollment\n",
    "    ,\"SCH_ENR_WH_F\" + \"SCH_ENR_WH_M\" as wh_enrollment\n",
    "    ,(\"SCH_DISCWODIS_MULTOOS_BL_F\" + \"SCH_DISCWODIS_MULTOOS_BL_M\") / (NULLIF(\"SCH_ENR_BL_F\", 0) + NULLIF(\"SCH_ENR_BL_M\", 0)) as bl_no_disab_mult_suspension_rate\n",
    "    ,(\"SCH_DISCWODIS_MULTOOS_WH_F\" + \"SCH_DISCWODIS_MULTOOS_WH_M\") / (NULLIF(\"SCH_ENR_Wh_F\", 0) + NULLIF(\"SCH_ENR_WH_M\", 0)) as wh_no_disab_mult_suspension_rate\n",
    "    ,(\"SCH_DISCWODIS_SINGOOS_WH_F\" + \"SCH_DISCWODIS_SINGOOS_WH_M\") / (NULLIF(\"SCH_ENR_WH_F\", 0) + NULLIF(\"SCH_ENR_WH_M\", 0)) as wh_no_disab_sing_suspension_rate\n",
    "    ,(\"SCH_DISCWODIS_SINGOOS_BL_F\" + \"SCH_DISCWODIS_SINGOOS_BL_M\") / (NULLIF(\"SCH_ENR_BL_F\", 0) + NULLIF(\"SCH_ENR_BL_M\", 0)) as bl_no_disab_sing_suspension_rate\n",
    "    ,(\"SCH_DISCWODIS_REF_BL_F\" + \"SCH_DISCWODIS_REF_BL_M\")  / (NULLIF(\"SCH_ENR_BL_F\", 0) + NULLIF(\"SCH_ENR_BL_M\", 0)) as bl_no_disab_le_referral_rate\n",
    "    ,(\"SCH_DISCWODIS_REF_WH_F\" + \"SCH_DISCWODIS_REF_WH_M\")  / (NULLIF(\"SCH_ENR_WH_F\", 0) + NULLIF(\"SCH_ENR_WH_M\", 0)) as wh_no_disab_le_referral_rate\n"
   ]
  }
 ],
 "metadata": {
  "kernelspec": {
   "display_name": "Python 3",
   "language": "python",
   "name": "python3"
  },
  "language_info": {
   "codemirror_mode": {
    "name": "ipython",
    "version": 3
   },
   "file_extension": ".py",
   "mimetype": "text/x-python",
   "name": "python",
   "nbconvert_exporter": "python",
   "pygments_lexer": "ipython3",
   "version": "3.7.0"
  }
 },
 "nbformat": 4,
 "nbformat_minor": 2
}
