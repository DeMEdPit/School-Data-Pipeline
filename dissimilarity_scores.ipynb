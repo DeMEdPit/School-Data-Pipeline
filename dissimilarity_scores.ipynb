{
 "cells": [
  {
   "cell_type": "code",
   "execution_count": 31,
   "metadata": {},
   "outputs": [],
   "source": [
    "import jenkspy\n",
    "import pandas as pd"
   ]
  },
  {
   "cell_type": "code",
   "execution_count": 32,
   "metadata": {},
   "outputs": [],
   "source": [
    "df_11_12 = pd.read_csv('dissimilarity_11_12.csv', dtype={'LEAID':str})\n",
    "df_13_14 = pd.read_csv('dissimilarity_13_14.csv', dtype={'LEAID':str})\n",
    "df_15_16 = pd.read_csv('dissimilarity_15_16.csv', dtype={'LEAID':str})"
   ]
  },
  {
   "cell_type": "code",
   "execution_count": 33,
   "metadata": {},
   "outputs": [],
   "source": [
    "def classify(x, l1, l2):\n",
    "    if x <= l1:\n",
    "        return 'low'\n",
    "    if x <= l2:\n",
    "        return 'med'\n",
    "    if x < 1.0:\n",
    "        return 'high'"
   ]
  },
  {
   "cell_type": "code",
   "execution_count": 34,
   "metadata": {},
   "outputs": [],
   "source": [
    "def categorize_dscore(df_column):\n",
    "    list_of_values = df_column\n",
    "    breaks = jenkspy.jenks_breaks(list_of_values, nb_class=6)\n",
    "    lim1 = breaks[2]\n",
    "    lim2 = breaks[4]\n",
    "    return df_column.apply(lambda x: classify(x, lim1, lim2))"
   ]
  },
  {
   "cell_type": "code",
   "execution_count": 35,
   "metadata": {},
   "outputs": [],
   "source": [
    "frames = [df_11_12, df_13_14, df_15_16]"
   ]
  },
  {
   "cell_type": "code",
   "execution_count": 36,
   "metadata": {},
   "outputs": [],
   "source": [
    "for df in frames:\n",
    "    for col in df.columns:\n",
    "        if 'd_' in col:\n",
    "            df[f'classified_{col}'] = categorize_dscore(df[col])"
   ]
  },
  {
   "cell_type": "code",
   "execution_count": null,
   "metadata": {},
   "outputs": [],
   "source": []
  }
 ],
 "metadata": {
  "kernelspec": {
   "display_name": "Python 3",
   "language": "python",
   "name": "python3"
  },
  "language_info": {
   "codemirror_mode": {
    "name": "ipython",
    "version": 3
   },
   "file_extension": ".py",
   "mimetype": "text/x-python",
   "name": "python",
   "nbconvert_exporter": "python",
   "pygments_lexer": "ipython3",
   "version": "3.7.0"
  }
 },
 "nbformat": 4,
 "nbformat_minor": 2
}
