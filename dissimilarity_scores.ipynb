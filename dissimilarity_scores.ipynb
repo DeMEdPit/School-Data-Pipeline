{
 "cells": [
  {
   "cell_type": "code",
   "execution_count": 2,
   "metadata": {},
   "outputs": [],
   "source": [
    "import jenkspy"
   ]
  },
  {
   "cell_type": "code",
   "execution_count": null,
   "metadata": {},
   "outputs": [],
   "source": [
    "df = pd.read_csv('dissimilarity_table.csv')"
   ]
  },
  {
   "cell_type": "code",
   "execution_count": 3,
   "metadata": {},
   "outputs": [
    {
     "ename": "ValueError",
     "evalue": "Number of class have to be an integer greater than 2 and smaller than the number of values to use",
     "output_type": "error",
     "traceback": [
      "\u001b[0;31m---------------------------------------------------------------------------\u001b[0m",
      "\u001b[0;31mValueError\u001b[0m                                Traceback (most recent call last)",
      "\u001b[0;32m<ipython-input-3-068758b98a7e>\u001b[0m in \u001b[0;36m<module>\u001b[0;34m\u001b[0m\n\u001b[1;32m      1\u001b[0m \u001b[0mlist_of_values\u001b[0m \u001b[0;34m=\u001b[0m \u001b[0;34m[\u001b[0m\u001b[0;34m]\u001b[0m\u001b[0;34m\u001b[0m\u001b[0m\n\u001b[1;32m      2\u001b[0m \u001b[0;34m\u001b[0m\u001b[0m\n\u001b[0;32m----> 3\u001b[0;31m \u001b[0mbreaks\u001b[0m \u001b[0;34m=\u001b[0m \u001b[0mjenkspy\u001b[0m\u001b[0;34m.\u001b[0m\u001b[0mjenks_breaks\u001b[0m\u001b[0;34m(\u001b[0m\u001b[0mlist_of_values\u001b[0m\u001b[0;34m,\u001b[0m \u001b[0mnb_class\u001b[0m\u001b[0;34m=\u001b[0m\u001b[0;36m6\u001b[0m\u001b[0;34m)\u001b[0m\u001b[0;34m\u001b[0m\u001b[0m\n\u001b[0m",
      "\u001b[0;32m~/miniconda3/lib/python3.7/site-packages/jenkspy/core.py\u001b[0m in \u001b[0;36mjenks_breaks\u001b[0;34m(values, nb_class)\u001b[0m\n\u001b[1;32m     66\u001b[0m \u001b[0;34m\u001b[0m\u001b[0m\n\u001b[1;32m     67\u001b[0m     \u001b[0;32mif\u001b[0m \u001b[0mnb_class\u001b[0m \u001b[0;34m>=\u001b[0m \u001b[0mnb_values\u001b[0m \u001b[0;32mor\u001b[0m \u001b[0mnb_class\u001b[0m \u001b[0;34m<\u001b[0m \u001b[0;36m2\u001b[0m\u001b[0;34m:\u001b[0m\u001b[0;34m\u001b[0m\u001b[0m\n\u001b[0;32m---> 68\u001b[0;31m         raise ValueError(\"Number of class have to be an integer \"\n\u001b[0m\u001b[1;32m     69\u001b[0m                          \u001b[0;34m\"greater than 2 and \"\u001b[0m\u001b[0;34m\u001b[0m\u001b[0m\n\u001b[1;32m     70\u001b[0m                          \"smaller than the number of values to use\")\n",
      "\u001b[0;31mValueError\u001b[0m: Number of class have to be an integer greater than 2 and smaller than the number of values to use"
     ]
    }
   ],
   "source": [
    "list_of_values = []\n",
    "\n",
    "breaks = jenkspy.jenks_breaks(list_of_values, nb_class=6)"
   ]
  },
  {
   "cell_type": "code",
   "execution_count": null,
   "metadata": {},
   "outputs": [],
   "source": []
  }
 ],
 "metadata": {
  "kernelspec": {
   "display_name": "Python 3",
   "language": "python",
   "name": "python3"
  },
  "language_info": {
   "codemirror_mode": {
    "name": "ipython",
    "version": 3
   },
   "file_extension": ".py",
   "mimetype": "text/x-python",
   "name": "python",
   "nbconvert_exporter": "python",
   "pygments_lexer": "ipython3",
   "version": "3.7.0"
  }
 },
 "nbformat": 4,
 "nbformat_minor": 2
}
