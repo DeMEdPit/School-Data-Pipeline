{
 "cells": [
  {
   "cell_type": "code",
   "execution_count": 10,
   "metadata": {},
   "outputs": [],
   "source": [
    "import jenkspy\n",
    "import pandas as pd"
   ]
  },
  {
   "cell_type": "code",
   "execution_count": 11,
   "metadata": {},
   "outputs": [],
   "source": [
    "df_11_12 = pd.read_csv('dissimilarity_11_12.csv', dtype={'LEAID':str})\n",
    "df_13_14 = pd.read_csv('dissimilarity_13_14.csv', dtype={'LEAID':str})\n",
    "df_15_16 = pd.read_csv('dissimilarity_15_16.csv', dtype={'LEAID':str})"
   ]
  },
  {
   "cell_type": "code",
   "execution_count": 12,
   "metadata": {},
   "outputs": [
    {
     "data": {
      "text/html": [
       "<div>\n",
       "<style scoped>\n",
       "    .dataframe tbody tr th:only-of-type {\n",
       "        vertical-align: middle;\n",
       "    }\n",
       "\n",
       "    .dataframe tbody tr th {\n",
       "        vertical-align: top;\n",
       "    }\n",
       "\n",
       "    .dataframe thead th {\n",
       "        text-align: right;\n",
       "    }\n",
       "</style>\n",
       "<table border=\"1\" class=\"dataframe\">\n",
       "  <thead>\n",
       "    <tr style=\"text-align: right;\">\n",
       "      <th></th>\n",
       "      <th>LEAID</th>\n",
       "      <th>YEAR</th>\n",
       "      <th>d_wh_bl</th>\n",
       "      <th>d_wh_as</th>\n",
       "      <th>d_wh_am</th>\n",
       "      <th>d_wh_tr</th>\n",
       "      <th>d_wh_hp</th>\n",
       "      <th>d_wh_hi</th>\n",
       "    </tr>\n",
       "  </thead>\n",
       "  <tbody>\n",
       "    <tr>\n",
       "      <th>0</th>\n",
       "      <td>0100005</td>\n",
       "      <td>2011-12</td>\n",
       "      <td>0.089924</td>\n",
       "      <td>0.085290</td>\n",
       "      <td>0.394366</td>\n",
       "      <td>0.383412</td>\n",
       "      <td>NaN</td>\n",
       "      <td>0.189489</td>\n",
       "    </tr>\n",
       "    <tr>\n",
       "      <th>1</th>\n",
       "      <td>0100007</td>\n",
       "      <td>2011-12</td>\n",
       "      <td>0.131596</td>\n",
       "      <td>0.177925</td>\n",
       "      <td>0.548135</td>\n",
       "      <td>0.154384</td>\n",
       "      <td>0.310346</td>\n",
       "      <td>0.294167</td>\n",
       "    </tr>\n",
       "    <tr>\n",
       "      <th>2</th>\n",
       "      <td>0100008</td>\n",
       "      <td>2011-12</td>\n",
       "      <td>0.055366</td>\n",
       "      <td>0.128695</td>\n",
       "      <td>0.205811</td>\n",
       "      <td>0.221983</td>\n",
       "      <td>0.190846</td>\n",
       "      <td>0.168190</td>\n",
       "    </tr>\n",
       "    <tr>\n",
       "      <th>3</th>\n",
       "      <td>0100120</td>\n",
       "      <td>2011-12</td>\n",
       "      <td>0.055468</td>\n",
       "      <td>0.281955</td>\n",
       "      <td>0.432868</td>\n",
       "      <td>0.316327</td>\n",
       "      <td>0.758861</td>\n",
       "      <td>0.139720</td>\n",
       "    </tr>\n",
       "    <tr>\n",
       "      <th>4</th>\n",
       "      <td>0100190</td>\n",
       "      <td>2011-12</td>\n",
       "      <td>NaN</td>\n",
       "      <td>NaN</td>\n",
       "      <td>NaN</td>\n",
       "      <td>NaN</td>\n",
       "      <td>NaN</td>\n",
       "      <td>NaN</td>\n",
       "    </tr>\n",
       "    <tr>\n",
       "      <th>...</th>\n",
       "      <td>...</td>\n",
       "      <td>...</td>\n",
       "      <td>...</td>\n",
       "      <td>...</td>\n",
       "      <td>...</td>\n",
       "      <td>...</td>\n",
       "      <td>...</td>\n",
       "      <td>...</td>\n",
       "    </tr>\n",
       "    <tr>\n",
       "      <th>2844</th>\n",
       "      <td>5601980</td>\n",
       "      <td>2011-12</td>\n",
       "      <td>0.236865</td>\n",
       "      <td>0.201382</td>\n",
       "      <td>0.222108</td>\n",
       "      <td>0.213396</td>\n",
       "      <td>0.192335</td>\n",
       "      <td>0.206062</td>\n",
       "    </tr>\n",
       "    <tr>\n",
       "      <th>2845</th>\n",
       "      <td>5602870</td>\n",
       "      <td>2011-12</td>\n",
       "      <td>0.224878</td>\n",
       "      <td>0.210868</td>\n",
       "      <td>0.190960</td>\n",
       "      <td>0.103914</td>\n",
       "      <td>NaN</td>\n",
       "      <td>0.094543</td>\n",
       "    </tr>\n",
       "    <tr>\n",
       "      <th>2846</th>\n",
       "      <td>5604510</td>\n",
       "      <td>2011-12</td>\n",
       "      <td>0.272156</td>\n",
       "      <td>0.227567</td>\n",
       "      <td>0.326868</td>\n",
       "      <td>0.330308</td>\n",
       "      <td>0.580203</td>\n",
       "      <td>0.223191</td>\n",
       "    </tr>\n",
       "    <tr>\n",
       "      <th>2847</th>\n",
       "      <td>5605220</td>\n",
       "      <td>2011-12</td>\n",
       "      <td>0.384576</td>\n",
       "      <td>0.145963</td>\n",
       "      <td>0.099047</td>\n",
       "      <td>0.224910</td>\n",
       "      <td>0.354037</td>\n",
       "      <td>0.236127</td>\n",
       "    </tr>\n",
       "    <tr>\n",
       "      <th>2848</th>\n",
       "      <td>5605302</td>\n",
       "      <td>2011-12</td>\n",
       "      <td>0.202587</td>\n",
       "      <td>0.236142</td>\n",
       "      <td>0.204361</td>\n",
       "      <td>0.336786</td>\n",
       "      <td>0.628929</td>\n",
       "      <td>0.187366</td>\n",
       "    </tr>\n",
       "  </tbody>\n",
       "</table>\n",
       "<p>2849 rows × 8 columns</p>\n",
       "</div>"
      ],
      "text/plain": [
       "        LEAID     YEAR   d_wh_bl   d_wh_as   d_wh_am   d_wh_tr   d_wh_hp  \\\n",
       "0     0100005  2011-12  0.089924  0.085290  0.394366  0.383412       NaN   \n",
       "1     0100007  2011-12  0.131596  0.177925  0.548135  0.154384  0.310346   \n",
       "2     0100008  2011-12  0.055366  0.128695  0.205811  0.221983  0.190846   \n",
       "3     0100120  2011-12  0.055468  0.281955  0.432868  0.316327  0.758861   \n",
       "4     0100190  2011-12       NaN       NaN       NaN       NaN       NaN   \n",
       "...       ...      ...       ...       ...       ...       ...       ...   \n",
       "2844  5601980  2011-12  0.236865  0.201382  0.222108  0.213396  0.192335   \n",
       "2845  5602870  2011-12  0.224878  0.210868  0.190960  0.103914       NaN   \n",
       "2846  5604510  2011-12  0.272156  0.227567  0.326868  0.330308  0.580203   \n",
       "2847  5605220  2011-12  0.384576  0.145963  0.099047  0.224910  0.354037   \n",
       "2848  5605302  2011-12  0.202587  0.236142  0.204361  0.336786  0.628929   \n",
       "\n",
       "       d_wh_hi  \n",
       "0     0.189489  \n",
       "1     0.294167  \n",
       "2     0.168190  \n",
       "3     0.139720  \n",
       "4          NaN  \n",
       "...        ...  \n",
       "2844  0.206062  \n",
       "2845  0.094543  \n",
       "2846  0.223191  \n",
       "2847  0.236127  \n",
       "2848  0.187366  \n",
       "\n",
       "[2849 rows x 8 columns]"
      ]
     },
     "execution_count": 12,
     "metadata": {},
     "output_type": "execute_result"
    }
   ],
   "source": [
    "df_11_12"
   ]
  },
  {
   "cell_type": "code",
   "execution_count": 13,
   "metadata": {},
   "outputs": [],
   "source": [
    "list_of_values = df_11_12['d_wh_bl']"
   ]
  },
  {
   "cell_type": "code",
   "execution_count": 14,
   "metadata": {},
   "outputs": [
    {
     "name": "stderr",
     "output_type": "stream",
     "text": [
      "/Users/cave/miniconda3/lib/python3.7/site-packages/jenkspy/core.py:64: UserWarning: Invalid values encountered (NaN or Inf) were ignored\n",
      "  warnings.warn('Invalid values encountered (NaN or Inf) were ignored')\n"
     ]
    }
   ],
   "source": [
    "breaks = jenkspy.jenks_breaks(list_of_values, nb_class=6)"
   ]
  },
  {
   "cell_type": "code",
   "execution_count": 15,
   "metadata": {},
   "outputs": [
    {
     "data": {
      "text/plain": [
       "[0.0,\n",
       " 0.13107028175475022,\n",
       " 0.20385711421697789,\n",
       " 0.2908086057272943,\n",
       " 0.4031890660592255,\n",
       " 0.5527762262618057,\n",
       " 0.8457644908685261]"
      ]
     },
     "execution_count": 15,
     "metadata": {},
     "output_type": "execute_result"
    }
   ],
   "source": [
    "breaks"
   ]
  },
  {
   "cell_type": "code",
   "execution_count": null,
   "metadata": {},
   "outputs": [],
   "source": []
  }
 ],
 "metadata": {
  "kernelspec": {
   "display_name": "Python 3",
   "language": "python",
   "name": "python3"
  },
  "language_info": {
   "codemirror_mode": {
    "name": "ipython",
    "version": 3
   },
   "file_extension": ".py",
   "mimetype": "text/x-python",
   "name": "python",
   "nbconvert_exporter": "python",
   "pygments_lexer": "ipython3",
   "version": "3.7.0"
  }
 },
 "nbformat": 4,
 "nbformat_minor": 2
}
