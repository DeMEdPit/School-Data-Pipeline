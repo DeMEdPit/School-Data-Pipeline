{
 "cells": [
  {
   "cell_type": "code",
   "execution_count": 2,
   "metadata": {},
   "outputs": [
    {
     "name": "stdout",
     "output_type": "stream",
     "text": [
      "The autoreload extension is already loaded. To reload it, use:\n",
      "  %reload_ext autoreload\n"
     ]
    }
   ],
   "source": [
    "import pandas as pd\n",
    "from utils import aggregate_data, join_col_descriptions, categorize_school_level\n",
    "\n",
    "%load_ext autoreload\n",
    "%autoreload 2"
   ]
  },
  {
   "cell_type": "code",
   "execution_count": 3,
   "metadata": {},
   "outputs": [],
   "source": [
    "# df = pd.read_csv('/Users/cave/Desktop/discriminology/output/district_level_aggregates.csv', header=[0,1], index_col=0)\n",
    "# df.columns = df.columns.droplevel(1)\n",
    "# df.to_csv('~/Desktop/discriminology/output/db_upload_districts.csv')\n",
    "# list(df.columns)"
   ]
  },
  {
   "cell_type": "markdown",
   "metadata": {},
   "source": [
    "Read field mapping and data types from [dictionary](https://docs.google.com/spreadsheets/d/1mO7Tnbn9hwHcJ0hj8gBBp5MhHGDqmgGw8X3-b-s6SKs/edit#gid=0)"
   ]
  },
  {
   "cell_type": "code",
   "execution_count": 4,
   "metadata": {},
   "outputs": [],
   "source": [
    "field_mappings = pd.read_excel('/Users/cave/Desktop/discriminology/field_mapping.xlsx')"
   ]
  },
  {
   "cell_type": "markdown",
   "metadata": {},
   "source": [
    "### Extract methodology fields for each year"
   ]
  },
  {
   "cell_type": "code",
   "execution_count": 5,
   "metadata": {},
   "outputs": [],
   "source": [
    "fields_1112 = field_mappings['11_12_field'].dropna().values\n",
    "fields_1314 = field_mappings['13_14_field'].dropna().values\n",
    "fields_1516 = field_mappings['15_16_field'].dropna().values"
   ]
  },
  {
   "cell_type": "code",
   "execution_count": 6,
   "metadata": {},
   "outputs": [],
   "source": [
    "map_ = field_mappings[['11_12_field', '13_14_field', 'type']].dropna(subset=['11_12_field'])\n",
    "map_2 = field_mappings[['11_12_field', '13_14_field']].dropna(subset=['11_12_field', '13_14_field'])\n",
    "map_11_12 = pd.Series(map_2['13_14_field'].values, index=map_2['11_12_field']).to_dict()\n",
    "type_dict_11_12 = pd.Series(map_['type'].values, index=map_['11_12_field']).to_dict()\n",
    "final_type_dict_11_12 = {k:v for k,v in type_dict_11_12.items() if v !='str'}"
   ]
  },
  {
   "cell_type": "code",
   "execution_count": 7,
   "metadata": {},
   "outputs": [],
   "source": [
    "field_mappings['col_superset'] = field_mappings['15_16_field'].combine_first(field_mappings['11_12_field'])\n",
    "type_map = pd.Series(field_mappings.type.values, index=field_mappings.col_superset).to_dict()\n",
    "numeric_type_map = {k:v for k,v in type_map.items() if v !='str'}"
   ]
  },
  {
   "cell_type": "code",
   "execution_count": 8,
   "metadata": {},
   "outputs": [],
   "source": [
    "field_mappings[['col_superset', 'description']]\n",
    "descriptions = field_mappings[['col_superset', 'description']].set_index('col_superset')"
   ]
  },
  {
   "cell_type": "markdown",
   "metadata": {},
   "source": [
    "Generate SQL create statement for school table in AWS"
   ]
  },
  {
   "cell_type": "code",
   "execution_count": 11,
   "metadata": {},
   "outputs": [
    {
     "name": "stdout",
     "output_type": "stream",
     "text": [
      "\"SCH_FTECOUNSELORS\" double precision,\n",
      "\"SCH_FTESERVICES_PSY\" double precision,\n",
      "\"SCH_FTESERVICES_SOC\" double precision,\n",
      "\"SCH_FTESECURITY_LEO\" double precision,\n",
      "\"SCH_FTESECURITY_GUA\" double precision,\n",
      "\"SCH_ENR_AM_M\" double precision,\n",
      "\"SCH_ENR_AS_M\" double precision,\n",
      "\"SCH_ENR_HI_M\" double precision,\n",
      "\"SCH_ENR_BL_M\" double precision,\n",
      "\"SCH_ENR_WH_M\" double precision,\n",
      "\"SCH_ENR_HP_M\" double precision,\n",
      "\"SCH_ENR_TR_M\" double precision,\n",
      "\"TOT_ENR_M\" double precision,\n",
      "\"SCH_ENR_AM_F\" double precision,\n",
      "\"SCH_ENR_AS_F\" double precision,\n",
      "\"SCH_ENR_HI_F\" double precision,\n",
      "\"SCH_ENR_BL_F\" double precision,\n",
      "\"SCH_ENR_WH_F\" double precision,\n",
      "\"SCH_ENR_HP_F\" double precision,\n",
      "\"SCH_ENR_TR_F\" double precision,\n",
      "\"TOT_ENR_F\" double precision,\n",
      "\"SCH_GTENR_AM_M\" double precision,\n",
      "\"SCH_GTENR_AS_M\" double precision,\n",
      "\"SCH_GTENR_HI_M\" double precision,\n",
      "\"SCH_GTENR_BL_M\" double precision,\n",
      "\"SCH_GTENR_WH_M\" double precision,\n",
      "\"SCH_GTENR_HP_M\" double precision,\n",
      "\"SCH_GTENR_TR_M\" double precision,\n",
      "\"TOT_GTENR_M\" double precision,\n",
      "\"SCH_GTENR_AM_F\" double precision,\n",
      "\"SCH_GTENR_AS_F\" double precision,\n",
      "\"SCH_GTENR_HI_F\" double precision,\n",
      "\"SCH_GTENR_BL_F\" double precision,\n",
      "\"SCH_GTENR_WH_F\" double precision,\n",
      "\"SCH_GTENR_HP_F\" double precision,\n",
      "\"SCH_GTENR_TR_F\" double precision,\n",
      "\"TOT_GTENR_F\" double precision,\n",
      "\"SCH_GTENR_LEP_M\" double precision,\n",
      "\"SCH_GTENR_LEP_F\" double precision,\n",
      "\"SCH_GTENR_IDEA_M\" double precision,\n",
      "\"SCH_GTENR_IDEA_F\" double precision,\n",
      "\"SCH_APENR_AM_M\" double precision,\n",
      "\"SCH_APENR_AS_M\" double precision,\n",
      "\"SCH_APENR_HI_M\" double precision,\n",
      "\"SCH_APENR_BL_M\" double precision,\n",
      "\"SCH_APENR_WH_M\" double precision,\n",
      "\"SCH_APENR_HP_M\" double precision,\n",
      "\"SCH_APENR_TR_M\" double precision,\n",
      "\"TOT_APENR_M\" double precision,\n",
      "\"SCH_APENR_AM_F\" double precision,\n",
      "\"SCH_APENR_AS_F\" double precision,\n",
      "\"SCH_APENR_HI_F\" double precision,\n",
      "\"SCH_APENR_BL_F\" double precision,\n",
      "\"SCH_APENR_WH_F\" double precision,\n",
      "\"SCH_APENR_HP_F\" double precision,\n",
      "\"SCH_APENR_TR_F\" double precision,\n",
      "\"TOT_APENR_F\" double precision,\n",
      "\"SCH_IDEAENR_AM_M\" double precision,\n",
      "\"SCH_IDEAENR_AS_M\" double precision,\n",
      "\"SCH_IDEAENR_HI_M\" double precision,\n",
      "\"SCH_IDEAENR_BL_M\" double precision,\n",
      "\"SCH_IDEAENR_WH_M\" double precision,\n",
      "\"SCH_IDEAENR_HP_M\" double precision,\n",
      "\"SCH_IDEAENR_TR_M\" double precision,\n",
      "\"TOT_IDEAENR_M\" double precision,\n",
      "\"SCH_IDEAENR_AM_F\" double precision,\n",
      "\"SCH_IDEAENR_AS_F\" double precision,\n",
      "\"SCH_IDEAENR_HI_F\" double precision,\n",
      "\"SCH_IDEAENR_BL_F\" double precision,\n",
      "\"SCH_IDEAENR_WH_F\" double precision,\n",
      "\"SCH_IDEAENR_HP_F\" double precision,\n",
      "\"SCH_IDEAENR_TR_F\" double precision,\n",
      "\"TOT_IDEAENR_F\" double precision,\n",
      "\"SCH_DISCWODIS_SINGOOS_AM_M\" double precision,\n",
      "\"SCH_DISCWODIS_SINGOOS_AS_M\" double precision,\n",
      "\"SCH_DISCWODIS_SINGOOS_HI_M\" double precision,\n",
      "\"SCH_DISCWODIS_SINGOOS_BL_M\" double precision,\n",
      "\"SCH_DISCWODIS_SINGOOS_WH_M\" double precision,\n",
      "\"SCH_DISCWODIS_SINGOOS_HP_M\" double precision,\n",
      "\"SCH_DISCWODIS_SINGOOS_TR_M\" double precision,\n",
      "\"TOT_DISCWODIS_SINGOOS_M\" double precision,\n",
      "\"SCH_DISCWODIS_SINGOOS_AM_F\" double precision,\n",
      "\"SCH_DISCWODIS_SINGOOS_AS_F\" double precision,\n",
      "\"SCH_DISCWODIS_SINGOOS_HI_F\" double precision,\n",
      "\"SCH_DISCWODIS_SINGOOS_BL_F\" double precision,\n",
      "\"SCH_DISCWODIS_SINGOOS_WH_F\" double precision,\n",
      "\"SCH_DISCWODIS_SINGOOS_HP_F\" double precision,\n",
      "\"SCH_DISCWODIS_SINGOOS_TR_F\" double precision,\n",
      "\"TOT_DISCWODIS_SINGOOS_F\" double precision,\n",
      "\"SCH_DISCWODIS_MULTOOS_AM_M\" double precision,\n",
      "\"SCH_DISCWODIS_MULTOOS_AS_M\" double precision,\n",
      "\"SCH_DISCWODIS_MULTOOS_HI_M\" double precision,\n",
      "\"SCH_DISCWODIS_MULTOOS_BL_M\" double precision,\n",
      "\"SCH_DISCWODIS_MULTOOS_WH_M\" double precision,\n",
      "\"SCH_DISCWODIS_MULTOOS_HP_M\" double precision,\n",
      "\"SCH_DISCWODIS_MULTOOS_TR_M\" double precision,\n",
      "\"TOT_DISCWODIS_MULTOOS_M\" double precision,\n",
      "\"SCH_DISCWODIS_MULTOOS_AM_F\" double precision,\n",
      "\"SCH_DISCWODIS_MULTOOS_AS_F\" double precision,\n",
      "\"SCH_DISCWODIS_MULTOOS_HI_F\" double precision,\n",
      "\"SCH_DISCWODIS_MULTOOS_BL_F\" double precision,\n",
      "\"SCH_DISCWODIS_MULTOOS_WH_F\" double precision,\n",
      "\"SCH_DISCWODIS_MULTOOS_HP_F\" double precision,\n",
      "\"SCH_DISCWODIS_MULTOOS_TR_F\" double precision,\n",
      "\"TOT_DISCWODIS_MULTOOS_F\" double precision,\n",
      "\"SCH_DISCWDIS_SINGOOS_IDEA_AM_M\" double precision,\n",
      "\"SCH_DISCWDIS_SINGOOS_IDEA_AS_M\" double precision,\n",
      "\"SCH_DISCWDIS_SINGOOS_IDEA_HI_M\" double precision,\n",
      "\"SCH_DISCWDIS_SINGOOS_IDEA_BL_M\" double precision,\n",
      "\"SCH_DISCWDIS_SINGOOS_IDEA_WH_M\" double precision,\n",
      "\"SCH_DISCWDIS_SINGOOS_IDEA_HP_M\" double precision,\n",
      "\"SCH_DISCWDIS_SINGOOS_IDEA_TR_M\" double precision,\n",
      "\"TOT_DISCWDIS_SINGOOS_IDEA_M\" double precision,\n",
      "\"SCH_DISCWDIS_SINGOOS_IDEA_AM_F\" double precision,\n",
      "\"SCH_DISCWDIS_SINGOOS_IDEA_AS_F\" double precision,\n",
      "\"SCH_DISCWDIS_SINGOOS_IDEA_HI_F\" double precision,\n",
      "\"SCH_DISCWDIS_SINGOOS_IDEA_BL_F\" double precision,\n",
      "\"SCH_DISCWDIS_SINGOOS_IDEA_WH_F\" double precision,\n",
      "\"SCH_DISCWDIS_SINGOOS_IDEA_HP_F\" double precision,\n",
      "\"SCH_DISCWDIS_SINGOOS_IDEA_TR_F\" double precision,\n",
      "\"TOT_DISCWDIS_SINGOOS_IDEA_F\" double precision,\n",
      "\"SCH_DISCWDIS_MULTOOS_IDEA_AM_M\" double precision,\n",
      "\"SCH_DISCWDIS_MULTOOS_IDEA_AS_M\" double precision,\n",
      "\"SCH_DISCWDIS_MULTOOS_IDEA_HI_M\" double precision,\n",
      "\"SCH_DISCWDIS_MULTOOS_IDEA_BL_M\" double precision,\n",
      "\"SCH_DISCWDIS_MULTOOS_IDEA_WH_M\" double precision,\n",
      "\"SCH_DISCWDIS_MULTOOS_IDEA_HP_M\" double precision,\n",
      "\"SCH_DISCWDIS_MULTOOS_IDEA_TR_M\" double precision,\n",
      "\"TOT_DISCWDIS_MULTOOS_IDEA_M\" double precision,\n",
      "\"SCH_DISCWDIS_MULTOOS_IDEA_AM_F\" double precision,\n",
      "\"SCH_DISCWDIS_MULTOOS_IDEA_AS_F\" double precision,\n",
      "\"SCH_DISCWDIS_MULTOOS_IDEA_HI_F\" double precision,\n",
      "\"SCH_DISCWDIS_MULTOOS_IDEA_BL_F\" double precision,\n",
      "\"SCH_DISCWDIS_MULTOOS_IDEA_WH_F\" double precision,\n",
      "\"SCH_DISCWDIS_MULTOOS_IDEA_HP_F\" double precision,\n",
      "\"SCH_DISCWDIS_MULTOOS_IDEA_TR_F\" double precision,\n",
      "\"TOT_DISCWDIS_MULTOOS_IDEA_F\" double precision,\n",
      "\"SCH_DISCWODIS_REF_AM_M\" double precision,\n",
      "\"SCH_DISCWODIS_REF_AS_M\" double precision,\n",
      "\"SCH_DISCWODIS_REF_HI_M\" double precision,\n",
      "\"SCH_DISCWODIS_REF_BL_M\" double precision,\n",
      "\"SCH_DISCWODIS_REF_WH_M\" double precision,\n",
      "\"SCH_DISCWODIS_REF_HP_M\" double precision,\n",
      "\"SCH_DISCWODIS_REF_TR_M\" double precision,\n",
      "\"TOT_DISCWODIS_REF_M\" double precision,\n",
      "\"SCH_DISCWODIS_REF_AM_F\" double precision,\n",
      "\"SCH_DISCWODIS_REF_AS_F\" double precision,\n",
      "\"SCH_DISCWODIS_REF_HI_F\" double precision,\n",
      "\"SCH_DISCWODIS_REF_BL_F\" double precision,\n",
      "\"SCH_DISCWODIS_REF_WH_F\" double precision,\n",
      "\"SCH_DISCWODIS_REF_HP_F\" double precision,\n",
      "\"SCH_DISCWODIS_REF_TR_F\" double precision,\n",
      "\"TOT_DISCWODIS_REF_F\" double precision,\n",
      "\"SCH_DISCWDIS_REF_IDEA_AM_M\" double precision,\n",
      "\"SCH_DISCWDIS_REF_IDEA_AS_M\" double precision,\n",
      "\"SCH_DISCWDIS_REF_IDEA_HI_M\" double precision,\n",
      "\"SCH_DISCWDIS_REF_IDEA_BL_M\" double precision,\n",
      "\"SCH_DISCWDIS_REF_IDEA_WH_M\" double precision,\n",
      "\"SCH_DISCWDIS_REF_IDEA_HP_M\" double precision,\n",
      "\"SCH_DISCWDIS_REF_IDEA_TR_M\" double precision,\n",
      "\"TOT_DISCWDIS_REF_IDEA_M\" double precision,\n",
      "\"SCH_DISCWDIS_REF_IDEA_AM_F\" double precision,\n",
      "\"SCH_DISCWDIS_REF_IDEA_AS_F\" double precision,\n",
      "\"SCH_DISCWDIS_REF_IDEA_HI_F\" double precision,\n",
      "\"SCH_DISCWDIS_REF_IDEA_BL_F\" double precision,\n",
      "\"SCH_DISCWDIS_REF_IDEA_WH_F\" double precision,\n",
      "\"SCH_DISCWDIS_REF_IDEA_HP_F\" double precision,\n",
      "\"SCH_DISCWDIS_REF_IDEA_TR_F\" double precision,\n",
      "\"TOT_DISCWDIS_REF_IDEA_F\" double precision,\n",
      "\"SCH_DISCWODIS_ARR_AM_M\" double precision,\n",
      "\"SCH_DISCWODIS_ARR_AS_M\" double precision,\n",
      "\"SCH_DISCWODIS_ARR_HI_M\" double precision,\n",
      "\"SCH_DISCWODIS_ARR_BL_M\" double precision,\n",
      "\"SCH_DISCWODIS_ARR_WH_M\" double precision,\n",
      "\"SCH_DISCWODIS_ARR_HP_M\" double precision,\n",
      "\"SCH_DISCWODIS_ARR_TR_M\" double precision,\n",
      "\"TOT_DISCWODIS_ARR_M\" double precision,\n",
      "\"SCH_DISCWODIS_ARR_AM_F\" double precision,\n",
      "\"SCH_DISCWODIS_ARR_AS_F\" double precision,\n",
      "\"SCH_DISCWODIS_ARR_HI_F\" double precision,\n",
      "\"SCH_DISCWODIS_ARR_BL_F\" double precision,\n",
      "\"SCH_DISCWODIS_ARR_WH_F\" double precision,\n",
      "\"SCH_DISCWODIS_ARR_HP_F\" double precision,\n",
      "\"SCH_DISCWODIS_ARR_TR_F\" double precision,\n",
      "\"TOT_DISCWODIS_ARR_F\" double precision,\n",
      "\"SCH_DISCWDIS_ARR_IDEA_AM_M\" double precision,\n",
      "\"SCH_DISCWDIS_ARR_IDEA_AS_M\" double precision,\n",
      "\"SCH_DISCWDIS_ARR_IDEA_HI_M\" double precision,\n",
      "\"SCH_DISCWDIS_ARR_IDEA_BL_M\" double precision,\n",
      "\"SCH_DISCWDIS_ARR_IDEA_WH_M\" double precision,\n",
      "\"SCH_DISCWDIS_ARR_IDEA_HP_M\" double precision,\n",
      "\"SCH_DISCWDIS_ARR_IDEA_TR_M\" double precision,\n",
      "\"TOT_DISCWDIS_ARR_IDEA_M\" double precision,\n",
      "\"SCH_DISCWDIS_ARR_IDEA_AM_F\" double precision,\n",
      "\"SCH_DISCWDIS_ARR_IDEA_AS_F\" double precision,\n",
      "\"SCH_DISCWDIS_ARR_IDEA_HI_F\" double precision,\n",
      "\"SCH_DISCWDIS_ARR_IDEA_BL_F\" double precision,\n",
      "\"SCH_DISCWDIS_ARR_IDEA_WH_F\" double precision,\n",
      "\"SCH_DISCWDIS_ARR_IDEA_HP_F\" double precision,\n",
      "\"SCH_DISCWDIS_ARR_IDEA_TR_F\" double precision,\n",
      "\"TOT_DISCWDIS_ARR_IDEA_F\" double precision,\n"
     ]
    },
    {
     "data": {
      "text/plain": [
       "[None,\n",
       " None,\n",
       " None,\n",
       " None,\n",
       " None,\n",
       " None,\n",
       " None,\n",
       " None,\n",
       " None,\n",
       " None,\n",
       " None,\n",
       " None,\n",
       " None,\n",
       " None,\n",
       " None,\n",
       " None,\n",
       " None,\n",
       " None,\n",
       " None,\n",
       " None,\n",
       " None,\n",
       " None,\n",
       " None,\n",
       " None,\n",
       " None,\n",
       " None,\n",
       " None,\n",
       " None,\n",
       " None,\n",
       " None,\n",
       " None,\n",
       " None,\n",
       " None,\n",
       " None,\n",
       " None,\n",
       " None,\n",
       " None,\n",
       " None,\n",
       " None,\n",
       " None,\n",
       " None,\n",
       " None,\n",
       " None,\n",
       " None,\n",
       " None,\n",
       " None,\n",
       " None,\n",
       " None,\n",
       " None,\n",
       " None,\n",
       " None,\n",
       " None,\n",
       " None,\n",
       " None,\n",
       " None,\n",
       " None,\n",
       " None,\n",
       " None,\n",
       " None,\n",
       " None,\n",
       " None,\n",
       " None,\n",
       " None,\n",
       " None,\n",
       " None,\n",
       " None,\n",
       " None,\n",
       " None,\n",
       " None,\n",
       " None,\n",
       " None,\n",
       " None,\n",
       " None,\n",
       " None,\n",
       " None,\n",
       " None,\n",
       " None,\n",
       " None,\n",
       " None,\n",
       " None,\n",
       " None,\n",
       " None,\n",
       " None,\n",
       " None,\n",
       " None,\n",
       " None,\n",
       " None,\n",
       " None,\n",
       " None,\n",
       " None,\n",
       " None,\n",
       " None,\n",
       " None,\n",
       " None,\n",
       " None,\n",
       " None,\n",
       " None,\n",
       " None,\n",
       " None,\n",
       " None,\n",
       " None,\n",
       " None,\n",
       " None,\n",
       " None,\n",
       " None,\n",
       " None,\n",
       " None,\n",
       " None,\n",
       " None,\n",
       " None,\n",
       " None,\n",
       " None,\n",
       " None,\n",
       " None,\n",
       " None,\n",
       " None,\n",
       " None,\n",
       " None,\n",
       " None,\n",
       " None,\n",
       " None,\n",
       " None,\n",
       " None,\n",
       " None,\n",
       " None,\n",
       " None,\n",
       " None,\n",
       " None,\n",
       " None,\n",
       " None,\n",
       " None,\n",
       " None,\n",
       " None,\n",
       " None,\n",
       " None,\n",
       " None,\n",
       " None,\n",
       " None,\n",
       " None,\n",
       " None,\n",
       " None,\n",
       " None,\n",
       " None,\n",
       " None,\n",
       " None,\n",
       " None,\n",
       " None,\n",
       " None,\n",
       " None,\n",
       " None,\n",
       " None,\n",
       " None,\n",
       " None,\n",
       " None,\n",
       " None,\n",
       " None,\n",
       " None,\n",
       " None,\n",
       " None,\n",
       " None,\n",
       " None,\n",
       " None,\n",
       " None,\n",
       " None,\n",
       " None,\n",
       " None,\n",
       " None,\n",
       " None,\n",
       " None,\n",
       " None,\n",
       " None,\n",
       " None,\n",
       " None,\n",
       " None,\n",
       " None,\n",
       " None,\n",
       " None,\n",
       " None,\n",
       " None,\n",
       " None,\n",
       " None,\n",
       " None,\n",
       " None,\n",
       " None,\n",
       " None,\n",
       " None,\n",
       " None,\n",
       " None,\n",
       " None,\n",
       " None,\n",
       " None,\n",
       " None,\n",
       " None,\n",
       " None,\n",
       " None,\n",
       " None,\n",
       " None,\n",
       " None,\n",
       " None,\n",
       " None,\n",
       " None]"
      ]
     },
     "execution_count": 11,
     "metadata": {},
     "output_type": "execute_result"
    }
   ],
   "source": [
    "create_school_table = [print(f'\"{k}\" double precision,') for k,v in numeric_type_map.items()]\n",
    "create_school_table"
   ]
  },
  {
   "cell_type": "code",
   "execution_count": 12,
   "metadata": {},
   "outputs": [],
   "source": [
    "universal_types = {'SCH_ZIP ': str\n",
    "                   ,'SCHID': str\n",
    "                   ,'COMBOKEY': str\n",
    "                   ,'LEAID': str\n",
    "                  }"
   ]
  },
  {
   "cell_type": "markdown",
   "metadata": {},
   "source": [
    "### Load all data + col description files for 2011-12"
   ]
  },
  {
   "cell_type": "code",
   "execution_count": 13,
   "metadata": {
    "scrolled": true
   },
   "outputs": [],
   "source": [
    "## Reads originals from excel\n",
    "\n",
    "# df1_1112, df1_desc_1112 = pd.read_excel('~/Desktop/discriminology/OCR School data sample/2011:12/Enrollment/05 - Overall Enrollment.xlsx', sheet_name=None).values()\n",
    "# df2_1112, df2_desc_1112 = pd.read_excel('~/Desktop/discriminology/OCR School data sample/2011:12/Enrollment/08 - Students enrolled in Gifted-Talented Programs.xlsx', sheet_name=None).values()\n",
    "# df3_1112, df3_desc_1112 = pd.read_excel('~/Desktop/discriminology/OCR School data sample/2011:12/Enrollment/10-1 - Students with Disabilities Served under IDEA Enrollment.xlsx', sheet_name=None).values()\n",
    "# df4_1112, df4_desc_1112 = pd.read_excel('~/Desktop/discriminology/OCR School data sample/2011:12/Enrollment/10-2 - Students with Disabilities Served under 504 Enrollment.xlsx', sheet_name=None).values()\n",
    "# df5_1112, df5_desc_1112 = pd.read_excel('~/Desktop/discriminology/OCR School data sample/2011:12/Discipline/Out of School Suspensions/W:O Disabilities/35-3 - Students WO Disab Receiving only one out-of-school suspension.xlsx', sheet_name=None).values()\n",
    "# df6_1112, df6_desc_1112 = pd.read_excel('~/Desktop/discriminology/OCR School data sample/2011:12/Discipline/Out of School Suspensions/W:O Disabilities/35-4 - Students WO Disab Rec more than one out-of-school suspension.xlsx', sheet_name=None).values()\n",
    "# df7_1112, df7_desc_1112 = pd.read_excel('~/Desktop/discriminology/OCR School data sample/2011:12/Discipline/Out of School Suspensions/With Disabilities/36-3 - Students With Disabilities Receiving only one out-of-school suspension.xlsx', sheet_name=None).values()\n",
    "# df8_1112, df8_desc_1112 = pd.read_excel('~/Desktop/discriminology/OCR School data sample/2011:12/Discipline/Out of School Suspensions/With Disabilities/36-4 - Students With Disab Receiving more than one out-of-school suspension.xlsx', sheet_name=None).values()\n",
    "# df9_1112, df9_desc_1112 = pd.read_excel('~/Desktop/discriminology/OCR School data sample/2011:12/Academic/Advanced Placement/17 - Students who are taking at least one AP course.xlsx', sheet_name=None).values()\n",
    "# df10_1112, df10_desc_1112 = pd.read_excel('~/Desktop/discriminology/OCR School data sample/2011:12/Discipline/Referral to law enforcement/W:O Disabilities/35-8 - Students Without Disabilities Referral to law enforcement.xlsx', sheet_name=None).values()\n",
    "# df11_1112, df11_desc_1112 = pd.read_excel('~/Desktop/discriminology/OCR School data sample/2011:12/Discipline/Referral to law enforcement/With Disabilities/36-8 - Students With Disabilities Referral to law enforcement.xlsx', sheet_name=None).values()\n",
    "# df12_1112, df12_desc_1112 = pd.read_excel('~/Desktop/discriminology/OCR School data sample/2011:12/Discipline/School Related Arrest/W:O Disabilities/35-9 - Students Without Disabilities School-related arrest.xlsx', sheet_name=None).values()\n",
    "# df13_1112, df13_desc_1112 = pd.read_excel('~/Desktop/discriminology/OCR School data sample/2011:12/Discipline/School Related Arrest/With Disabilities/36-9 - Students With Disabilities School-related arrest.xlsx', sheet_name=None).values()\n",
    "# df14_1112, df14_desc_1112 = pd.read_excel('~/Desktop/discriminology/OCR School data sample/2011:12/School Characteristics/02 - School Characteristics.xlsx', sheet_name=None).values()\n",
    "# df15_1112, df15_desc_1112 = pd.read_excel('~/Desktop/discriminology/OCR School data sample/2011:12/Staff/08-1 School Support and Security Staff (required elements).xlsx', sheet_name=None).values()\n",
    "# df16_1112, df16_desc_1112 = pd.read_excel('~/Desktop/discriminology/OCR School data sample/2011:12/Enrollment/06 - Enrolled in Early Childhood and Prekindergarten.xlsx', sheet_name=None).values()"
   ]
  },
  {
   "cell_type": "code",
   "execution_count": 14,
   "metadata": {},
   "outputs": [],
   "source": [
    "# ctr = 0\n",
    "# for frame in desc_frames_1112:\n",
    "#     frame.to_csv(f'/Users/cave/Desktop/discriminology/2011_12/descriptions/file_{ctr}.csv')\n",
    "#     ctr += 1\n",
    "\n",
    "# ctr = 0\n",
    "# for frame in frames_1314:\n",
    "#     frame.to_csv(f'~/Desktop/discriminology/2013_14/data/file_{ctr}.csv')\n",
    "#     ctr += 1\n"
   ]
  },
  {
   "cell_type": "code",
   "execution_count": 15,
   "metadata": {},
   "outputs": [
    {
     "name": "stderr",
     "output_type": "stream",
     "text": [
      "/Users/cave/miniconda3/lib/python3.7/site-packages/IPython/core/interactiveshell.py:3058: DtypeWarning: Columns (8,9,10,11,12,13,14,15,16,17,18,19,20,21,22,23,24,25,26,27) have mixed types.Specify dtype option on import or set low_memory=False.\n",
      "  interactivity=interactivity, compiler=compiler, result=result)\n",
      "/Users/cave/miniconda3/lib/python3.7/site-packages/IPython/core/interactiveshell.py:3058: DtypeWarning: Columns (27,28,29,30,31,36,37) have mixed types.Specify dtype option on import or set low_memory=False.\n",
      "  interactivity=interactivity, compiler=compiler, result=result)\n",
      "/Users/cave/miniconda3/lib/python3.7/site-packages/IPython/core/interactiveshell.py:3058: DtypeWarning: Columns (8,9,10,11,12,13,14,15,18,19,20,21,22,23,24,25) have mixed types.Specify dtype option on import or set low_memory=False.\n",
      "  interactivity=interactivity, compiler=compiler, result=result)\n",
      "/Users/cave/miniconda3/lib/python3.7/site-packages/IPython/core/interactiveshell.py:3058: DtypeWarning: Columns (8,9,10,11,12,13,14,17,18,19,20,21,22,23,24,25,28,29) have mixed types.Specify dtype option on import or set low_memory=False.\n",
      "  interactivity=interactivity, compiler=compiler, result=result)\n"
     ]
    }
   ],
   "source": [
    "df1_1112 = pd.read_csv('~/Desktop/discriminology/2011_12/data/file_1.csv', dtype=universal_types)\n",
    "df2_1112 = pd.read_csv('~/Desktop/discriminology/2011_12/data/file_2.csv', dtype=universal_types)\n",
    "df3_1112 = pd.read_csv('~/Desktop/discriminology/2011_12/data/file_3.csv', dtype=universal_types)\n",
    "df4_1112 = pd.read_csv('~/Desktop/discriminology/2011_12/data/file_4.csv', dtype=universal_types)\n",
    "df5_1112 = pd.read_csv('~/Desktop/discriminology/2011_12/data/file_5.csv', dtype=universal_types)\n",
    "df6_1112 = pd.read_csv('~/Desktop/discriminology/2011_12/data/file_6.csv', dtype=universal_types)\n",
    "df7_1112 = pd.read_csv('~/Desktop/discriminology/2011_12/data/file_7.csv', dtype=universal_types)\n",
    "df8_1112 = pd.read_csv('~/Desktop/discriminology/2011_12/data/file_8.csv', dtype=universal_types)\n",
    "df9_1112 = pd.read_csv('~/Desktop/discriminology/2011_12/data/file_9.csv', dtype=universal_types)\n",
    "df10_1112 = pd.read_csv('~/Desktop/discriminology/2011_12/data/file_10.csv', dtype=universal_types)\n",
    "df11_1112 = pd.read_csv('~/Desktop/discriminology/2011_12/data/file_11.csv', dtype=universal_types)\n",
    "df12_1112 = pd.read_csv('~/Desktop/discriminology/2011_12/data/file_12.csv', dtype=universal_types)\n",
    "df13_1112 = pd.read_csv('~/Desktop/discriminology/2011_12/data/file_13.csv', dtype=universal_types)\n",
    "df14_1112 = pd.read_csv('~/Desktop/discriminology/2011_12/data/file_14.csv', dtype=universal_types)\n",
    "df15_1112 = pd.read_csv('~/Desktop/discriminology/2011_12/data/file_15.csv', dtype=universal_types)\n",
    "df16_1112 = pd.read_csv('~/Desktop/discriminology/2011_12/data/file_0.csv', dtype=universal_types)"
   ]
  },
  {
   "cell_type": "code",
   "execution_count": 16,
   "metadata": {
    "scrolled": true
   },
   "outputs": [],
   "source": [
    "df1_desc_1112 = pd.read_csv('~/Desktop/discriminology/2011_12/descriptions/file_1.csv', index_col=0)\n",
    "df2_desc_1112 = pd.read_csv('~/Desktop/discriminology/2011_12/descriptions/file_2.csv', index_col=0)\n",
    "df3_desc_1112 = pd.read_csv('~/Desktop/discriminology/2011_12/descriptions/file_3.csv', index_col=0)\n",
    "df4_desc_1112 = pd.read_csv('~/Desktop/discriminology/2011_12/descriptions/file_4.csv', index_col=0)\n",
    "df5_desc_1112 = pd.read_csv('~/Desktop/discriminology/2011_12/descriptions/file_5.csv', index_col=0)\n",
    "df6_desc_1112 = pd.read_csv('~/Desktop/discriminology/2011_12/descriptions/file_6.csv', index_col=0)\n",
    "df7_desc_1112 = pd.read_csv('~/Desktop/discriminology/2011_12/descriptions/file_7.csv', index_col=0)\n",
    "df8_desc_1112 = pd.read_csv('~/Desktop/discriminology/2011_12/descriptions/file_8.csv', index_col=0)\n",
    "df9_desc_1112 = pd.read_csv('~/Desktop/discriminology/2011_12/descriptions/file_9.csv', index_col=0)\n",
    "df10_desc_1112 = pd.read_csv('~/Desktop/discriminology/2011_12/descriptions/file_10.csv', index_col=0)\n",
    "df11_desc_1112 = pd.read_csv('~/Desktop/discriminology/2011_12/descriptions/file_11.csv', index_col=0)\n",
    "df12_desc_1112 = pd.read_csv('~/Desktop/discriminology/2011_12/descriptions/file_12.csv', index_col=0)\n",
    "df13_desc_1112 = pd.read_csv('~/Desktop/discriminology/2011_12/descriptions/file_13.csv', index_col=0)\n",
    "df14_desc_1112 = pd.read_csv('~/Desktop/discriminology/2011_12/descriptions/file_14.csv', index_col=0)\n",
    "df15_desc_1112 = pd.read_csv('~/Desktop/discriminology/2011_12/descriptions/file_15.csv', index_col=0)\n",
    "df16_desc_1112 = pd.read_csv('~/Desktop/discriminology/2011_12/descriptions/file_0.csv', index_col=0)"
   ]
  },
  {
   "cell_type": "code",
   "execution_count": 17,
   "metadata": {},
   "outputs": [],
   "source": [
    "\n",
    "frames_1112 = [df1_1112, df2_1112, df3_1112, df4_1112, df5_1112, df6_1112,\n",
    "               df7_1112, df8_1112, df9_1112, df10_1112, df11_1112, df12_1112,\n",
    "               df13_1112, df14_1112, df15_1112, df16_1112]\n",
    "\n",
    "\n",
    "\n",
    "desc_frames_1112 = [df1_desc_1112, df2_desc_1112, df3_desc_1112, df4_desc_1112,\n",
    "                    df5_desc_1112, df6_desc_1112, df7_desc_1112, df8_desc_1112,\n",
    "                    df9_desc_1112, df10_desc_1112, df11_desc_1112, df12_desc_1112,\n",
    "                    df13_desc_1112, df14_desc_1112, df15_desc_1112, df16_desc_1112]\n"
   ]
  },
  {
   "cell_type": "markdown",
   "metadata": {},
   "source": [
    "Use helper function to aggregate frames and clean up negative values, standardize length of zipcodes."
   ]
  },
  {
   "cell_type": "code",
   "execution_count": 18,
   "metadata": {},
   "outputs": [],
   "source": [
    "# Careful, this cell runs for a while\n",
    "df_1112_raw = aggregate_data(frames_1112, fields_1112)"
   ]
  },
  {
   "cell_type": "code",
   "execution_count": 19,
   "metadata": {},
   "outputs": [],
   "source": [
    "df_1112 = df_1112_raw.copy()"
   ]
  },
  {
   "cell_type": "code",
   "execution_count": 20,
   "metadata": {},
   "outputs": [],
   "source": [
    "df_1112['SCH_ZIP '] = df_1112['SCH_ZIP '].str.zfill(5) # pad zipcodes with leading zeroes"
   ]
  },
  {
   "cell_type": "markdown",
   "metadata": {},
   "source": [
    "Change 0/1 indicator vars to Yes / No for selected columns"
   ]
  },
  {
   "cell_type": "code",
   "execution_count": 21,
   "metadata": {},
   "outputs": [],
   "source": [
    "int_cols_to_str = [\n",
    "    'PreK'\n",
    "    ,'K'\n",
    "    ,'G1'\n",
    "    ,'G2'\n",
    "    ,'G3'\n",
    "    ,'G4'\n",
    "    ,'G5'\n",
    "    ,'G6'\n",
    "    ,'G7'\n",
    "    ,'G8' \n",
    "    ,'G9'\n",
    "    ,'G10'\n",
    "    ,'G11'\n",
    "    ,'G12'\n",
    "    ,'MG_SCH'\n",
    "    ,'CHARTER_SCH'\n",
    "    ,'ALT_SCH'\n",
    "                  ]"
   ]
  },
  {
   "cell_type": "code",
   "execution_count": 22,
   "metadata": {},
   "outputs": [],
   "source": [
    "df_1112[int_cols_to_str] =  df_1112[int_cols_to_str].replace('0', 'No').replace('1', 'Yes').replace(0, 'No').replace(1, 'Yes')"
   ]
  },
  {
   "cell_type": "code",
   "execution_count": 23,
   "metadata": {},
   "outputs": [],
   "source": [
    "df_1112['SCH_FTESECURITY_IND'] = df_1112['SCH_FTESECURITY_IND'].str.replace('-9','No').str.replace('-5','No')\n",
    "type_dict_11_12.pop('COMBOKEY')\n",
    "df_1112 = df_1112.astype(final_type_dict_11_12)"
   ]
  },
  {
   "cell_type": "markdown",
   "metadata": {},
   "source": [
    "Custom case handling: Juvenile Justice facilities"
   ]
  },
  {
   "cell_type": "code",
   "execution_count": 26,
   "metadata": {},
   "outputs": [],
   "source": [
    "df_1112['JJ'] = df_1112['JJ'].str.replace('Z', 'Yes').str.replace('X', 'Yes')"
   ]
  },
  {
   "cell_type": "markdown",
   "metadata": {},
   "source": [
    "Rename columns to match 13/14 and 15/16 data"
   ]
  },
  {
   "cell_type": "code",
   "execution_count": 27,
   "metadata": {},
   "outputs": [],
   "source": [
    "df_1112.rename(columns=map_11_12, inplace=True)"
   ]
  },
  {
   "cell_type": "code",
   "execution_count": 28,
   "metadata": {},
   "outputs": [],
   "source": [
    "superset = field_mappings['col_superset'].values\n",
    "ordered_cols_1112 = [c for c in superset if c in df_1112.columns]"
   ]
  },
  {
   "cell_type": "code",
   "execution_count": 29,
   "metadata": {},
   "outputs": [
    {
     "data": {
      "text/plain": [
       "101133"
      ]
     },
     "execution_count": 29,
     "metadata": {},
     "output_type": "execute_result"
    }
   ],
   "source": [
    "df_1112.index.nunique()"
   ]
  },
  {
   "cell_type": "code",
   "execution_count": 30,
   "metadata": {},
   "outputs": [
    {
     "data": {
      "text/plain": [
       "(101133, 220)"
      ]
     },
     "execution_count": 30,
     "metadata": {},
     "output_type": "execute_result"
    }
   ],
   "source": [
    "df_1112.shape"
   ]
  },
  {
   "cell_type": "code",
   "execution_count": 31,
   "metadata": {},
   "outputs": [
    {
     "data": {
      "text/plain": [
       "220"
      ]
     },
     "execution_count": 31,
     "metadata": {},
     "output_type": "execute_result"
    }
   ],
   "source": [
    "df_1112.columns.nunique()"
   ]
  },
  {
   "cell_type": "code",
   "execution_count": 33,
   "metadata": {},
   "outputs": [],
   "source": [
    "df_1112_final = df_1112[ordered_cols_1112]\n",
    "df_1112_final['YEAR'] = '2011-12'"
   ]
  },
  {
   "cell_type": "markdown",
   "metadata": {},
   "source": [
    "### Load all data + col description files for 2013-14"
   ]
  },
  {
   "cell_type": "markdown",
   "metadata": {},
   "source": [
    "Collect column name descriptions from each spreadsheet"
   ]
  },
  {
   "cell_type": "code",
   "execution_count": 34,
   "metadata": {},
   "outputs": [],
   "source": [
    "# # Read originals from excel\n",
    "\n",
    "# df1_1314, df1_desc_1314 = pd.read_excel('~/Desktop/discriminology/OCR School data sample/2013:14/CRDC-collected data file for Schools/01 School Characteristics.xlsx', sheet_name=None).values()\n",
    "# df2_1314, df2_desc_1314 = pd.read_excel('~/Desktop/discriminology/OCR School data sample/2013:14/CRDC-collected data file for Schools/03 Enrollment.xlsx', sheet_name=None).values()\n",
    "# df3_1314, df3_desc_1314 = pd.read_excel('~/Desktop/discriminology/OCR School data sample/2013:14/CRDC-collected data file for Schools/04-1 Gifted and Talented Enrollment.xlsx', sheet_name=None).values()\n",
    "# df4_1314, df4_desc_1314 = pd.read_excel('~/Desktop/discriminology/OCR School data sample/2013:14/CRDC-collected data file for Schools/06 Advanced Placement and International Baccalaureate Diploma Programme Enrollment.xlsx', sheet_name=None).values()\n",
    "# df5_1314, df5_desc_1314 = pd.read_excel('~/Desktop/discriminology/OCR School data sample/2013:14/CRDC-collected data file for Schools/07-2 Advanced Placement Exams.xlsx', sheet_name=None).values()\n",
    "# df6_1314, df6_desc_1314 = pd.read_excel('~/Desktop/discriminology/OCR School data sample/2013:14/CRDC-collected data file for Schools/08-1 School Support and Security Staff (required elements).xlsx', sheet_name=None).values()\n",
    "# df7_1314, df7_desc_1314 = pd.read_excel('~/Desktop/discriminology/OCR School data sample/2013:14/CRDC-collected data file for Schools/09-1 Chronic Absenteeism.xlsx', sheet_name=None).values()\n",
    "# df8_1314, df8_desc_1314 = pd.read_excel('~/Desktop/discriminology/OCR School data sample/2013:14/CRDC-collected data file for Schools/11-2 Suspensions (required elements).xlsx', sheet_name=None).values()\n",
    "# df9_1314, df9_desc_1314 = pd.read_excel('~/Desktop/discriminology/OCR School data sample/2013:14/CRDC-collected data file for Schools/11-3 Expulsions.xlsx', sheet_name=None).values()\n",
    "# df10_1314, df10_desc_1314 = pd.read_excel('~/Desktop/discriminology/OCR School data sample/2013:14/CRDC-collected data file for Schools/12 Student Referrals and Arrests.xlsx', sheet_name=None).values()\n",
    "# df11_1314, df11_desc_1314 = pd.read_excel('~/Desktop/discriminology/OCR School data sample/2013:14/CRDC-collected data file for Schools/16 School Expenditures.xlsx', sheet_name=None).values()\n",
    "# df12_1314, df12_desc_1314 = pd.read_excel('~/Desktop/discriminology/OCR School data sample/2013:14/CRDC-collected data file for Schools/17 Justice Facilities.xlsx', sheet_name=None).values()"
   ]
  },
  {
   "cell_type": "code",
   "execution_count": 35,
   "metadata": {},
   "outputs": [],
   "source": [
    "# ctr = 0\n",
    "# for frame in desc_frames_1314:\n",
    "#     frame.to_csv(f'~/Desktop/discriminology/2013_14/descriptions/file_{ctr}.csv')\n",
    "#     ctr += 1\n",
    "\n",
    "\n",
    "# ctr = 0\n",
    "# for frame in frames_1314:\n",
    "#     frame.to_csv(f'~/Desktop/discriminology/2013_14/data/file_{ctr}.csv')\n",
    "#     ctr += 1\n"
   ]
  },
  {
   "cell_type": "code",
   "execution_count": 36,
   "metadata": {},
   "outputs": [],
   "source": [
    "df1_1314 = pd.read_csv('~/Desktop/discriminology/2013_14/data/file_1.csv', dtype=universal_types)\n",
    "df2_1314 = pd.read_csv('~/Desktop/discriminology/2013_14/data/file_2.csv', dtype=universal_types)\n",
    "df3_1314 = pd.read_csv('~/Desktop/discriminology/2013_14/data/file_3.csv', dtype=universal_types)\n",
    "df4_1314 = pd.read_csv('~/Desktop/discriminology/2013_14/data/file_4.csv', dtype=universal_types)\n",
    "df5_1314 = pd.read_csv('~/Desktop/discriminology/2013_14/data/file_5.csv', dtype=universal_types)\n",
    "df6_1314 = pd.read_csv('~/Desktop/discriminology/2013_14/data/file_6.csv', dtype=universal_types)\n",
    "df7_1314 = pd.read_csv('~/Desktop/discriminology/2013_14/data/file_7.csv', dtype=universal_types)\n",
    "df8_1314 = pd.read_csv('~/Desktop/discriminology/2013_14/data/file_8.csv', dtype=universal_types)\n",
    "df9_1314 = pd.read_csv('~/Desktop/discriminology/2013_14/data/file_9.csv', dtype=universal_types)\n",
    "df10_1314 = pd.read_csv('~/Desktop/discriminology/2013_14/data/file_10.csv', dtype=universal_types)\n",
    "df11_1314 = pd.read_csv('~/Desktop/discriminology/2013_14/data/file_11.csv', dtype=universal_types)\n",
    "df12_1314 = pd.read_csv('~/Desktop/discriminology/2013_14/data/file_0.csv', dtype=universal_types)"
   ]
  },
  {
   "cell_type": "code",
   "execution_count": 37,
   "metadata": {},
   "outputs": [],
   "source": [
    "df1_desc_1314 = pd.read_csv('~/Desktop/discriminology/2013_14/descriptions/file_1.csv', dtype=universal_types, index_col=0)\n",
    "df2_desc_1314 = pd.read_csv('~/Desktop/discriminology/2013_14/descriptions/file_2.csv', dtype=universal_types, index_col=0)\n",
    "df3_desc_1314 = pd.read_csv('~/Desktop/discriminology/2013_14/descriptions/file_3.csv', dtype=universal_types, index_col=0)\n",
    "df4_desc_1314 = pd.read_csv('~/Desktop/discriminology/2013_14/descriptions/file_4.csv', dtype=universal_types, index_col=0)\n",
    "df5_desc_1314 = pd.read_csv('~/Desktop/discriminology/2013_14/descriptions/file_5.csv', dtype=universal_types, index_col=0)\n",
    "df6_desc_1314 = pd.read_csv('~/Desktop/discriminology/2013_14/descriptions/file_6.csv', dtype=universal_types, index_col=0)\n",
    "df7_desc_1314 = pd.read_csv('~/Desktop/discriminology/2013_14/descriptions/file_7.csv', dtype=universal_types, index_col=0)\n",
    "df8_desc_1314 = pd.read_csv('~/Desktop/discriminology/2013_14/descriptions/file_8.csv', dtype=universal_types, index_col=0)\n",
    "df9_desc_1314 = pd.read_csv('~/Desktop/discriminology/2013_14/descriptions/file_9.csv', dtype=universal_types, index_col=0)\n",
    "df10_desc_1314 = pd.read_csv('~/Desktop/discriminology/2013_14/descriptions/file_10.csv', dtype=universal_types, index_col=0)\n",
    "df11_desc_1314 = pd.read_csv('~/Desktop/discriminology/2013_14/descriptions/file_11.csv', dtype=universal_types, index_col=0)\n",
    "df12_desc_1314 = pd.read_csv('~/Desktop/discriminology/2013_14/descriptions/file_0.csv', dtype=universal_types, index_col=0)\n"
   ]
  },
  {
   "cell_type": "code",
   "execution_count": 38,
   "metadata": {},
   "outputs": [],
   "source": [
    "frames_1314 = [df1_1314, df2_1314, df3_1314, df4_1314, df5_1314,\n",
    "               df6_1314, df7_1314, df8_1314, df9_1314, df10_1314,\n",
    "               df11_1314, df12_1314]\n",
    "\n",
    "\n",
    "desc_frames_1314 = [df1_desc_1314, df2_desc_1314, df3_desc_1314,\n",
    "                    df4_desc_1314, df5_desc_1314, df6_desc_1314,\n",
    "                    df7_desc_1314, df8_desc_1314, df9_desc_1314,\n",
    "                    df10_desc_1314, df11_desc_1314, df12_desc_1314]\n"
   ]
  },
  {
   "cell_type": "code",
   "execution_count": 39,
   "metadata": {},
   "outputs": [],
   "source": [
    "df_1314_raw = aggregate_data(frames_1314, fields_1314)"
   ]
  },
  {
   "cell_type": "code",
   "execution_count": 40,
   "metadata": {},
   "outputs": [],
   "source": [
    "df_1314 = df_1314_raw.copy()"
   ]
  },
  {
   "cell_type": "code",
   "execution_count": 41,
   "metadata": {},
   "outputs": [],
   "source": [
    "df_1314['SCH_FTESECURITY_IND'] = df_1314['SCH_FTESECURITY_IND'].str.replace('-9','No').str.replace('-5','No')\n",
    "df_1314 = df_1314.replace('-5', None)\n",
    "df_1314 = df_1314.replace('-9', None)"
   ]
  },
  {
   "cell_type": "code",
   "execution_count": 42,
   "metadata": {},
   "outputs": [
    {
     "data": {
      "text/plain": [
       "95507"
      ]
     },
     "execution_count": 42,
     "metadata": {},
     "output_type": "execute_result"
    }
   ],
   "source": [
    "df_1314.index.nunique()"
   ]
  },
  {
   "cell_type": "code",
   "execution_count": 44,
   "metadata": {},
   "outputs": [
    {
     "data": {
      "text/plain": [
       "(95507, 219)"
      ]
     },
     "execution_count": 44,
     "metadata": {},
     "output_type": "execute_result"
    }
   ],
   "source": [
    "df_1314.shape"
   ]
  },
  {
   "cell_type": "code",
   "execution_count": 47,
   "metadata": {},
   "outputs": [],
   "source": [
    "df_1314_final = df_1314\n",
    "df_1314_final['YEAR'] = '2013-14'"
   ]
  },
  {
   "cell_type": "markdown",
   "metadata": {},
   "source": [
    "### Isolate numeric columns in 15/16 and replace negative numbers with zeroes."
   ]
  },
  {
   "cell_type": "code",
   "execution_count": 49,
   "metadata": {},
   "outputs": [
    {
     "name": "stderr",
     "output_type": "stream",
     "text": [
      "/Users/cave/miniconda3/lib/python3.7/site-packages/IPython/core/interactiveshell.py:3058: DtypeWarning: Columns (2,6,23,24,25,30,31,1828) have mixed types.Specify dtype option on import or set low_memory=False.\n",
      "  interactivity=interactivity, compiler=compiler, result=result)\n"
     ]
    }
   ],
   "source": [
    "df1516_raw = pd.read_csv('/Users/cave/Desktop/discriminology/OCR School data sample/2015:16/CRDC 2015-16 School Data copy.csv'\n",
    "                      , encoding='iso-8859-1'\n",
    "                     )\n",
    "df1516_raw['LEAID'] = df1516_raw['LEAID'].astype(str).str.zfill(7)\n",
    "df1516_raw['SCHID'] = df1516_raw['SCHID'].astype(str).str.zfill(5)\n",
    "df1516_raw['COMBOKEY'] = df1516_raw['LEAID'] + df1516_raw['SCHID']\n",
    "df1516_raw = df1516_raw[fields_1516]"
   ]
  },
  {
   "cell_type": "markdown",
   "metadata": {},
   "source": [
    "Replace negative values with zeroes."
   ]
  },
  {
   "cell_type": "code",
   "execution_count": 50,
   "metadata": {},
   "outputs": [],
   "source": [
    "num = df1516_raw._get_numeric_data()\n",
    "num[num < 0] = 0"
   ]
  },
  {
   "cell_type": "code",
   "execution_count": 51,
   "metadata": {},
   "outputs": [],
   "source": [
    "df1516_raw = df1516_raw.replace('-5', 'No').replace('-9', 'No')"
   ]
  },
  {
   "cell_type": "code",
   "execution_count": 52,
   "metadata": {},
   "outputs": [],
   "source": [
    "df_1516_final = df1516_raw.set_index('COMBOKEY')\n",
    "df_1516_final['YEAR'] = '2015-16'"
   ]
  },
  {
   "cell_type": "markdown",
   "metadata": {},
   "source": [
    "### Concatenate all three years of data together"
   ]
  },
  {
   "cell_type": "code",
   "execution_count": 55,
   "metadata": {},
   "outputs": [
    {
     "name": "stdout",
     "output_type": "stream",
     "text": [
      "11/12 Data Summary:\n",
      "Unique districts: 17342\n",
      "Unique schools: 101133\n"
     ]
    }
   ],
   "source": [
    "print('11/12 Data Summary:')\n",
    "districts_11_12 = df_1112_final['LEAID'].nunique()\n",
    "schools_11_12 = df_1112_final.index.nunique()\n",
    "print(f\"Unique districts: {districts_11_12}\")\n",
    "print(f\"Unique schools: {schools_11_12}\")"
   ]
  },
  {
   "cell_type": "code",
   "execution_count": 56,
   "metadata": {},
   "outputs": [
    {
     "name": "stdout",
     "output_type": "stream",
     "text": [
      "13/14 Data Summary:\n",
      "Unique districts: 16758\n",
      "Unique schools: 95507\n"
     ]
    }
   ],
   "source": [
    "print('13/14 Data Summary:')\n",
    "districts_13_14 = df_1314_final['LEAID'].nunique()\n",
    "schools_13_14 = df_1314_final.index.nunique()\n",
    "print(f\"Unique districts: {districts_13_14}\")\n",
    "print(f\"Unique schools: {schools_13_14}\")"
   ]
  },
  {
   "cell_type": "code",
   "execution_count": 57,
   "metadata": {},
   "outputs": [
    {
     "name": "stdout",
     "output_type": "stream",
     "text": [
      "15/16 Data Summary:\n",
      "Unique districts: 17337\n",
      "Unique schools: 96360\n"
     ]
    }
   ],
   "source": [
    "print('15/16 Data Summary:')\n",
    "districts_1516 = df_1516_final['LEAID'].nunique()\n",
    "schools_1516 = df_1516_final.index.nunique()\n",
    "print(f\"Unique districts: {districts_1516}\")\n",
    "print(f\"Unique schools: {schools_1516}\")"
   ]
  },
  {
   "cell_type": "code",
   "execution_count": 74,
   "metadata": {},
   "outputs": [],
   "source": [
    "full_table = pd.concat([df_1516_final, df_1314_final, df_1112_final], axis=0)\n",
    "full_table = full_table.astype(numeric_type_map)\n",
    "full_table.sort_index(inplace=True)\n",
    "full_table.reset_index(inplace=True)\n",
    "full_table['SCHID'] = full_table['SCHID'].astype(str).str.zfill(5)"
   ]
  },
  {
   "cell_type": "markdown",
   "metadata": {},
   "source": [
    "Impute missing district state names from other years "
   ]
  },
  {
   "cell_type": "code",
   "execution_count": 84,
   "metadata": {},
   "outputs": [],
   "source": [
    "# Fill in LEA STATE with non-null values in LEAID group\n",
    "full_table['LEA_STATE'] = full_table.groupby(['LEAID'])['LEA_STATE'].fillna(method='ffill').fillna(method='bfill')\n",
    "full_table['LEA_STATE_NAME'] = full_table.groupby(['LEAID'])['LEA_STATE_NAME'].fillna(method='ffill').fillna(method='bfill')\n",
    "full_table['LEA_NAME'] = full_table.groupby(['LEAID'])['LEA_NAME'].fillna(method='ffill').fillna(method='bfill')\n",
    "\n"
   ]
  },
  {
   "cell_type": "code",
   "execution_count": 85,
   "metadata": {},
   "outputs": [],
   "source": [
    "full_table['SCH_NAME'] = full_table.groupby(['SCHID'])['SCH_NAME'].fillna(method='ffill').fillna(method='bfill')\n",
    "full_table['SCH_ZIP '] = full_table.groupby(['SCHID'])['SCH_ZIP '].fillna(method='ffill').fillna(method='bfill')\n",
    "full_table['SCH_CITY'] = full_table.groupby(['SCHID'])['SCH_CITY'].fillna(method='ffill').fillna(method='bfill')\n",
    "full_table['SCH_ADDRESS'] = full_table.groupby(['SCHID'])['SCH_ADDRESS'].fillna(method='ffill').fillna(method='bfill')"
   ]
  },
  {
   "cell_type": "markdown",
   "metadata": {},
   "source": [
    "Capitalize the first letter in each district name, school name, address."
   ]
  },
  {
   "cell_type": "code",
   "execution_count": 86,
   "metadata": {},
   "outputs": [],
   "source": [
    "full_table['LEA_NAME'] = full_table['LEA_NAME'].str.title()\n",
    "full_table['SCH_NAME'] = full_table['SCH_NAME'].str.title()\n",
    "full_table['SCH_ADDRESS'] = full_table['SCH_ADDRESS'].str.title()\n",
    "full_table['SCH_CITY'] = full_table['SCH_CITY'].str.title()"
   ]
  },
  {
   "cell_type": "markdown",
   "metadata": {},
   "source": [
    "Categorize each school as elementary, middle, high, or other using grade enrollment data."
   ]
  },
  {
   "cell_type": "code",
   "execution_count": 91,
   "metadata": {},
   "outputs": [],
   "source": [
    "full_table['SCH_LEVEL'] = full_table.apply(lambda row: categorize_school_level(row['SCH_GRADE_KG'], row['SCH_GRADE_G01'],\n",
    "                            row['SCH_GRADE_G02'], row['SCH_GRADE_G03'], row['SCH_GRADE_G04'], row['SCH_GRADE_G05'],\n",
    "                            row['SCH_GRADE_G06'], row['SCH_GRADE_G07'], row['SCH_GRADE_G08'], row['SCH_GRADE_G09'],\n",
    "                            row['SCH_GRADE_G10'], row['SCH_GRADE_G11'], row['SCH_GRADE_G12']), axis=1\n",
    "                            )"
   ]
  },
  {
   "cell_type": "code",
   "execution_count": 93,
   "metadata": {},
   "outputs": [
    {
     "data": {
      "text/html": [
       "<div>\n",
       "<style scoped>\n",
       "    .dataframe tbody tr th:only-of-type {\n",
       "        vertical-align: middle;\n",
       "    }\n",
       "\n",
       "    .dataframe tbody tr th {\n",
       "        vertical-align: top;\n",
       "    }\n",
       "\n",
       "    .dataframe thead th {\n",
       "        text-align: right;\n",
       "    }\n",
       "</style>\n",
       "<table border=\"1\" class=\"dataframe\">\n",
       "  <thead>\n",
       "    <tr style=\"text-align: right;\">\n",
       "      <th></th>\n",
       "      <th>SCH_LEVEL</th>\n",
       "      <th>SCH_GRADE_KG</th>\n",
       "      <th>SCH_GRADE_G01</th>\n",
       "      <th>SCH_GRADE_G02</th>\n",
       "      <th>SCH_GRADE_G03</th>\n",
       "      <th>SCH_GRADE_G04</th>\n",
       "      <th>SCH_GRADE_G05</th>\n",
       "      <th>SCH_GRADE_G06</th>\n",
       "      <th>SCH_GRADE_G07</th>\n",
       "      <th>SCH_GRADE_G08</th>\n",
       "      <th>SCH_GRADE_G09</th>\n",
       "      <th>SCH_GRADE_G10</th>\n",
       "      <th>SCH_GRADE_G11</th>\n",
       "      <th>SCH_GRADE_G12</th>\n",
       "    </tr>\n",
       "  </thead>\n",
       "  <tbody>\n",
       "    <tr>\n",
       "      <th>0</th>\n",
       "      <td>Secondary School</td>\n",
       "      <td>No</td>\n",
       "      <td>No</td>\n",
       "      <td>No</td>\n",
       "      <td>No</td>\n",
       "      <td>No</td>\n",
       "      <td>No</td>\n",
       "      <td>Yes</td>\n",
       "      <td>Yes</td>\n",
       "      <td>Yes</td>\n",
       "      <td>Yes</td>\n",
       "      <td>Yes</td>\n",
       "      <td>Yes</td>\n",
       "      <td>Yes</td>\n",
       "    </tr>\n",
       "    <tr>\n",
       "      <th>1</th>\n",
       "      <td>Secondary School</td>\n",
       "      <td>No</td>\n",
       "      <td>No</td>\n",
       "      <td>No</td>\n",
       "      <td>No</td>\n",
       "      <td>No</td>\n",
       "      <td>No</td>\n",
       "      <td>Yes</td>\n",
       "      <td>Yes</td>\n",
       "      <td>Yes</td>\n",
       "      <td>Yes</td>\n",
       "      <td>Yes</td>\n",
       "      <td>Yes</td>\n",
       "      <td>Yes</td>\n",
       "    </tr>\n",
       "    <tr>\n",
       "      <th>2</th>\n",
       "      <td>Secondary School</td>\n",
       "      <td>No</td>\n",
       "      <td>No</td>\n",
       "      <td>No</td>\n",
       "      <td>No</td>\n",
       "      <td>No</td>\n",
       "      <td>Yes</td>\n",
       "      <td>Yes</td>\n",
       "      <td>Yes</td>\n",
       "      <td>Yes</td>\n",
       "      <td>Yes</td>\n",
       "      <td>Yes</td>\n",
       "      <td>Yes</td>\n",
       "      <td>Yes</td>\n",
       "    </tr>\n",
       "    <tr>\n",
       "      <th>3</th>\n",
       "      <td>Secondary School</td>\n",
       "      <td>No</td>\n",
       "      <td>No</td>\n",
       "      <td>No</td>\n",
       "      <td>No</td>\n",
       "      <td>No</td>\n",
       "      <td>Yes</td>\n",
       "      <td>Yes</td>\n",
       "      <td>Yes</td>\n",
       "      <td>Yes</td>\n",
       "      <td>Yes</td>\n",
       "      <td>Yes</td>\n",
       "      <td>Yes</td>\n",
       "      <td>Yes</td>\n",
       "    </tr>\n",
       "    <tr>\n",
       "      <th>4</th>\n",
       "      <td>Secondary School</td>\n",
       "      <td>No</td>\n",
       "      <td>No</td>\n",
       "      <td>No</td>\n",
       "      <td>No</td>\n",
       "      <td>No</td>\n",
       "      <td>No</td>\n",
       "      <td>Yes</td>\n",
       "      <td>Yes</td>\n",
       "      <td>Yes</td>\n",
       "      <td>Yes</td>\n",
       "      <td>Yes</td>\n",
       "      <td>Yes</td>\n",
       "      <td>Yes</td>\n",
       "    </tr>\n",
       "    <tr>\n",
       "      <th>...</th>\n",
       "      <td>...</td>\n",
       "      <td>...</td>\n",
       "      <td>...</td>\n",
       "      <td>...</td>\n",
       "      <td>...</td>\n",
       "      <td>...</td>\n",
       "      <td>...</td>\n",
       "      <td>...</td>\n",
       "      <td>...</td>\n",
       "      <td>...</td>\n",
       "      <td>...</td>\n",
       "      <td>...</td>\n",
       "      <td>...</td>\n",
       "      <td>...</td>\n",
       "    </tr>\n",
       "    <tr>\n",
       "      <th>292995</th>\n",
       "      <td>High School</td>\n",
       "      <td>No</td>\n",
       "      <td>No</td>\n",
       "      <td>No</td>\n",
       "      <td>No</td>\n",
       "      <td>No</td>\n",
       "      <td>No</td>\n",
       "      <td>No</td>\n",
       "      <td>No</td>\n",
       "      <td>No</td>\n",
       "      <td>Yes</td>\n",
       "      <td>Yes</td>\n",
       "      <td>Yes</td>\n",
       "      <td>Yes</td>\n",
       "    </tr>\n",
       "    <tr>\n",
       "      <th>292996</th>\n",
       "      <td>Other</td>\n",
       "      <td>Yes</td>\n",
       "      <td>Yes</td>\n",
       "      <td>Yes</td>\n",
       "      <td>Yes</td>\n",
       "      <td>Yes</td>\n",
       "      <td>Yes</td>\n",
       "      <td>Yes</td>\n",
       "      <td>Yes</td>\n",
       "      <td>Yes</td>\n",
       "      <td>Yes</td>\n",
       "      <td>Yes</td>\n",
       "      <td>Yes</td>\n",
       "      <td>Yes</td>\n",
       "    </tr>\n",
       "    <tr>\n",
       "      <th>292997</th>\n",
       "      <td>Secondary School</td>\n",
       "      <td>No</td>\n",
       "      <td>No</td>\n",
       "      <td>No</td>\n",
       "      <td>No</td>\n",
       "      <td>No</td>\n",
       "      <td>No</td>\n",
       "      <td>No</td>\n",
       "      <td>Yes</td>\n",
       "      <td>Yes</td>\n",
       "      <td>Yes</td>\n",
       "      <td>Yes</td>\n",
       "      <td>Yes</td>\n",
       "      <td>Yes</td>\n",
       "    </tr>\n",
       "    <tr>\n",
       "      <th>292998</th>\n",
       "      <td>High School</td>\n",
       "      <td>No</td>\n",
       "      <td>No</td>\n",
       "      <td>No</td>\n",
       "      <td>No</td>\n",
       "      <td>No</td>\n",
       "      <td>No</td>\n",
       "      <td>No</td>\n",
       "      <td>No</td>\n",
       "      <td>No</td>\n",
       "      <td>Yes</td>\n",
       "      <td>Yes</td>\n",
       "      <td>Yes</td>\n",
       "      <td>Yes</td>\n",
       "    </tr>\n",
       "    <tr>\n",
       "      <th>292999</th>\n",
       "      <td>Secondary School</td>\n",
       "      <td>No</td>\n",
       "      <td>No</td>\n",
       "      <td>No</td>\n",
       "      <td>No</td>\n",
       "      <td>No</td>\n",
       "      <td>No</td>\n",
       "      <td>No</td>\n",
       "      <td>Yes</td>\n",
       "      <td>Yes</td>\n",
       "      <td>Yes</td>\n",
       "      <td>Yes</td>\n",
       "      <td>Yes</td>\n",
       "      <td>Yes</td>\n",
       "    </tr>\n",
       "  </tbody>\n",
       "</table>\n",
       "<p>293000 rows × 14 columns</p>\n",
       "</div>"
      ],
      "text/plain": [
       "               SCH_LEVEL SCH_GRADE_KG SCH_GRADE_G01 SCH_GRADE_G02  \\\n",
       "0       Secondary School           No            No            No   \n",
       "1       Secondary School           No            No            No   \n",
       "2       Secondary School           No            No            No   \n",
       "3       Secondary School           No            No            No   \n",
       "4       Secondary School           No            No            No   \n",
       "...                  ...          ...           ...           ...   \n",
       "292995       High School           No            No            No   \n",
       "292996             Other          Yes           Yes           Yes   \n",
       "292997  Secondary School           No            No            No   \n",
       "292998       High School           No            No            No   \n",
       "292999  Secondary School           No            No            No   \n",
       "\n",
       "       SCH_GRADE_G03 SCH_GRADE_G04 SCH_GRADE_G05 SCH_GRADE_G06 SCH_GRADE_G07  \\\n",
       "0                 No            No            No           Yes           Yes   \n",
       "1                 No            No            No           Yes           Yes   \n",
       "2                 No            No           Yes           Yes           Yes   \n",
       "3                 No            No           Yes           Yes           Yes   \n",
       "4                 No            No            No           Yes           Yes   \n",
       "...              ...           ...           ...           ...           ...   \n",
       "292995            No            No            No            No            No   \n",
       "292996           Yes           Yes           Yes           Yes           Yes   \n",
       "292997            No            No            No            No           Yes   \n",
       "292998            No            No            No            No            No   \n",
       "292999            No            No            No            No           Yes   \n",
       "\n",
       "       SCH_GRADE_G08 SCH_GRADE_G09 SCH_GRADE_G10 SCH_GRADE_G11 SCH_GRADE_G12  \n",
       "0                Yes           Yes           Yes           Yes           Yes  \n",
       "1                Yes           Yes           Yes           Yes           Yes  \n",
       "2                Yes           Yes           Yes           Yes           Yes  \n",
       "3                Yes           Yes           Yes           Yes           Yes  \n",
       "4                Yes           Yes           Yes           Yes           Yes  \n",
       "...              ...           ...           ...           ...           ...  \n",
       "292995            No           Yes           Yes           Yes           Yes  \n",
       "292996           Yes           Yes           Yes           Yes           Yes  \n",
       "292997           Yes           Yes           Yes           Yes           Yes  \n",
       "292998            No           Yes           Yes           Yes           Yes  \n",
       "292999           Yes           Yes           Yes           Yes           Yes  \n",
       "\n",
       "[293000 rows x 14 columns]"
      ]
     },
     "execution_count": 93,
     "metadata": {},
     "output_type": "execute_result"
    }
   ],
   "source": [
    "full_table[['SCH_LEVEL', 'SCH_GRADE_KG', 'SCH_GRADE_G01',\n",
    "            'SCH_GRADE_G02', 'SCH_GRADE_G03', 'SCH_GRADE_G04', 'SCH_GRADE_G05',\n",
    "            'SCH_GRADE_G06', 'SCH_GRADE_G07', 'SCH_GRADE_G08', 'SCH_GRADE_G09',\n",
    "            'SCH_GRADE_G10', 'SCH_GRADE_G11', 'SCH_GRADE_G12']]"
   ]
  },
  {
   "cell_type": "code",
   "execution_count": 97,
   "metadata": {},
   "outputs": [],
   "source": [
    "full_table.to_csv('/Users/cave/Desktop/discriminology/output/db_upload_schools.csv')"
   ]
  },
  {
   "cell_type": "code",
   "execution_count": null,
   "metadata": {},
   "outputs": [],
   "source": [
    "full_table_final = join_col_descriptions(full_table)"
   ]
  },
  {
   "cell_type": "code",
   "execution_count": null,
   "metadata": {},
   "outputs": [],
   "source": [
    "full_table_final.to_csv('/Users/cave/Desktop/discriminology/output/full_table_all_years.csv')\n",
    "full_table_final[:2000].to_csv('/Users/cave/Desktop/discriminology/output/full_table_sample.csv')"
   ]
  },
  {
   "cell_type": "code",
   "execution_count": null,
   "metadata": {},
   "outputs": [],
   "source": [
    "full_table_final.shape"
   ]
  },
  {
   "cell_type": "code",
   "execution_count": null,
   "metadata": {},
   "outputs": [],
   "source": [
    "full_table_final.head(50)"
   ]
  },
  {
   "cell_type": "markdown",
   "metadata": {},
   "source": [
    "### Group by districts and sum over fields"
   ]
  },
  {
   "cell_type": "code",
   "execution_count": null,
   "metadata": {},
   "outputs": [],
   "source": [
    "# full_table = pd.read_csv('/Users/cave/Desktop/discriminology/output/full_table_all_years.csv', header=[0,1], index_col=0)"
   ]
  },
  {
   "cell_type": "code",
   "execution_count": 98,
   "metadata": {},
   "outputs": [],
   "source": [
    "district = full_table.copy()"
   ]
  },
  {
   "cell_type": "code",
   "execution_count": 100,
   "metadata": {},
   "outputs": [],
   "source": [
    "# district.columns = district.columns.droplevel(1)\n",
    "district = district.astype(numeric_type_map)"
   ]
  },
  {
   "cell_type": "code",
   "execution_count": 101,
   "metadata": {},
   "outputs": [],
   "source": [
    "district['TOTAL_SCHOOLS'] = 1.0\n",
    "district['TOTAL_ENROLLMENT'] = district['TOT_ENR_F'] + district['TOT_ENR_M']"
   ]
  },
  {
   "cell_type": "markdown",
   "metadata": {},
   "source": [
    "Custom aggregation dictionary - for string values, take the first non-null value.  For numeric fields, take the sum"
   ]
  },
  {
   "cell_type": "code",
   "execution_count": 102,
   "metadata": {},
   "outputs": [],
   "source": [
    "agg_cols = ['LEA_NAME', 'LEA_STATE_NAME', 'TOTAL_SCHOOLS', 'TOTAL_ENROLLMENT',\n",
    "'SCH_DISCWODIS_MULTOOS_HI_M',\n",
    " 'SCH_DISCWDIS_ARR_IDEA_AM_M',\n",
    " 'SCH_GTENR_IDEA_F',\n",
    " 'SCH_DISCWODIS_SINGOOS_HP_F',\n",
    " 'SCH_FTECOUNSELORS',\n",
    " 'SCH_DISCWODIS_ARR_WH_M',\n",
    " 'TOT_DISCWDIS_ARR_IDEA_M',\n",
    " 'SCH_GTENR_TR_M',\n",
    " 'SCH_DISCWODIS_MULTOOS_AS_M',\n",
    " 'SCH_APENR_AM_F',\n",
    " 'SCH_DISCWODIS_REF_BL_F',\n",
    " 'SCH_DISCWODIS_ARR_AM_F',\n",
    " 'TOT_DISCWODIS_REF_M',\n",
    " 'SCH_IDEAENR_HI_M',\n",
    " 'SCH_FTESERVICES_PSY',\n",
    " 'SCH_DISCWDIS_MULTOOS_IDEA_BL_F',\n",
    " 'TOT_APENR_F',\n",
    " 'SCH_DISCWODIS_ARR_WH_F',\n",
    " 'SCH_IDEAENR_HP_M',\n",
    " 'SCH_DISCWDIS_MULTOOS_IDEA_TR_F',\n",
    " 'SCH_DISCWDIS_REF_IDEA_WH_F',\n",
    " 'SCH_DISCWODIS_MULTOOS_WH_M',\n",
    " 'SCH_FTESECURITY_GUA',\n",
    " 'SCH_DISCWODIS_SINGOOS_TR_M',\n",
    " 'SCH_DISCWDIS_REF_IDEA_WH_M',\n",
    " 'SCH_DISCWODIS_ARR_TR_M',\n",
    " 'SCH_DISCWDIS_ARR_IDEA_BL_F',\n",
    " 'SCH_DISCWDIS_ARR_IDEA_TR_M',\n",
    " 'SCH_DISCWDIS_MULTOOS_IDEA_BL_M',\n",
    " 'SCH_DISCWODIS_ARR_AM_M',\n",
    " 'SCH_DISCWDIS_ARR_IDEA_AS_M',\n",
    " 'SCH_DISCWDIS_REF_IDEA_BL_M',\n",
    " 'SCH_GTENR_IDEA_M',\n",
    " 'TOT_DISCWODIS_MULTOOS_M',\n",
    " 'SCH_DISCWDIS_SINGOOS_IDEA_HI_F',\n",
    " 'TOT_DISCWODIS_SINGOOS_F',\n",
    " 'SCH_DISCWDIS_MULTOOS_IDEA_AM_F',\n",
    " 'SCH_DISCWODIS_MULTOOS_TR_F',\n",
    " 'TOT_DISCWODIS_SINGOOS_M',\n",
    " 'SCH_ENR_HI_M',\n",
    " 'SCH_APENR_HI_F',\n",
    " 'SCH_IDEAENR_HI_F',\n",
    " 'SCH_DISCWDIS_REF_IDEA_BL_F',\n",
    " 'SCH_DISCWODIS_MULTOOS_AM_F',\n",
    " 'TOT_DISCWDIS_MULTOOS_IDEA_M',\n",
    " 'SCH_DISCWDIS_REF_IDEA_AS_M',\n",
    " 'SCH_GTENR_HI_M',\n",
    " 'SCH_DISCWODIS_REF_HI_M',\n",
    " 'SCH_FTESERVICES_SOC',\n",
    " 'SCH_DISCWDIS_SINGOOS_IDEA_AM_F',\n",
    " 'SCH_DISCWODIS_REF_TR_M',\n",
    " 'SCH_DISCWDIS_MULTOOS_IDEA_HP_M',\n",
    " 'SCH_DISCWDIS_SINGOOS_IDEA_BL_M',\n",
    " 'TOT_ENR_F',\n",
    " 'SCH_GTENR_AS_F',\n",
    " 'SCH_GTENR_HP_F',\n",
    " 'SCH_ENR_BL_F',\n",
    " 'SCH_DISCWODIS_SINGOOS_BL_M',\n",
    " 'SCH_DISCWODIS_SINGOOS_TR_F',\n",
    " 'SCH_DISCWDIS_MULTOOS_IDEA_WH_F',\n",
    " 'SCH_DISCWDIS_MULTOOS_IDEA_AS_F',\n",
    " 'SCH_DISCWODIS_SINGOOS_HP_M',\n",
    " 'SCH_GTENR_WH_M',\n",
    " 'SCH_DISCWODIS_REF_AM_F',\n",
    " 'SCH_DISCWODIS_SINGOOS_AS_F',\n",
    " 'SCH_DISCWDIS_MULTOOS_IDEA_HI_F',\n",
    " 'SCH_DISCWDIS_SINGOOS_IDEA_HI_M',\n",
    " 'SCH_DISCWODIS_SINGOOS_HI_M',\n",
    " 'SCH_APENR_TR_M',\n",
    " 'SCH_DISCWODIS_REF_HI_F',\n",
    " 'SCH_DISCWODIS_ARR_BL_F',\n",
    " 'SCH_ENR_TR_F',\n",
    " 'SCH_DISCWODIS_SINGOOS_BL_F',\n",
    " 'SCH_DISCWODIS_ARR_HP_F',\n",
    " 'SCH_APENR_AS_M',\n",
    " 'SCH_GTENR_LEP_M',\n",
    " 'SCH_DISCWDIS_REF_IDEA_HI_F',\n",
    " 'SCH_DISCWODIS_MULTOOS_BL_F',\n",
    " 'SCH_DISCWODIS_REF_HP_M',\n",
    " 'SCH_APENR_BL_F',\n",
    " 'SCH_IDEAENR_AS_M',\n",
    " 'TOT_DISCWODIS_ARR_M',\n",
    " 'SCH_DISCWODIS_SINGOOS_HI_F',\n",
    " 'SCH_DISCWDIS_SINGOOS_IDEA_WH_F',\n",
    " 'SCH_IDEAENR_AM_F',\n",
    " 'TOT_APENR_M',\n",
    " 'SCH_DISCWDIS_SINGOOS_IDEA_TR_M',\n",
    " 'SCH_DISCWODIS_REF_TR_F',\n",
    " 'SCH_DISCWDIS_REF_IDEA_AM_M',\n",
    " 'SCH_GTENR_BL_F',\n",
    " 'SCH_IDEAENR_TR_F',\n",
    " 'SCH_DISCWDIS_MULTOOS_IDEA_AM_M',\n",
    " 'SCH_GTENR_HI_F',\n",
    " 'SCH_DISCWODIS_ARR_AS_F',\n",
    " 'SCH_DISCWDIS_SINGOOS_IDEA_TR_F',\n",
    " 'TOT_DISCWODIS_MULTOOS_F',\n",
    " 'SCH_DISCWODIS_REF_AS_M',\n",
    " 'SCH_DISCWDIS_ARR_IDEA_WH_M',\n",
    " 'SCH_DISCWDIS_SINGOOS_IDEA_BL_F',\n",
    " 'TOT_DISCWDIS_SINGOOS_IDEA_M',\n",
    " 'SCH_APENR_HI_M',\n",
    " 'SCH_DISCWODIS_SINGOOS_WH_F',\n",
    " 'SCH_DISCWDIS_ARR_IDEA_HP_M',\n",
    " 'SCH_IDEAENR_AM_M',\n",
    " 'SCH_APENR_AM_M',\n",
    " 'SCH_GTENR_TR_F',\n",
    " 'TOT_GTENR_F',\n",
    " 'SCH_DISCWODIS_SINGOOS_AM_F',\n",
    " 'SCH_APENR_WH_M',\n",
    " 'SCH_DISCWODIS_REF_AM_M',\n",
    " 'TOT_DISCWODIS_REF_F',\n",
    " 'SCH_IDEAENR_BL_F',\n",
    " 'SCH_DISCWODIS_SINGOOS_AS_M',\n",
    " 'TOT_DISCWDIS_SINGOOS_IDEA_F',\n",
    " 'SCH_DISCWODIS_ARR_HI_M',\n",
    " 'SCH_DISCWDIS_ARR_IDEA_HP_F',\n",
    " 'SCH_DISCWDIS_REF_IDEA_HI_M',\n",
    " 'SCH_ENR_TR_M',\n",
    " 'SCH_GTENR_BL_M',\n",
    " 'SCH_DISCWDIS_SINGOOS_IDEA_AM_M',\n",
    " 'SCH_DISCWODIS_ARR_HI_F',\n",
    " 'SCH_IDEAENR_AS_F',\n",
    " 'SCH_DISCWDIS_ARR_IDEA_HI_F',\n",
    " 'SCH_APENR_HP_F',\n",
    " 'TOT_IDEAENR_M',\n",
    " 'SCH_GTENR_AM_M',\n",
    " 'SCH_ENR_BL_M',\n",
    " 'SCH_DISCWDIS_MULTOOS_IDEA_AS_M',\n",
    " 'SCH_ENR_AM_M',\n",
    " 'SCH_DISCWODIS_MULTOOS_WH_F',\n",
    " 'SCH_ENR_HP_M',\n",
    " 'SCH_IDEAENR_BL_M',\n",
    " 'SCH_IDEAENR_TR_M',\n",
    " 'SCH_APENR_WH_F',\n",
    " 'SCH_DISCWDIS_SINGOOS_IDEA_AS_F',\n",
    " 'SCH_ENR_AM_F',\n",
    " 'SCH_DISCWDIS_REF_IDEA_TR_M',\n",
    " 'SCH_DISCWODIS_REF_AS_F',\n",
    " 'SCH_DISCWDIS_ARR_IDEA_AM_F',\n",
    " 'SCH_ENR_WH_M',\n",
    " 'SCH_DISCWODIS_REF_BL_M',\n",
    " 'SCH_DISCWODIS_MULTOOS_AM_M',\n",
    " 'SCH_DISCWDIS_ARR_IDEA_HI_M',\n",
    " 'SCH_DISCWODIS_REF_HP_F',\n",
    " 'SCH_DISCWDIS_SINGOOS_IDEA_AS_M',\n",
    " 'SCH_DISCWODIS_ARR_AS_M',\n",
    " 'SCH_IDEAENR_WH_M',\n",
    " 'SCH_DISCWDIS_MULTOOS_IDEA_HP_F',\n",
    " 'TOT_DISCWDIS_REF_IDEA_M',\n",
    " 'SCH_FTESECURITY_LEO',\n",
    " 'SCH_DISCWODIS_MULTOOS_TR_M',\n",
    " 'SCH_IDEAENR_HP_F',\n",
    " 'SCH_DISCWODIS_MULTOOS_HI_F',\n",
    " 'SCH_DISCWDIS_ARR_IDEA_WH_F',\n",
    " 'SCH_GTENR_HP_M',\n",
    " 'SCH_DISCWDIS_MULTOOS_IDEA_TR_M',\n",
    " 'SCH_DISCWDIS_ARR_IDEA_AS_F',\n",
    " 'SCH_DISCWODIS_REF_WH_M',\n",
    " 'SCH_DISCWODIS_ARR_BL_M',\n",
    " 'TOT_IDEAENR_F',\n",
    " 'TOT_DISCWDIS_ARR_IDEA_F',\n",
    " 'SCH_DISCWODIS_MULTOOS_AS_F',\n",
    " 'SCH_DISCWDIS_MULTOOS_IDEA_WH_M',\n",
    " 'SCH_APENR_TR_F',\n",
    " 'SCH_ENR_WH_F',\n",
    " 'SCH_DISCWODIS_REF_WH_F',\n",
    " 'SCH_APENR_HP_M',\n",
    " 'SCH_DISCWODIS_MULTOOS_BL_M',\n",
    " 'SCH_GTENR_AM_F',\n",
    " 'TOT_DISCWDIS_MULTOOS_IDEA_F',\n",
    " 'SCH_DISCWDIS_REF_IDEA_HP_M',\n",
    " 'SCH_ENR_HI_F',\n",
    " 'SCH_DISCWDIS_REF_IDEA_HP_F',\n",
    " 'TOT_ENR_M',\n",
    " 'SCH_ENR_AS_F',\n",
    " 'SCH_DISCWDIS_REF_IDEA_AM_F',\n",
    " 'SCH_DISCWODIS_ARR_HP_M',\n",
    " 'SCH_APENR_AS_F',\n",
    " 'TOT_DISCWODIS_ARR_F',\n",
    " 'SCH_ENR_AS_M',\n",
    " 'SCH_GTENR_WH_F',\n",
    " 'SCH_DISCWDIS_SINGOOS_IDEA_HP_F',\n",
    " 'SCH_GTENR_LEP_F',\n",
    " 'SCH_IDEAENR_WH_F',\n",
    " 'SCH_DISCWODIS_SINGOOS_AM_M',\n",
    " 'SCH_DISCWODIS_SINGOOS_WH_M',\n",
    " 'SCH_DISCWDIS_ARR_IDEA_TR_F',\n",
    " 'SCH_ENR_HP_F',\n",
    " 'SCH_DISCWODIS_MULTOOS_HP_M',\n",
    " 'SCH_DISCWDIS_REF_IDEA_TR_F',\n",
    " 'SCH_GTENR_AS_M',\n",
    " 'SCH_DISCWDIS_SINGOOS_IDEA_WH_M',\n",
    " 'TOT_GTENR_M',\n",
    " 'SCH_DISCWODIS_ARR_TR_F',\n",
    " 'SCH_DISCWDIS_SINGOOS_IDEA_HP_M',\n",
    " 'SCH_DISCWODIS_MULTOOS_HP_F',\n",
    " 'SCH_DISCWDIS_ARR_IDEA_BL_M',\n",
    " 'SCH_DISCWDIS_REF_IDEA_AS_F',\n",
    " 'SCH_APENR_BL_M',\n",
    " 'TOT_DISCWDIS_REF_IDEA_F',\n",
    " 'SCH_DISCWDIS_MULTOOS_IDEA_HI_M']"
   ]
  },
  {
   "cell_type": "code",
   "execution_count": 103,
   "metadata": {},
   "outputs": [],
   "source": [
    "agg_dict = {k:sum if k not in {'LEA_NAME', 'LEA_STATE_NAME'} else 'first' for k in agg_cols}"
   ]
  },
  {
   "cell_type": "code",
   "execution_count": 106,
   "metadata": {},
   "outputs": [
    {
     "data": {
      "text/plain": [
       "True"
      ]
     },
     "execution_count": 106,
     "metadata": {},
     "output_type": "execute_result"
    }
   ],
   "source": [
    "len(agg_dict) == len(agg_cols)"
   ]
  },
  {
   "cell_type": "code",
   "execution_count": 107,
   "metadata": {},
   "outputs": [],
   "source": [
    "grouped_by_distyr = district.groupby(['LEAID', 'YEAR'])[agg_cols].agg(agg_dict)\n",
    "grouped_by_distyr = grouped_by_distyr[agg_cols]\n",
    "grouped_by_distyr.reset_index(inplace=True)\n",
    "grouped_by_distyr.sort_values(by=['LEAID', 'YEAR'], inplace=True)"
   ]
  },
  {
   "cell_type": "markdown",
   "metadata": {},
   "source": [
    "Read geodata from file and join to district aggregation."
   ]
  },
  {
   "cell_type": "code",
   "execution_count": 112,
   "metadata": {},
   "outputs": [],
   "source": [
    "sch_geo_1516 = pd.read_excel('/Users/cave/Desktop/discriminology/Geocoded Schools:Districts/2015:16/Schools_EDGE_GEOCODE_PUBLICSCH_1516.xlsx', dtype={'NCESSCH': str})\n",
    "dist_geo_1516 = pd.read_excel('/Users/cave/Desktop/discriminology/Geocoded Schools:Districts/2015:16/Districts_EDGE_GEOCODE_PUBLICLEA_1516.xlsx', dtype={'LEAID': str})\n"
   ]
  },
  {
   "cell_type": "code",
   "execution_count": 113,
   "metadata": {},
   "outputs": [
    {
     "data": {
      "text/plain": [
       "102209"
      ]
     },
     "execution_count": 113,
     "metadata": {},
     "output_type": "execute_result"
    }
   ],
   "source": [
    "sch_geo_1516['NCESSCH'] = sch_geo_1516['NCESSCH'].str.zfill(12)\n",
    "dist_geo_1516['LEAID'] = dist_geo_1516['LEAID'].str.zfill(7)\n",
    "sch_geo_1516.NCESSCH.nunique()"
   ]
  },
  {
   "cell_type": "code",
   "execution_count": 114,
   "metadata": {},
   "outputs": [],
   "source": [
    "sch_geo_1819 = pd.read_excel('/Users/cave/Desktop/discriminology/Geocoded Schools:Districts/2018:19/Schools_EDGE_GEOCODE_PUBLICSCH_1819.xlsx', dtype={'NCESSCH': str})\n",
    "dist_geo_1819 = pd.read_excel('/Users/cave/Desktop/discriminology/Geocoded Schools:Districts/2018:19/Districts_EDGE_GEOCODE_PUBLICLEA_1819.xlsx', dtype={'LEAID': str})"
   ]
  },
  {
   "cell_type": "code",
   "execution_count": 115,
   "metadata": {},
   "outputs": [
    {
     "data": {
      "text/plain": [
       "102176"
      ]
     },
     "execution_count": 115,
     "metadata": {},
     "output_type": "execute_result"
    }
   ],
   "source": [
    "sch_geo_1819['NCESSCH'] = sch_geo_1819['NCESSCH'].str.zfill(12)\n",
    "dist_geo_1819['LEAID'] = dist_geo_1819['LEAID'].str.zfill(7)\n",
    "sch_geo_1819.NCESSCH.nunique()"
   ]
  },
  {
   "cell_type": "code",
   "execution_count": 116,
   "metadata": {},
   "outputs": [],
   "source": [
    "geo_data = pd.read_excel('/Users/cave/Desktop/discriminology/LEA Profile Info.xlsx', dtype={'LEAID': str})\n",
    "geo_data['LEAID'] = geo_data['LEAID'].str.zfill(7)"
   ]
  },
  {
   "cell_type": "code",
   "execution_count": 117,
   "metadata": {},
   "outputs": [
    {
     "data": {
      "text/plain": [
       "16758"
      ]
     },
     "execution_count": 117,
     "metadata": {},
     "output_type": "execute_result"
    }
   ],
   "source": [
    "len(geo_data)"
   ]
  },
  {
   "cell_type": "code",
   "execution_count": 119,
   "metadata": {},
   "outputs": [
    {
     "data": {
      "text/plain": [
       "18135"
      ]
     },
     "execution_count": 119,
     "metadata": {},
     "output_type": "execute_result"
    }
   ],
   "source": [
    "len(set(grouped_by_distyr['LEAID'].values))"
   ]
  },
  {
   "cell_type": "code",
   "execution_count": 120,
   "metadata": {},
   "outputs": [
    {
     "data": {
      "text/plain": [
       "16758"
      ]
     },
     "execution_count": 120,
     "metadata": {},
     "output_type": "execute_result"
    }
   ],
   "source": [
    "len(set(geo_data['LEAID'].values).intersection(set(grouped_by_distyr['LEAID'].values)))"
   ]
  },
  {
   "cell_type": "code",
   "execution_count": 121,
   "metadata": {},
   "outputs": [],
   "source": [
    "district_geo = geo_data[['LEAID', 'LEA_ADDRESS', 'LEA_CITY', 'LEA_ZIP',\n",
    "       'CJJ', 'LEA_ENR', 'LEA_SCHOOLS', 'Latitude', 'Longitude']]"
   ]
  },
  {
   "cell_type": "code",
   "execution_count": 122,
   "metadata": {},
   "outputs": [
    {
     "data": {
      "text/html": [
       "<div>\n",
       "<style scoped>\n",
       "    .dataframe tbody tr th:only-of-type {\n",
       "        vertical-align: middle;\n",
       "    }\n",
       "\n",
       "    .dataframe tbody tr th {\n",
       "        vertical-align: top;\n",
       "    }\n",
       "\n",
       "    .dataframe thead th {\n",
       "        text-align: right;\n",
       "    }\n",
       "</style>\n",
       "<table border=\"1\" class=\"dataframe\">\n",
       "  <thead>\n",
       "    <tr style=\"text-align: right;\">\n",
       "      <th></th>\n",
       "      <th>LEAID</th>\n",
       "      <th>LEA_ADDRESS</th>\n",
       "      <th>LEA_CITY</th>\n",
       "      <th>LEA_ZIP</th>\n",
       "      <th>CJJ</th>\n",
       "      <th>LEA_ENR</th>\n",
       "      <th>LEA_SCHOOLS</th>\n",
       "      <th>Latitude</th>\n",
       "      <th>Longitude</th>\n",
       "    </tr>\n",
       "  </thead>\n",
       "  <tbody>\n",
       "    <tr>\n",
       "      <th>0</th>\n",
       "      <td>0100002</td>\n",
       "      <td>1000 INDUSTRIAL SCHOOL ROAD</td>\n",
       "      <td>MT. MEIGS</td>\n",
       "      <td>36057</td>\n",
       "      <td>Yes</td>\n",
       "      <td>3674</td>\n",
       "      <td>3</td>\n",
       "      <td>32.371901</td>\n",
       "      <td>-86.083791</td>\n",
       "    </tr>\n",
       "    <tr>\n",
       "      <th>1</th>\n",
       "      <td>0100005</td>\n",
       "      <td>107 WEST MAIN STREET</td>\n",
       "      <td>ALBERTVILLE</td>\n",
       "      <td>35950</td>\n",
       "      <td>No</td>\n",
       "      <td>4712</td>\n",
       "      <td>6</td>\n",
       "      <td>34.268415</td>\n",
       "      <td>-86.209216</td>\n",
       "    </tr>\n",
       "    <tr>\n",
       "      <th>2</th>\n",
       "      <td>0100006</td>\n",
       "      <td>12380 US HIGHWAY 431 S</td>\n",
       "      <td>GUNTERSVILLE</td>\n",
       "      <td>35976</td>\n",
       "      <td>No</td>\n",
       "      <td>5624</td>\n",
       "      <td>14</td>\n",
       "      <td>34.305366</td>\n",
       "      <td>-86.287334</td>\n",
       "    </tr>\n",
       "    <tr>\n",
       "      <th>3</th>\n",
       "      <td>0100007</td>\n",
       "      <td>2810 METROPOLITAN WAY</td>\n",
       "      <td>HOOVER</td>\n",
       "      <td>35243</td>\n",
       "      <td>No</td>\n",
       "      <td>14054</td>\n",
       "      <td>16</td>\n",
       "      <td>33.445932</td>\n",
       "      <td>-86.750203</td>\n",
       "    </tr>\n",
       "    <tr>\n",
       "      <th>4</th>\n",
       "      <td>0100008</td>\n",
       "      <td>211 CELTIC DRIVE</td>\n",
       "      <td>MADISON</td>\n",
       "      <td>35758</td>\n",
       "      <td>Yes</td>\n",
       "      <td>9206</td>\n",
       "      <td>11</td>\n",
       "      <td>34.686749</td>\n",
       "      <td>-86.745762</td>\n",
       "    </tr>\n",
       "  </tbody>\n",
       "</table>\n",
       "</div>"
      ],
      "text/plain": [
       "     LEAID                  LEA_ADDRESS      LEA_CITY  LEA_ZIP  CJJ  LEA_ENR  \\\n",
       "0  0100002  1000 INDUSTRIAL SCHOOL ROAD     MT. MEIGS    36057  Yes     3674   \n",
       "1  0100005         107 WEST MAIN STREET   ALBERTVILLE    35950   No     4712   \n",
       "2  0100006       12380 US HIGHWAY 431 S  GUNTERSVILLE    35976   No     5624   \n",
       "3  0100007        2810 METROPOLITAN WAY        HOOVER    35243   No    14054   \n",
       "4  0100008             211 CELTIC DRIVE       MADISON    35758  Yes     9206   \n",
       "\n",
       "   LEA_SCHOOLS   Latitude  Longitude  \n",
       "0            3  32.371901 -86.083791  \n",
       "1            6  34.268415 -86.209216  \n",
       "2           14  34.305366 -86.287334  \n",
       "3           16  33.445932 -86.750203  \n",
       "4           11  34.686749 -86.745762  "
      ]
     },
     "execution_count": 122,
     "metadata": {},
     "output_type": "execute_result"
    }
   ],
   "source": [
    "district_geo.head()"
   ]
  },
  {
   "cell_type": "code",
   "execution_count": 123,
   "metadata": {},
   "outputs": [],
   "source": [
    "district_group_w_geo = pd.merge(grouped_by_distyr, district_geo, left_on='LEAID', right_on='LEAID', how='left')"
   ]
  },
  {
   "cell_type": "code",
   "execution_count": 124,
   "metadata": {},
   "outputs": [
    {
     "data": {
      "text/html": [
       "<div>\n",
       "<style scoped>\n",
       "    .dataframe tbody tr th:only-of-type {\n",
       "        vertical-align: middle;\n",
       "    }\n",
       "\n",
       "    .dataframe tbody tr th {\n",
       "        vertical-align: top;\n",
       "    }\n",
       "\n",
       "    .dataframe thead th {\n",
       "        text-align: right;\n",
       "    }\n",
       "</style>\n",
       "<table border=\"1\" class=\"dataframe\">\n",
       "  <thead>\n",
       "    <tr style=\"text-align: right;\">\n",
       "      <th></th>\n",
       "      <th>LEAID</th>\n",
       "      <th>YEAR</th>\n",
       "      <th>LEA_NAME</th>\n",
       "      <th>LEA_STATE_NAME</th>\n",
       "      <th>TOTAL_SCHOOLS</th>\n",
       "      <th>TOTAL_ENROLLMENT</th>\n",
       "      <th>SCH_DISCWODIS_MULTOOS_HI_M</th>\n",
       "      <th>SCH_DISCWDIS_ARR_IDEA_AM_M</th>\n",
       "      <th>SCH_GTENR_IDEA_F</th>\n",
       "      <th>SCH_DISCWODIS_SINGOOS_HP_F</th>\n",
       "      <th>...</th>\n",
       "      <th>TOT_DISCWDIS_REF_IDEA_F</th>\n",
       "      <th>SCH_DISCWDIS_MULTOOS_IDEA_HI_M</th>\n",
       "      <th>LEA_ADDRESS</th>\n",
       "      <th>LEA_CITY</th>\n",
       "      <th>LEA_ZIP</th>\n",
       "      <th>CJJ</th>\n",
       "      <th>LEA_ENR</th>\n",
       "      <th>LEA_SCHOOLS</th>\n",
       "      <th>Latitude</th>\n",
       "      <th>Longitude</th>\n",
       "    </tr>\n",
       "  </thead>\n",
       "  <tbody>\n",
       "    <tr>\n",
       "      <th>0</th>\n",
       "      <td>0100002</td>\n",
       "      <td>2011-12</td>\n",
       "      <td>Alabama Youth Services</td>\n",
       "      <td>ALABAMA</td>\n",
       "      <td>4.0</td>\n",
       "      <td>1098.0</td>\n",
       "      <td>0.0</td>\n",
       "      <td>0.0</td>\n",
       "      <td>0.0</td>\n",
       "      <td>0.0</td>\n",
       "      <td>...</td>\n",
       "      <td>0.0</td>\n",
       "      <td>0.0</td>\n",
       "      <td>1000 INDUSTRIAL SCHOOL ROAD</td>\n",
       "      <td>MT. MEIGS</td>\n",
       "      <td>36057.0</td>\n",
       "      <td>Yes</td>\n",
       "      <td>3674.0</td>\n",
       "      <td>3.0</td>\n",
       "      <td>32.371901</td>\n",
       "      <td>-86.083791</td>\n",
       "    </tr>\n",
       "    <tr>\n",
       "      <th>1</th>\n",
       "      <td>0100002</td>\n",
       "      <td>2013-14</td>\n",
       "      <td>Alabama Youth Services</td>\n",
       "      <td>ALABAMA</td>\n",
       "      <td>3.0</td>\n",
       "      <td>3702.0</td>\n",
       "      <td>0.0</td>\n",
       "      <td>0.0</td>\n",
       "      <td>0.0</td>\n",
       "      <td>0.0</td>\n",
       "      <td>...</td>\n",
       "      <td>0.0</td>\n",
       "      <td>0.0</td>\n",
       "      <td>1000 INDUSTRIAL SCHOOL ROAD</td>\n",
       "      <td>MT. MEIGS</td>\n",
       "      <td>36057.0</td>\n",
       "      <td>Yes</td>\n",
       "      <td>3674.0</td>\n",
       "      <td>3.0</td>\n",
       "      <td>32.371901</td>\n",
       "      <td>-86.083791</td>\n",
       "    </tr>\n",
       "    <tr>\n",
       "      <th>2</th>\n",
       "      <td>0100002</td>\n",
       "      <td>2015-16</td>\n",
       "      <td>Alabama Youth Services</td>\n",
       "      <td>ALABAMA</td>\n",
       "      <td>4.0</td>\n",
       "      <td>1126.0</td>\n",
       "      <td>0.0</td>\n",
       "      <td>0.0</td>\n",
       "      <td>0.0</td>\n",
       "      <td>0.0</td>\n",
       "      <td>...</td>\n",
       "      <td>0.0</td>\n",
       "      <td>0.0</td>\n",
       "      <td>1000 INDUSTRIAL SCHOOL ROAD</td>\n",
       "      <td>MT. MEIGS</td>\n",
       "      <td>36057.0</td>\n",
       "      <td>Yes</td>\n",
       "      <td>3674.0</td>\n",
       "      <td>3.0</td>\n",
       "      <td>32.371901</td>\n",
       "      <td>-86.083791</td>\n",
       "    </tr>\n",
       "    <tr>\n",
       "      <th>3</th>\n",
       "      <td>0100005</td>\n",
       "      <td>2011-12</td>\n",
       "      <td>Albertville City</td>\n",
       "      <td>ALABAMA</td>\n",
       "      <td>6.0</td>\n",
       "      <td>4149.0</td>\n",
       "      <td>8.0</td>\n",
       "      <td>0.0</td>\n",
       "      <td>0.0</td>\n",
       "      <td>0.0</td>\n",
       "      <td>...</td>\n",
       "      <td>2.0</td>\n",
       "      <td>2.0</td>\n",
       "      <td>107 WEST MAIN STREET</td>\n",
       "      <td>ALBERTVILLE</td>\n",
       "      <td>35950.0</td>\n",
       "      <td>No</td>\n",
       "      <td>4712.0</td>\n",
       "      <td>6.0</td>\n",
       "      <td>34.268415</td>\n",
       "      <td>-86.209216</td>\n",
       "    </tr>\n",
       "    <tr>\n",
       "      <th>4</th>\n",
       "      <td>0100005</td>\n",
       "      <td>2013-14</td>\n",
       "      <td>Albertville City</td>\n",
       "      <td>ALABAMA</td>\n",
       "      <td>6.0</td>\n",
       "      <td>4723.0</td>\n",
       "      <td>9.0</td>\n",
       "      <td>0.0</td>\n",
       "      <td>0.0</td>\n",
       "      <td>0.0</td>\n",
       "      <td>...</td>\n",
       "      <td>0.0</td>\n",
       "      <td>4.0</td>\n",
       "      <td>107 WEST MAIN STREET</td>\n",
       "      <td>ALBERTVILLE</td>\n",
       "      <td>35950.0</td>\n",
       "      <td>No</td>\n",
       "      <td>4712.0</td>\n",
       "      <td>6.0</td>\n",
       "      <td>34.268415</td>\n",
       "      <td>-86.209216</td>\n",
       "    </tr>\n",
       "  </tbody>\n",
       "</table>\n",
       "<p>5 rows × 215 columns</p>\n",
       "</div>"
      ],
      "text/plain": [
       "     LEAID     YEAR                LEA_NAME LEA_STATE_NAME  TOTAL_SCHOOLS  \\\n",
       "0  0100002  2011-12  Alabama Youth Services        ALABAMA            4.0   \n",
       "1  0100002  2013-14  Alabama Youth Services        ALABAMA            3.0   \n",
       "2  0100002  2015-16  Alabama Youth Services        ALABAMA            4.0   \n",
       "3  0100005  2011-12        Albertville City        ALABAMA            6.0   \n",
       "4  0100005  2013-14        Albertville City        ALABAMA            6.0   \n",
       "\n",
       "   TOTAL_ENROLLMENT  SCH_DISCWODIS_MULTOOS_HI_M  SCH_DISCWDIS_ARR_IDEA_AM_M  \\\n",
       "0            1098.0                         0.0                         0.0   \n",
       "1            3702.0                         0.0                         0.0   \n",
       "2            1126.0                         0.0                         0.0   \n",
       "3            4149.0                         8.0                         0.0   \n",
       "4            4723.0                         9.0                         0.0   \n",
       "\n",
       "   SCH_GTENR_IDEA_F  SCH_DISCWODIS_SINGOOS_HP_F  ...  TOT_DISCWDIS_REF_IDEA_F  \\\n",
       "0               0.0                         0.0  ...                      0.0   \n",
       "1               0.0                         0.0  ...                      0.0   \n",
       "2               0.0                         0.0  ...                      0.0   \n",
       "3               0.0                         0.0  ...                      2.0   \n",
       "4               0.0                         0.0  ...                      0.0   \n",
       "\n",
       "   SCH_DISCWDIS_MULTOOS_IDEA_HI_M                  LEA_ADDRESS     LEA_CITY  \\\n",
       "0                             0.0  1000 INDUSTRIAL SCHOOL ROAD    MT. MEIGS   \n",
       "1                             0.0  1000 INDUSTRIAL SCHOOL ROAD    MT. MEIGS   \n",
       "2                             0.0  1000 INDUSTRIAL SCHOOL ROAD    MT. MEIGS   \n",
       "3                             2.0         107 WEST MAIN STREET  ALBERTVILLE   \n",
       "4                             4.0         107 WEST MAIN STREET  ALBERTVILLE   \n",
       "\n",
       "   LEA_ZIP  CJJ  LEA_ENR  LEA_SCHOOLS   Latitude  Longitude  \n",
       "0  36057.0  Yes   3674.0          3.0  32.371901 -86.083791  \n",
       "1  36057.0  Yes   3674.0          3.0  32.371901 -86.083791  \n",
       "2  36057.0  Yes   3674.0          3.0  32.371901 -86.083791  \n",
       "3  35950.0   No   4712.0          6.0  34.268415 -86.209216  \n",
       "4  35950.0   No   4712.0          6.0  34.268415 -86.209216  \n",
       "\n",
       "[5 rows x 215 columns]"
      ]
     },
     "execution_count": 124,
     "metadata": {},
     "output_type": "execute_result"
    }
   ],
   "source": [
    "district_group_w_geo.head()"
   ]
  },
  {
   "cell_type": "code",
   "execution_count": 132,
   "metadata": {},
   "outputs": [],
   "source": [
    "text_cols = ['LEAID', 'LEA_NAME', \"YEAR\", \"LEA_STATE\", \"LEA_STATE_NAME\",\n",
    "    \"LEAID\", \"LEA_NAME\", 'LEA_ADDRESS', 'LEA_CITY', 'CJJ',\n",
    "    ]"
   ]
  },
  {
   "cell_type": "code",
   "execution_count": 138,
   "metadata": {},
   "outputs": [
    {
     "name": "stdout",
     "output_type": "stream",
     "text": [
      "\"LEAID\" text,\n",
      "\"YEAR\" text,\n",
      "\"LEA_NAME\" text,\n",
      "\"LEA_STATE_NAME\" text,\n",
      "\"TOTAL_SCHOOLS\" double precision,\n",
      "\"TOTAL_ENROLLMENT\" double precision,\n",
      "\"SCH_DISCWODIS_MULTOOS_HI_M\" double precision,\n",
      "\"SCH_DISCWDIS_ARR_IDEA_AM_M\" double precision,\n",
      "\"SCH_GTENR_IDEA_F\" double precision,\n",
      "\"SCH_DISCWODIS_SINGOOS_HP_F\" double precision,\n",
      "\"SCH_FTECOUNSELORS\" double precision,\n",
      "\"SCH_DISCWODIS_ARR_WH_M\" double precision,\n",
      "\"TOT_DISCWDIS_ARR_IDEA_M\" double precision,\n",
      "\"SCH_GTENR_TR_M\" double precision,\n",
      "\"SCH_DISCWODIS_MULTOOS_AS_M\" double precision,\n",
      "\"SCH_APENR_AM_F\" double precision,\n",
      "\"SCH_DISCWODIS_REF_BL_F\" double precision,\n",
      "\"SCH_DISCWODIS_ARR_AM_F\" double precision,\n",
      "\"TOT_DISCWODIS_REF_M\" double precision,\n",
      "\"SCH_IDEAENR_HI_M\" double precision,\n",
      "\"SCH_FTESERVICES_PSY\" double precision,\n",
      "\"SCH_DISCWDIS_MULTOOS_IDEA_BL_F\" double precision,\n",
      "\"TOT_APENR_F\" double precision,\n",
      "\"SCH_DISCWODIS_ARR_WH_F\" double precision,\n",
      "\"SCH_IDEAENR_HP_M\" double precision,\n",
      "\"SCH_DISCWDIS_MULTOOS_IDEA_TR_F\" double precision,\n",
      "\"SCH_DISCWDIS_REF_IDEA_WH_F\" double precision,\n",
      "\"SCH_DISCWODIS_MULTOOS_WH_M\" double precision,\n",
      "\"SCH_FTESECURITY_GUA\" double precision,\n",
      "\"SCH_DISCWODIS_SINGOOS_TR_M\" double precision,\n",
      "\"SCH_DISCWDIS_REF_IDEA_WH_M\" double precision,\n",
      "\"SCH_DISCWODIS_ARR_TR_M\" double precision,\n",
      "\"SCH_DISCWDIS_ARR_IDEA_BL_F\" double precision,\n",
      "\"SCH_DISCWDIS_ARR_IDEA_TR_M\" double precision,\n",
      "\"SCH_DISCWDIS_MULTOOS_IDEA_BL_M\" double precision,\n",
      "\"SCH_DISCWODIS_ARR_AM_M\" double precision,\n",
      "\"SCH_DISCWDIS_ARR_IDEA_AS_M\" double precision,\n",
      "\"SCH_DISCWDIS_REF_IDEA_BL_M\" double precision,\n",
      "\"SCH_GTENR_IDEA_M\" double precision,\n",
      "\"TOT_DISCWODIS_MULTOOS_M\" double precision,\n",
      "\"SCH_DISCWDIS_SINGOOS_IDEA_HI_F\" double precision,\n",
      "\"TOT_DISCWODIS_SINGOOS_F\" double precision,\n",
      "\"SCH_DISCWDIS_MULTOOS_IDEA_AM_F\" double precision,\n",
      "\"SCH_DISCWODIS_MULTOOS_TR_F\" double precision,\n",
      "\"TOT_DISCWODIS_SINGOOS_M\" double precision,\n",
      "\"SCH_ENR_HI_M\" double precision,\n",
      "\"SCH_APENR_HI_F\" double precision,\n",
      "\"SCH_IDEAENR_HI_F\" double precision,\n",
      "\"SCH_DISCWDIS_REF_IDEA_BL_F\" double precision,\n",
      "\"SCH_DISCWODIS_MULTOOS_AM_F\" double precision,\n",
      "\"TOT_DISCWDIS_MULTOOS_IDEA_M\" double precision,\n",
      "\"SCH_DISCWDIS_REF_IDEA_AS_M\" double precision,\n",
      "\"SCH_GTENR_HI_M\" double precision,\n",
      "\"SCH_DISCWODIS_REF_HI_M\" double precision,\n",
      "\"SCH_FTESERVICES_SOC\" double precision,\n",
      "\"SCH_DISCWDIS_SINGOOS_IDEA_AM_F\" double precision,\n",
      "\"SCH_DISCWODIS_REF_TR_M\" double precision,\n",
      "\"SCH_DISCWDIS_MULTOOS_IDEA_HP_M\" double precision,\n",
      "\"SCH_DISCWDIS_SINGOOS_IDEA_BL_M\" double precision,\n",
      "\"TOT_ENR_F\" double precision,\n",
      "\"SCH_GTENR_AS_F\" double precision,\n",
      "\"SCH_GTENR_HP_F\" double precision,\n",
      "\"SCH_ENR_BL_F\" double precision,\n",
      "\"SCH_DISCWODIS_SINGOOS_BL_M\" double precision,\n",
      "\"SCH_DISCWODIS_SINGOOS_TR_F\" double precision,\n",
      "\"SCH_DISCWDIS_MULTOOS_IDEA_WH_F\" double precision,\n",
      "\"SCH_DISCWDIS_MULTOOS_IDEA_AS_F\" double precision,\n",
      "\"SCH_DISCWODIS_SINGOOS_HP_M\" double precision,\n",
      "\"SCH_GTENR_WH_M\" double precision,\n",
      "\"SCH_DISCWODIS_REF_AM_F\" double precision,\n",
      "\"SCH_DISCWODIS_SINGOOS_AS_F\" double precision,\n",
      "\"SCH_DISCWDIS_MULTOOS_IDEA_HI_F\" double precision,\n",
      "\"SCH_DISCWDIS_SINGOOS_IDEA_HI_M\" double precision,\n",
      "\"SCH_DISCWODIS_SINGOOS_HI_M\" double precision,\n",
      "\"SCH_APENR_TR_M\" double precision,\n",
      "\"SCH_DISCWODIS_REF_HI_F\" double precision,\n",
      "\"SCH_DISCWODIS_ARR_BL_F\" double precision,\n",
      "\"SCH_ENR_TR_F\" double precision,\n",
      "\"SCH_DISCWODIS_SINGOOS_BL_F\" double precision,\n",
      "\"SCH_DISCWODIS_ARR_HP_F\" double precision,\n",
      "\"SCH_APENR_AS_M\" double precision,\n",
      "\"SCH_GTENR_LEP_M\" double precision,\n",
      "\"SCH_DISCWDIS_REF_IDEA_HI_F\" double precision,\n",
      "\"SCH_DISCWODIS_MULTOOS_BL_F\" double precision,\n",
      "\"SCH_DISCWODIS_REF_HP_M\" double precision,\n",
      "\"SCH_APENR_BL_F\" double precision,\n",
      "\"SCH_IDEAENR_AS_M\" double precision,\n",
      "\"TOT_DISCWODIS_ARR_M\" double precision,\n",
      "\"SCH_DISCWODIS_SINGOOS_HI_F\" double precision,\n",
      "\"SCH_DISCWDIS_SINGOOS_IDEA_WH_F\" double precision,\n",
      "\"SCH_IDEAENR_AM_F\" double precision,\n",
      "\"TOT_APENR_M\" double precision,\n",
      "\"SCH_DISCWDIS_SINGOOS_IDEA_TR_M\" double precision,\n",
      "\"SCH_DISCWODIS_REF_TR_F\" double precision,\n",
      "\"SCH_DISCWDIS_REF_IDEA_AM_M\" double precision,\n",
      "\"SCH_GTENR_BL_F\" double precision,\n",
      "\"SCH_IDEAENR_TR_F\" double precision,\n",
      "\"SCH_DISCWDIS_MULTOOS_IDEA_AM_M\" double precision,\n",
      "\"SCH_GTENR_HI_F\" double precision,\n",
      "\"SCH_DISCWODIS_ARR_AS_F\" double precision,\n",
      "\"SCH_DISCWDIS_SINGOOS_IDEA_TR_F\" double precision,\n",
      "\"TOT_DISCWODIS_MULTOOS_F\" double precision,\n",
      "\"SCH_DISCWODIS_REF_AS_M\" double precision,\n",
      "\"SCH_DISCWDIS_ARR_IDEA_WH_M\" double precision,\n",
      "\"SCH_DISCWDIS_SINGOOS_IDEA_BL_F\" double precision,\n",
      "\"TOT_DISCWDIS_SINGOOS_IDEA_M\" double precision,\n",
      "\"SCH_APENR_HI_M\" double precision,\n",
      "\"SCH_DISCWODIS_SINGOOS_WH_F\" double precision,\n",
      "\"SCH_DISCWDIS_ARR_IDEA_HP_M\" double precision,\n",
      "\"SCH_IDEAENR_AM_M\" double precision,\n",
      "\"SCH_APENR_AM_M\" double precision,\n",
      "\"SCH_GTENR_TR_F\" double precision,\n",
      "\"TOT_GTENR_F\" double precision,\n",
      "\"SCH_DISCWODIS_SINGOOS_AM_F\" double precision,\n",
      "\"SCH_APENR_WH_M\" double precision,\n",
      "\"SCH_DISCWODIS_REF_AM_M\" double precision,\n",
      "\"TOT_DISCWODIS_REF_F\" double precision,\n",
      "\"SCH_IDEAENR_BL_F\" double precision,\n",
      "\"SCH_DISCWODIS_SINGOOS_AS_M\" double precision,\n",
      "\"TOT_DISCWDIS_SINGOOS_IDEA_F\" double precision,\n",
      "\"SCH_DISCWODIS_ARR_HI_M\" double precision,\n",
      "\"SCH_DISCWDIS_ARR_IDEA_HP_F\" double precision,\n",
      "\"SCH_DISCWDIS_REF_IDEA_HI_M\" double precision,\n",
      "\"SCH_ENR_TR_M\" double precision,\n",
      "\"SCH_GTENR_BL_M\" double precision,\n",
      "\"SCH_DISCWDIS_SINGOOS_IDEA_AM_M\" double precision,\n",
      "\"SCH_DISCWODIS_ARR_HI_F\" double precision,\n",
      "\"SCH_IDEAENR_AS_F\" double precision,\n",
      "\"SCH_DISCWDIS_ARR_IDEA_HI_F\" double precision,\n",
      "\"SCH_APENR_HP_F\" double precision,\n",
      "\"TOT_IDEAENR_M\" double precision,\n",
      "\"SCH_GTENR_AM_M\" double precision,\n",
      "\"SCH_ENR_BL_M\" double precision,\n",
      "\"SCH_DISCWDIS_MULTOOS_IDEA_AS_M\" double precision,\n",
      "\"SCH_ENR_AM_M\" double precision,\n",
      "\"SCH_DISCWODIS_MULTOOS_WH_F\" double precision,\n",
      "\"SCH_ENR_HP_M\" double precision,\n",
      "\"SCH_IDEAENR_BL_M\" double precision,\n",
      "\"SCH_IDEAENR_TR_M\" double precision,\n",
      "\"SCH_APENR_WH_F\" double precision,\n",
      "\"SCH_DISCWDIS_SINGOOS_IDEA_AS_F\" double precision,\n",
      "\"SCH_ENR_AM_F\" double precision,\n",
      "\"SCH_DISCWDIS_REF_IDEA_TR_M\" double precision,\n",
      "\"SCH_DISCWODIS_REF_AS_F\" double precision,\n",
      "\"SCH_DISCWDIS_ARR_IDEA_AM_F\" double precision,\n",
      "\"SCH_ENR_WH_M\" double precision,\n",
      "\"SCH_DISCWODIS_REF_BL_M\" double precision,\n",
      "\"SCH_DISCWODIS_MULTOOS_AM_M\" double precision,\n",
      "\"SCH_DISCWDIS_ARR_IDEA_HI_M\" double precision,\n",
      "\"SCH_DISCWODIS_REF_HP_F\" double precision,\n",
      "\"SCH_DISCWDIS_SINGOOS_IDEA_AS_M\" double precision,\n",
      "\"SCH_DISCWODIS_ARR_AS_M\" double precision,\n",
      "\"SCH_IDEAENR_WH_M\" double precision,\n",
      "\"SCH_DISCWDIS_MULTOOS_IDEA_HP_F\" double precision,\n",
      "\"TOT_DISCWDIS_REF_IDEA_M\" double precision,\n",
      "\"SCH_FTESECURITY_LEO\" double precision,\n",
      "\"SCH_DISCWODIS_MULTOOS_TR_M\" double precision,\n",
      "\"SCH_IDEAENR_HP_F\" double precision,\n",
      "\"SCH_DISCWODIS_MULTOOS_HI_F\" double precision,\n",
      "\"SCH_DISCWDIS_ARR_IDEA_WH_F\" double precision,\n",
      "\"SCH_GTENR_HP_M\" double precision,\n",
      "\"SCH_DISCWDIS_MULTOOS_IDEA_TR_M\" double precision,\n",
      "\"SCH_DISCWDIS_ARR_IDEA_AS_F\" double precision,\n",
      "\"SCH_DISCWODIS_REF_WH_M\" double precision,\n",
      "\"SCH_DISCWODIS_ARR_BL_M\" double precision,\n",
      "\"TOT_IDEAENR_F\" double precision,\n",
      "\"TOT_DISCWDIS_ARR_IDEA_F\" double precision,\n",
      "\"SCH_DISCWODIS_MULTOOS_AS_F\" double precision,\n",
      "\"SCH_DISCWDIS_MULTOOS_IDEA_WH_M\" double precision,\n",
      "\"SCH_APENR_TR_F\" double precision,\n",
      "\"SCH_ENR_WH_F\" double precision,\n",
      "\"SCH_DISCWODIS_REF_WH_F\" double precision,\n",
      "\"SCH_APENR_HP_M\" double precision,\n",
      "\"SCH_DISCWODIS_MULTOOS_BL_M\" double precision,\n",
      "\"SCH_GTENR_AM_F\" double precision,\n",
      "\"TOT_DISCWDIS_MULTOOS_IDEA_F\" double precision,\n",
      "\"SCH_DISCWDIS_REF_IDEA_HP_M\" double precision,\n",
      "\"SCH_ENR_HI_F\" double precision,\n",
      "\"SCH_DISCWDIS_REF_IDEA_HP_F\" double precision,\n",
      "\"TOT_ENR_M\" double precision,\n",
      "\"SCH_ENR_AS_F\" double precision,\n",
      "\"SCH_DISCWDIS_REF_IDEA_AM_F\" double precision,\n",
      "\"SCH_DISCWODIS_ARR_HP_M\" double precision,\n",
      "\"SCH_APENR_AS_F\" double precision,\n",
      "\"TOT_DISCWODIS_ARR_F\" double precision,\n",
      "\"SCH_ENR_AS_M\" double precision,\n",
      "\"SCH_GTENR_WH_F\" double precision,\n",
      "\"SCH_DISCWDIS_SINGOOS_IDEA_HP_F\" double precision,\n",
      "\"SCH_GTENR_LEP_F\" double precision,\n",
      "\"SCH_IDEAENR_WH_F\" double precision,\n",
      "\"SCH_DISCWODIS_SINGOOS_AM_M\" double precision,\n",
      "\"SCH_DISCWODIS_SINGOOS_WH_M\" double precision,\n",
      "\"SCH_DISCWDIS_ARR_IDEA_TR_F\" double precision,\n",
      "\"SCH_ENR_HP_F\" double precision,\n",
      "\"SCH_DISCWODIS_MULTOOS_HP_M\" double precision,\n",
      "\"SCH_DISCWDIS_REF_IDEA_TR_F\" double precision,\n",
      "\"SCH_GTENR_AS_M\" double precision,\n",
      "\"SCH_DISCWDIS_SINGOOS_IDEA_WH_M\" double precision,\n",
      "\"TOT_GTENR_M\" double precision,\n",
      "\"SCH_DISCWODIS_ARR_TR_F\" double precision,\n",
      "\"SCH_DISCWDIS_SINGOOS_IDEA_HP_M\" double precision,\n",
      "\"SCH_DISCWODIS_MULTOOS_HP_F\" double precision,\n",
      "\"SCH_DISCWDIS_ARR_IDEA_BL_M\" double precision,\n",
      "\"SCH_DISCWDIS_REF_IDEA_AS_F\" double precision,\n",
      "\"SCH_APENR_BL_M\" double precision,\n",
      "\"TOT_DISCWDIS_REF_IDEA_F\" double precision,\n",
      "\"SCH_DISCWDIS_MULTOOS_IDEA_HI_M\" double precision,\n",
      "\"LEA_ADDRESS\" text,\n",
      "\"LEA_CITY\" text,\n",
      "\"LEA_ZIP\" double precision,\n",
      "\"CJJ\" text,\n",
      "\"LEA_ENR\" double precision,\n",
      "\"LEA_SCHOOLS\" double precision,\n",
      "\"Latitude\" double precision,\n",
      "\"Longitude\" double precision,\n"
     ]
    }
   ],
   "source": [
    "district_create = [print(f'\"{k}\" double precision,') if k not in text_cols else print(f'\"{k}\" text,') for k in district_group_w_geo.columns]"
   ]
  },
  {
   "cell_type": "code",
   "execution_count": 144,
   "metadata": {},
   "outputs": [],
   "source": [
    "dist_type_map = {k:v for k,v in type_map.items() if k in district_group_w_geo.columns}"
   ]
  },
  {
   "cell_type": "code",
   "execution_count": 146,
   "metadata": {},
   "outputs": [],
   "source": [
    "district_group_w_geo = district_group_w_geo.astype(dist_type_map)"
   ]
  },
  {
   "cell_type": "code",
   "execution_count": 147,
   "metadata": {},
   "outputs": [],
   "source": [
    "district_group_w_geo.to_csv('/Users/cave/Desktop/discriminology/output/db_upload_districts.csv')"
   ]
  },
  {
   "cell_type": "code",
   "execution_count": null,
   "metadata": {},
   "outputs": [],
   "source": [
    "district_merge = pd.merge(district_group_w_geo.T, descriptions, left_index=True, right_index=True, how='left').set_index('description', append=True).T"
   ]
  },
  {
   "cell_type": "code",
   "execution_count": null,
   "metadata": {},
   "outputs": [],
   "source": [
    "sample = district_merge[~district_merge['Latitude', None].isna()]\n",
    "sample[-600:].to_csv('~/Desktop/discriminology/output/district_level_sample.csv')"
   ]
  },
  {
   "cell_type": "markdown",
   "metadata": {},
   "source": [
    "### Code Sandbox - everything below only needs to be run once"
   ]
  },
  {
   "cell_type": "code",
   "execution_count": null,
   "metadata": {
    "scrolled": true
   },
   "outputs": [],
   "source": [
    "# descriptions = pd.concat(desc_frames_1112, axis=0)\n",
    "# descriptions.drop_duplicates(inplace=True)\n",
    "# descriptions.set_index('Field Name', inplace=True)\n",
    "# descriptions = descriptions.loc[fields_1112]\n",
    "# descriptions.columns = ['2011_12_description']\n",
    "# descriptions.reset_index().to_csv('/Users/cave/Desktop/2011_12_field_descriptions.csv')\n",
    "\n",
    "# descriptions = pd.concat(desc_frames_1314, axis=0)\n",
    "# descriptions.drop_duplicates(inplace=True)\n",
    "# descriptions.set_index('Field Name', inplace=True)\n",
    "# descriptions = descriptions.loc[fields_1314]\n",
    "# descriptions.columns = ['2013_14_description']\n",
    "# descriptions.reset_index().to_csv('/Users/cave/Desktop/2013_14_field_descriptions.csv')"
   ]
  }
 ],
 "metadata": {
  "kernelspec": {
   "display_name": "Python 3",
   "language": "python",
   "name": "python3"
  },
  "language_info": {
   "codemirror_mode": {
    "name": "ipython",
    "version": 3
   },
   "file_extension": ".py",
   "mimetype": "text/x-python",
   "name": "python",
   "nbconvert_exporter": "python",
   "pygments_lexer": "ipython3",
   "version": "3.7.0"
  }
 },
 "nbformat": 4,
 "nbformat_minor": 2
}
