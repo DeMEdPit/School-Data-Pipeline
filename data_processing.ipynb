{
 "cells": [
  {
   "cell_type": "code",
   "execution_count": 32,
   "metadata": {},
   "outputs": [],
   "source": [
    "import pandas as pd"
   ]
  },
  {
   "cell_type": "markdown",
   "metadata": {},
   "source": [
    "### Extract methodology fields for each year"
   ]
  },
  {
   "cell_type": "code",
   "execution_count": 33,
   "metadata": {},
   "outputs": [],
   "source": [
    "mf = pd.read_excel('/Users/cave/Desktop/discriminology/methodology_fields.xlsx')"
   ]
  },
  {
   "cell_type": "code",
   "execution_count": 34,
   "metadata": {},
   "outputs": [],
   "source": [
    "fields_1112 = mf['Field_Name 2011/12'].str.replace('\\n', ',').str.split(',').apply(pd.Series).stack().drop_duplicates().values\n",
    "\n",
    "fields_1314 = mf['Field_Name 2013/14'].str.replace('\\n', ',').str.split(',').apply(pd.Series).stack().drop_duplicates().values\n",
    "\n",
    "fields_1516 = mf['Field_Name 2015/16'].str.replace('\\n', ',').str.split(',').apply(pd.Series).stack().drop_duplicates().values\n"
   ]
  },
  {
   "cell_type": "markdown",
   "metadata": {},
   "source": [
    "Check that there are no duplicates in the desired fields"
   ]
  },
  {
   "cell_type": "code",
   "execution_count": 35,
   "metadata": {},
   "outputs": [],
   "source": [
    "assert len(fields_1112) == pd.Series(fields_1112).nunique()\n",
    "assert len(fields_1314) == pd.Series(fields_1314).nunique()\n",
    "assert len(fields_1516) == pd.Series(fields_1516).nunique()"
   ]
  },
  {
   "cell_type": "code",
   "execution_count": 36,
   "metadata": {},
   "outputs": [
    {
     "name": "stdout",
     "output_type": "stream",
     "text": [
      "221 desired columns from 11/12 data\n",
      "219 desired columns from 13/14 data\n",
      "231 desired columns from 15/16 data\n"
     ]
    }
   ],
   "source": [
    "print(f\"{len(fields_1112)} desired columns from 11/12 data\")\n",
    "print(f\"{len(fields_1314)} desired columns from 13/14 data\")\n",
    "print(f\"{len(fields_1516)} desired columns from 15/16 data\")"
   ]
  },
  {
   "cell_type": "markdown",
   "metadata": {},
   "source": [
    "Read field mappings and data types"
   ]
  },
  {
   "cell_type": "code",
   "execution_count": 37,
   "metadata": {},
   "outputs": [],
   "source": [
    "field_mappings = pd.read_excel('/Users/cave/Desktop/discriminology/field_mapping.xlsx')"
   ]
  },
  {
   "cell_type": "code",
   "execution_count": 38,
   "metadata": {},
   "outputs": [],
   "source": [
    "map_ = field_mappings[['11_12_field', '13_14_field', 'type']].dropna(subset=['11_12_field'])\n",
    "map_2 = field_mappings[['11_12_field', '13_14_field']].dropna(subset=['11_12_field', '13_14_field'])\n",
    "map_11_12 = pd.Series(map_2['13_14_field'].values, index=map_2['11_12_field']).to_dict()\n",
    "type_dict_11_12 = pd.Series(map_['type'].values, index=map_['11_12_field']).to_dict()\n",
    "final_type_dict_11_12 = {k:v for k,v in type_dict_11_12.items() if v !='str'}"
   ]
  },
  {
   "cell_type": "code",
   "execution_count": 39,
   "metadata": {},
   "outputs": [],
   "source": [
    "field_mappings['col_superset'] = field_mappings['15_16_field'].combine_first(field_mappings['11_12_field'])\n",
    "type_map = pd.Series(field_mappings.type.values, index=field_mappings.col_superset).to_dict()\n",
    "numeric_type_map = {k:v for k,v in type_map.items() if v !='str'}"
   ]
  },
  {
   "cell_type": "code",
   "execution_count": 40,
   "metadata": {},
   "outputs": [],
   "source": [
    "field_mappings[['col_superset', 'description']]\n",
    "descriptions = field_mappings[['col_superset', 'description']].set_index('col_superset')"
   ]
  },
  {
   "cell_type": "code",
   "execution_count": 41,
   "metadata": {},
   "outputs": [
    {
     "name": "stdout",
     "output_type": "stream",
     "text": [
      "230\n"
     ]
    }
   ],
   "source": [
    "print(len(descriptions))"
   ]
  },
  {
   "cell_type": "code",
   "execution_count": 42,
   "metadata": {},
   "outputs": [],
   "source": [
    "universal_types = {'SCH_ZIP ': str\n",
    "                   ,'SCHID': str\n",
    "                   ,'COMBOKEY': str\n",
    "                   ,'LEAID': str\n",
    "                  }"
   ]
  },
  {
   "cell_type": "markdown",
   "metadata": {},
   "source": [
    "### Create helper functions to aggregate dataframes and label coded columns"
   ]
  },
  {
   "cell_type": "code",
   "execution_count": 82,
   "metadata": {},
   "outputs": [],
   "source": [
    "def aggregate_data(frame_array, desired_fields):\n",
    "\n",
    "    clean_frames = []\n",
    "\n",
    "    for df in frame_array:\n",
    "        # subset dataframe to desired columns\n",
    "\n",
    "        temp = df[list(set(df.columns[df.columns.isin(desired_fields)]))]\n",
    "\n",
    "        num = temp._get_numeric_data()\n",
    "        num[num < 0] = 0 # replace negative numbers with 0\n",
    "        temp = temp.replace('<=2', '1') # round <=2 to 1, following ProPublica convention\n",
    "        temp = temp.replace('‡', None) # remove misc symbols from values\n",
    "        temp['COMBOKEY'] = temp['COMBOKEY'].astype(str)\n",
    "        temp.set_index('COMBOKEY', inplace=True)\n",
    "        clean_frames.append(temp)\n",
    "\n",
    "\n",
    "    concat = pd.concat(clean_frames, axis=1, sort=True)\n",
    "    flipped = concat.T.drop_duplicates()\n",
    "    grouped = flipped.groupby(lambda x: x).agg({c: 'last' for c in flipped.columns})\n",
    "    return grouped.T"
   ]
  },
  {
   "cell_type": "code",
   "execution_count": 83,
   "metadata": {},
   "outputs": [],
   "source": [
    "def join_col_descriptions(agg_data, year):\n",
    "    '''\n",
    "    INPUTS\n",
    "    \n",
    "    frames (list of DataFrames): Array of dataframes with field codes and descriptions\n",
    "    agg_data (DataFrame): Aggregated data with coded fields as columns\n",
    "    year (STR): year range of data e.g. '2015-16'\n",
    "    \n",
    "    '''\n",
    "    final = pd.merge(agg_data.T, descriptions, left_index=True, right_index=True, how='inner').set_index('description', append=True).T\n",
    "    final['YEAR','School Year'] = year\n",
    "    final.to_csv(f'~/Desktop/discriminology/output/final_data_{year}.csv')\n",
    "    return final\n",
    "    "
   ]
  },
  {
   "cell_type": "markdown",
   "metadata": {},
   "source": [
    "### Load all data + col description files for 2011-12"
   ]
  },
  {
   "cell_type": "code",
   "execution_count": 84,
   "metadata": {
    "scrolled": true
   },
   "outputs": [],
   "source": [
    "## Reads originals from excel\n",
    "\n",
    "# df1_1112, df1_desc_1112 = pd.read_excel('~/Desktop/discriminology/OCR School data sample/2011:12/Enrollment/05 - Overall Enrollment.xlsx', sheet_name=None).values()\n",
    "# df2_1112, df2_desc_1112 = pd.read_excel('~/Desktop/discriminology/OCR School data sample/2011:12/Enrollment/08 - Students enrolled in Gifted-Talented Programs.xlsx', sheet_name=None).values()\n",
    "# df3_1112, df3_desc_1112 = pd.read_excel('~/Desktop/discriminology/OCR School data sample/2011:12/Enrollment/10-1 - Students with Disabilities Served under IDEA Enrollment.xlsx', sheet_name=None).values()\n",
    "# df4_1112, df4_desc_1112 = pd.read_excel('~/Desktop/discriminology/OCR School data sample/2011:12/Enrollment/10-2 - Students with Disabilities Served under 504 Enrollment.xlsx', sheet_name=None).values()\n",
    "# df5_1112, df5_desc_1112 = pd.read_excel('~/Desktop/discriminology/OCR School data sample/2011:12/Discipline/Out of School Suspensions/W:O Disabilities/35-3 - Students WO Disab Receiving only one out-of-school suspension.xlsx', sheet_name=None).values()\n",
    "# df6_1112, df6_desc_1112 = pd.read_excel('~/Desktop/discriminology/OCR School data sample/2011:12/Discipline/Out of School Suspensions/W:O Disabilities/35-4 - Students WO Disab Rec more than one out-of-school suspension.xlsx', sheet_name=None).values()\n",
    "# df7_1112, df7_desc_1112 = pd.read_excel('~/Desktop/discriminology/OCR School data sample/2011:12/Discipline/Out of School Suspensions/With Disabilities/36-3 - Students With Disabilities Receiving only one out-of-school suspension.xlsx', sheet_name=None).values()\n",
    "# df8_1112, df8_desc_1112 = pd.read_excel('~/Desktop/discriminology/OCR School data sample/2011:12/Discipline/Out of School Suspensions/With Disabilities/36-4 - Students With Disab Receiving more than one out-of-school suspension.xlsx', sheet_name=None).values()\n",
    "# df9_1112, df9_desc_1112 = pd.read_excel('~/Desktop/discriminology/OCR School data sample/2011:12/Academic/Advanced Placement/17 - Students who are taking at least one AP course.xlsx', sheet_name=None).values()\n",
    "# df10_1112, df10_desc_1112 = pd.read_excel('~/Desktop/discriminology/OCR School data sample/2011:12/Discipline/Referral to law enforcement/W:O Disabilities/35-8 - Students Without Disabilities Referral to law enforcement.xlsx', sheet_name=None).values()\n",
    "# df11_1112, df11_desc_1112 = pd.read_excel('~/Desktop/discriminology/OCR School data sample/2011:12/Discipline/Referral to law enforcement/With Disabilities/36-8 - Students With Disabilities Referral to law enforcement.xlsx', sheet_name=None).values()\n",
    "# df12_1112, df12_desc_1112 = pd.read_excel('~/Desktop/discriminology/OCR School data sample/2011:12/Discipline/School Related Arrest/W:O Disabilities/35-9 - Students Without Disabilities School-related arrest.xlsx', sheet_name=None).values()\n",
    "# df13_1112, df13_desc_1112 = pd.read_excel('~/Desktop/discriminology/OCR School data sample/2011:12/Discipline/School Related Arrest/With Disabilities/36-9 - Students With Disabilities School-related arrest.xlsx', sheet_name=None).values()\n",
    "# df14_1112, df14_desc_1112 = pd.read_excel('~/Desktop/discriminology/OCR School data sample/2011:12/School Characteristics/02 - School Characteristics.xlsx', sheet_name=None).values()\n",
    "# df15_1112, df15_desc_1112 = pd.read_excel('~/Desktop/discriminology/OCR School data sample/2011:12/Staff/08-1 School Support and Security Staff (required elements).xlsx', sheet_name=None).values()\n",
    "# df16_1112, df16_desc_1112 = pd.read_excel('~/Desktop/discriminology/OCR School data sample/2011:12/Enrollment/06 - Enrolled in Early Childhood and Prekindergarten.xlsx', sheet_name=None).values()"
   ]
  },
  {
   "cell_type": "code",
   "execution_count": 85,
   "metadata": {},
   "outputs": [],
   "source": [
    "# ctr = 0\n",
    "# for frame in desc_frames_1112:\n",
    "#     frame.to_csv(f'/Users/cave/Desktop/discriminology/2011_12/descriptions/file_{ctr}.csv')\n",
    "#     ctr += 1\n",
    "\n",
    "# ctr = 0\n",
    "# for frame in frames_1314:\n",
    "#     frame.to_csv(f'~/Desktop/discriminology/2013_14/data/file_{ctr}.csv')\n",
    "#     ctr += 1\n"
   ]
  },
  {
   "cell_type": "code",
   "execution_count": 47,
   "metadata": {},
   "outputs": [
    {
     "name": "stderr",
     "output_type": "stream",
     "text": [
      "/Users/cave/miniconda3/lib/python3.7/site-packages/IPython/core/interactiveshell.py:3058: DtypeWarning: Columns (8,9,10,11,12,13,14,15,16,17,18,19,20,21,22,23,24,25,26,27) have mixed types.Specify dtype option on import or set low_memory=False.\n",
      "  interactivity=interactivity, compiler=compiler, result=result)\n",
      "/Users/cave/miniconda3/lib/python3.7/site-packages/IPython/core/interactiveshell.py:3058: DtypeWarning: Columns (27,28,29,30,31,36,37) have mixed types.Specify dtype option on import or set low_memory=False.\n",
      "  interactivity=interactivity, compiler=compiler, result=result)\n",
      "/Users/cave/miniconda3/lib/python3.7/site-packages/IPython/core/interactiveshell.py:3058: DtypeWarning: Columns (8,9,10,11,12,13,14,15,18,19,20,21,22,23,24,25) have mixed types.Specify dtype option on import or set low_memory=False.\n",
      "  interactivity=interactivity, compiler=compiler, result=result)\n",
      "/Users/cave/miniconda3/lib/python3.7/site-packages/IPython/core/interactiveshell.py:3058: DtypeWarning: Columns (8,9,10,11,12,13,14,17,18,19,20,21,22,23,24,25,28,29) have mixed types.Specify dtype option on import or set low_memory=False.\n",
      "  interactivity=interactivity, compiler=compiler, result=result)\n"
     ]
    }
   ],
   "source": [
    "df1_1112 = pd.read_csv('~/Desktop/discriminology/2011_12/data/file_1.csv', dtype=universal_types)\n",
    "df2_1112 = pd.read_csv('~/Desktop/discriminology/2011_12/data/file_2.csv', dtype=universal_types)\n",
    "df3_1112 = pd.read_csv('~/Desktop/discriminology/2011_12/data/file_3.csv', dtype=universal_types)\n",
    "df4_1112 = pd.read_csv('~/Desktop/discriminology/2011_12/data/file_4.csv', dtype=universal_types)\n",
    "df5_1112 = pd.read_csv('~/Desktop/discriminology/2011_12/data/file_5.csv', dtype=universal_types)\n",
    "df6_1112 = pd.read_csv('~/Desktop/discriminology/2011_12/data/file_6.csv', dtype=universal_types)\n",
    "df7_1112 = pd.read_csv('~/Desktop/discriminology/2011_12/data/file_7.csv', dtype=universal_types)\n",
    "df8_1112 = pd.read_csv('~/Desktop/discriminology/2011_12/data/file_8.csv', dtype=universal_types)\n",
    "df9_1112 = pd.read_csv('~/Desktop/discriminology/2011_12/data/file_9.csv', dtype=universal_types)\n",
    "df10_1112 = pd.read_csv('~/Desktop/discriminology/2011_12/data/file_10.csv', dtype=universal_types)\n",
    "df11_1112 = pd.read_csv('~/Desktop/discriminology/2011_12/data/file_11.csv', dtype=universal_types)\n",
    "df12_1112 = pd.read_csv('~/Desktop/discriminology/2011_12/data/file_12.csv', dtype=universal_types)\n",
    "df13_1112 = pd.read_csv('~/Desktop/discriminology/2011_12/data/file_13.csv', dtype=universal_types)\n",
    "df14_1112 = pd.read_csv('~/Desktop/discriminology/2011_12/data/file_14.csv', dtype=universal_types)\n",
    "df15_1112 = pd.read_csv('~/Desktop/discriminology/2011_12/data/file_15.csv', dtype=universal_types)\n",
    "df16_1112 = pd.read_csv('~/Desktop/discriminology/2011_12/data/file_0.csv', dtype=universal_types)"
   ]
  },
  {
   "cell_type": "code",
   "execution_count": 48,
   "metadata": {
    "scrolled": true
   },
   "outputs": [],
   "source": [
    "df1_desc_1112 = pd.read_csv('~/Desktop/discriminology/2011_12/descriptions/file_1.csv', index_col=0)\n",
    "df2_desc_1112 = pd.read_csv('~/Desktop/discriminology/2011_12/descriptions/file_2.csv', index_col=0)\n",
    "df3_desc_1112 = pd.read_csv('~/Desktop/discriminology/2011_12/descriptions/file_3.csv', index_col=0)\n",
    "df4_desc_1112 = pd.read_csv('~/Desktop/discriminology/2011_12/descriptions/file_4.csv', index_col=0)\n",
    "df5_desc_1112 = pd.read_csv('~/Desktop/discriminology/2011_12/descriptions/file_5.csv', index_col=0)\n",
    "df6_desc_1112 = pd.read_csv('~/Desktop/discriminology/2011_12/descriptions/file_6.csv', index_col=0)\n",
    "df7_desc_1112 = pd.read_csv('~/Desktop/discriminology/2011_12/descriptions/file_7.csv', index_col=0)\n",
    "df8_desc_1112 = pd.read_csv('~/Desktop/discriminology/2011_12/descriptions/file_8.csv', index_col=0)\n",
    "df9_desc_1112 = pd.read_csv('~/Desktop/discriminology/2011_12/descriptions/file_9.csv', index_col=0)\n",
    "df10_desc_1112 = pd.read_csv('~/Desktop/discriminology/2011_12/descriptions/file_10.csv', index_col=0)\n",
    "df11_desc_1112 = pd.read_csv('~/Desktop/discriminology/2011_12/descriptions/file_11.csv', index_col=0)\n",
    "df12_desc_1112 = pd.read_csv('~/Desktop/discriminology/2011_12/descriptions/file_12.csv', index_col=0)\n",
    "df13_desc_1112 = pd.read_csv('~/Desktop/discriminology/2011_12/descriptions/file_13.csv', index_col=0)\n",
    "df14_desc_1112 = pd.read_csv('~/Desktop/discriminology/2011_12/descriptions/file_14.csv', index_col=0)\n",
    "df15_desc_1112 = pd.read_csv('~/Desktop/discriminology/2011_12/descriptions/file_15.csv', index_col=0)\n",
    "df16_desc_1112 = pd.read_csv('~/Desktop/discriminology/2011_12/descriptions/file_0.csv', index_col=0)"
   ]
  },
  {
   "cell_type": "code",
   "execution_count": 49,
   "metadata": {},
   "outputs": [],
   "source": [
    "\n",
    "frames_1112 = [df1_1112, df2_1112, df3_1112, df4_1112, df5_1112, df6_1112,\n",
    "               df7_1112, df8_1112, df9_1112, df10_1112, df11_1112, df12_1112,\n",
    "               df13_1112, df14_1112, df15_1112, df16_1112]\n",
    "\n",
    "\n",
    "\n",
    "desc_frames_1112 = [df1_desc_1112, df2_desc_1112, df3_desc_1112, df4_desc_1112,\n",
    "                    df5_desc_1112, df6_desc_1112, df7_desc_1112, df8_desc_1112,\n",
    "                    df9_desc_1112, df10_desc_1112, df11_desc_1112, df12_desc_1112,\n",
    "                    df13_desc_1112, df14_desc_1112, df15_desc_1112, df16_desc_1112]\n"
   ]
  },
  {
   "cell_type": "markdown",
   "metadata": {},
   "source": [
    "Use helper function to aggregate frames and clean up negative values, standardize length of zipcodes."
   ]
  },
  {
   "cell_type": "code",
   "execution_count": 92,
   "metadata": {},
   "outputs": [
    {
     "data": {
      "text/html": [
       "<div>\n",
       "<style scoped>\n",
       "    .dataframe tbody tr th:only-of-type {\n",
       "        vertical-align: middle;\n",
       "    }\n",
       "\n",
       "    .dataframe tbody tr th {\n",
       "        vertical-align: top;\n",
       "    }\n",
       "\n",
       "    .dataframe thead th {\n",
       "        text-align: right;\n",
       "    }\n",
       "</style>\n",
       "<table border=\"1\" class=\"dataframe\">\n",
       "  <thead>\n",
       "    <tr style=\"text-align: right;\">\n",
       "      <th></th>\n",
       "      <th>Unnamed: 0</th>\n",
       "      <th>LEA_STATE</th>\n",
       "      <th>LEAID</th>\n",
       "      <th>LEA_NAME</th>\n",
       "      <th>SCHID</th>\n",
       "      <th>SCH_NAME</th>\n",
       "      <th>COMBOKEY</th>\n",
       "      <th>JJ</th>\n",
       "      <th>M_AME_7_IDEA</th>\n",
       "      <th>M_ASI_7_IDEA</th>\n",
       "      <th>...</th>\n",
       "      <th>F_AME_7_IDEA</th>\n",
       "      <th>F_ASI_7_IDEA</th>\n",
       "      <th>F_HIS_7_IDEA</th>\n",
       "      <th>F_BLA_7_IDEA</th>\n",
       "      <th>F_WHI_7_IDEA</th>\n",
       "      <th>F_HI_PAC_7_IDEA</th>\n",
       "      <th>F_2_OR_MORE_7_IDEA</th>\n",
       "      <th>F_TOT_7_IDEA</th>\n",
       "      <th>F_LEP_7_IDEA</th>\n",
       "      <th>Incomplete</th>\n",
       "    </tr>\n",
       "  </thead>\n",
       "  <tbody>\n",
       "    <tr>\n",
       "      <th>0</th>\n",
       "      <td>0</td>\n",
       "      <td>AL</td>\n",
       "      <td>0100002</td>\n",
       "      <td>ALABAMA YOUTH SERVICES</td>\n",
       "      <td>1705</td>\n",
       "      <td>WALLACE SCH - MT MEIGS CAMPUS</td>\n",
       "      <td>010000201705</td>\n",
       "      <td>Z</td>\n",
       "      <td>&lt;=2</td>\n",
       "      <td>&lt;=2</td>\n",
       "      <td>...</td>\n",
       "      <td>&lt;=2</td>\n",
       "      <td>&lt;=2</td>\n",
       "      <td>&lt;=2</td>\n",
       "      <td>&lt;=2</td>\n",
       "      <td>&lt;=2</td>\n",
       "      <td>&lt;=2</td>\n",
       "      <td>&lt;=2</td>\n",
       "      <td>&lt;=2</td>\n",
       "      <td>&lt;=2</td>\n",
       "      <td>NaN</td>\n",
       "    </tr>\n",
       "    <tr>\n",
       "      <th>1</th>\n",
       "      <td>1</td>\n",
       "      <td>AL</td>\n",
       "      <td>0100002</td>\n",
       "      <td>ALABAMA YOUTH SERVICES</td>\n",
       "      <td>1706</td>\n",
       "      <td>MCNEEL SCH - VACCA CAMPUS</td>\n",
       "      <td>010000201706</td>\n",
       "      <td>Z</td>\n",
       "      <td>&lt;=2</td>\n",
       "      <td>&lt;=2</td>\n",
       "      <td>...</td>\n",
       "      <td>&lt;=2</td>\n",
       "      <td>&lt;=2</td>\n",
       "      <td>&lt;=2</td>\n",
       "      <td>&lt;=2</td>\n",
       "      <td>&lt;=2</td>\n",
       "      <td>&lt;=2</td>\n",
       "      <td>&lt;=2</td>\n",
       "      <td>&lt;=2</td>\n",
       "      <td>&lt;=2</td>\n",
       "      <td>NaN</td>\n",
       "    </tr>\n",
       "    <tr>\n",
       "      <th>2</th>\n",
       "      <td>2</td>\n",
       "      <td>AL</td>\n",
       "      <td>0100002</td>\n",
       "      <td>ALABAMA YOUTH SERVICES</td>\n",
       "      <td>99995</td>\n",
       "      <td>AUTAUGA CAMPUS</td>\n",
       "      <td>010000299995</td>\n",
       "      <td>X</td>\n",
       "      <td>&lt;=2</td>\n",
       "      <td>&lt;=2</td>\n",
       "      <td>...</td>\n",
       "      <td>&lt;=2</td>\n",
       "      <td>&lt;=2</td>\n",
       "      <td>&lt;=2</td>\n",
       "      <td>&lt;=2</td>\n",
       "      <td>&lt;=2</td>\n",
       "      <td>&lt;=2</td>\n",
       "      <td>&lt;=2</td>\n",
       "      <td>&lt;=2</td>\n",
       "      <td>&lt;=2</td>\n",
       "      <td>NaN</td>\n",
       "    </tr>\n",
       "    <tr>\n",
       "      <th>3</th>\n",
       "      <td>3</td>\n",
       "      <td>AL</td>\n",
       "      <td>0100002</td>\n",
       "      <td>ALABAMA YOUTH SERVICES</td>\n",
       "      <td>99996</td>\n",
       "      <td>WALLACE ANNEX III</td>\n",
       "      <td>010000299996</td>\n",
       "      <td>Z</td>\n",
       "      <td>&lt;=2</td>\n",
       "      <td>&lt;=2</td>\n",
       "      <td>...</td>\n",
       "      <td>&lt;=2</td>\n",
       "      <td>&lt;=2</td>\n",
       "      <td>&lt;=2</td>\n",
       "      <td>&lt;=2</td>\n",
       "      <td>&lt;=2</td>\n",
       "      <td>&lt;=2</td>\n",
       "      <td>&lt;=2</td>\n",
       "      <td>&lt;=2</td>\n",
       "      <td>&lt;=2</td>\n",
       "      <td>NaN</td>\n",
       "    </tr>\n",
       "    <tr>\n",
       "      <th>4</th>\n",
       "      <td>4</td>\n",
       "      <td>AL</td>\n",
       "      <td>0100005</td>\n",
       "      <td>ALBERTVILLE CITY</td>\n",
       "      <td>870</td>\n",
       "      <td>ALBERTVILLE MIDDLE SCHOOL</td>\n",
       "      <td>010000500870</td>\n",
       "      <td>NaN</td>\n",
       "      <td>&lt;=2</td>\n",
       "      <td>&lt;=2</td>\n",
       "      <td>...</td>\n",
       "      <td>&lt;=2</td>\n",
       "      <td>&lt;=2</td>\n",
       "      <td>&lt;=2</td>\n",
       "      <td>&lt;=2</td>\n",
       "      <td>13</td>\n",
       "      <td>&lt;=2</td>\n",
       "      <td>&lt;=2</td>\n",
       "      <td>13</td>\n",
       "      <td>&lt;=2</td>\n",
       "      <td>NaN</td>\n",
       "    </tr>\n",
       "  </tbody>\n",
       "</table>\n",
       "<p>5 rows × 27 columns</p>\n",
       "</div>"
      ],
      "text/plain": [
       "   Unnamed: 0 LEA_STATE    LEAID                LEA_NAME  SCHID  \\\n",
       "0           0        AL  0100002  ALABAMA YOUTH SERVICES   1705   \n",
       "1           1        AL  0100002  ALABAMA YOUTH SERVICES   1706   \n",
       "2           2        AL  0100002  ALABAMA YOUTH SERVICES  99995   \n",
       "3           3        AL  0100002  ALABAMA YOUTH SERVICES  99996   \n",
       "4           4        AL  0100005        ALBERTVILLE CITY    870   \n",
       "\n",
       "                        SCH_NAME      COMBOKEY   JJ M_AME_7_IDEA M_ASI_7_IDEA  \\\n",
       "0  WALLACE SCH - MT MEIGS CAMPUS  010000201705    Z          <=2          <=2   \n",
       "1      MCNEEL SCH - VACCA CAMPUS  010000201706    Z          <=2          <=2   \n",
       "2                 AUTAUGA CAMPUS  010000299995    X          <=2          <=2   \n",
       "3              WALLACE ANNEX III  010000299996    Z          <=2          <=2   \n",
       "4      ALBERTVILLE MIDDLE SCHOOL  010000500870  NaN          <=2          <=2   \n",
       "\n",
       "   ... F_AME_7_IDEA F_ASI_7_IDEA F_HIS_7_IDEA F_BLA_7_IDEA F_WHI_7_IDEA  \\\n",
       "0  ...          <=2          <=2          <=2          <=2          <=2   \n",
       "1  ...          <=2          <=2          <=2          <=2          <=2   \n",
       "2  ...          <=2          <=2          <=2          <=2          <=2   \n",
       "3  ...          <=2          <=2          <=2          <=2          <=2   \n",
       "4  ...          <=2          <=2          <=2          <=2           13   \n",
       "\n",
       "  F_HI_PAC_7_IDEA F_2_OR_MORE_7_IDEA F_TOT_7_IDEA F_LEP_7_IDEA Incomplete  \n",
       "0             <=2                <=2          <=2          <=2        NaN  \n",
       "1             <=2                <=2          <=2          <=2        NaN  \n",
       "2             <=2                <=2          <=2          <=2        NaN  \n",
       "3             <=2                <=2          <=2          <=2        NaN  \n",
       "4             <=2                <=2           13          <=2        NaN  \n",
       "\n",
       "[5 rows x 27 columns]"
      ]
     },
     "execution_count": 92,
     "metadata": {},
     "output_type": "execute_result"
    }
   ],
   "source": [
    "df2_1112.head()"
   ]
  },
  {
   "cell_type": "code",
   "execution_count": 95,
   "metadata": {},
   "outputs": [
    {
     "data": {
      "text/plain": [
       "010000500870    0\n",
       "010000500871    0\n",
       "010000500879    0\n",
       "010000500889    0\n",
       "010000501616    0\n",
       "010000502150    0\n",
       "Name: SCH_IDEAENR_AM_M, dtype: object"
      ]
     },
     "execution_count": 95,
     "metadata": {},
     "output_type": "execute_result"
    }
   ],
   "source": [
    "df_1314_raw[df_1314_raw['LEAID']=='0100005']['SCH_IDEAENR_AM_M']"
   ]
  },
  {
   "cell_type": "code",
   "execution_count": 50,
   "metadata": {},
   "outputs": [],
   "source": [
    "# Careful, this cell runs for a while\n",
    "df_1112_raw = aggregate_data(frames_1112, fields_1112)"
   ]
  },
  {
   "cell_type": "code",
   "execution_count": 90,
   "metadata": {},
   "outputs": [],
   "source": [
    "df_1112 = df_1112_raw.copy()"
   ]
  },
  {
   "cell_type": "code",
   "execution_count": 91,
   "metadata": {},
   "outputs": [
    {
     "data": {
      "text/plain": [
       "['F_2_OR_MORE_7_IDEA',\n",
       " 'F_AME_7_IDEA',\n",
       " 'F_ASI_7_IDEA',\n",
       " 'F_BLA_7_IDEA',\n",
       " 'F_HIS_7_IDEA',\n",
       " 'F_HI_PAC_7_IDEA',\n",
       " 'F_TOT_7_IDEA',\n",
       " 'F_TOT_IDEA_7_ARREST_DIS',\n",
       " 'F_TOT_IDEA_7_LAW_DIS',\n",
       " 'F_TOT_IDEA_7_MULT_SUS_DIS',\n",
       " 'F_TOT_IDEA_7_SINGLE_SUS_DIS',\n",
       " 'F_WHI_7_IDEA',\n",
       " 'M_2_OR_MORE_7_IDEA',\n",
       " 'M_AME_7_IDEA',\n",
       " 'M_ASI_7_IDEA',\n",
       " 'M_BLA_7_IDEA',\n",
       " 'M_HIS_7_IDEA',\n",
       " 'M_HI_PAC_7_IDEA',\n",
       " 'M_TOT_7_IDEA',\n",
       " 'M_TOT_IDEA_7_ARREST_DIS',\n",
       " 'M_TOT_IDEA_7_LAW_DIS',\n",
       " 'M_TOT_IDEA_7_MULT_SUS_DIS',\n",
       " 'M_TOT_IDEA_7_SINGLE_SUS_DIS',\n",
       " 'M_WHI_7_IDEA']"
      ]
     },
     "execution_count": 91,
     "metadata": {},
     "output_type": "execute_result"
    }
   ],
   "source": [
    "[x for x in df_1112.columns if 'IDEA' in x]"
   ]
  },
  {
   "cell_type": "code",
   "execution_count": 52,
   "metadata": {},
   "outputs": [],
   "source": [
    "df_1112['SCH_ZIP '] = df_1112['SCH_ZIP '].str.zfill(5) # pad zipcodes with leading zeroes"
   ]
  },
  {
   "cell_type": "markdown",
   "metadata": {},
   "source": [
    "Change 0/1 indicator vars to Yes / No for selected columns"
   ]
  },
  {
   "cell_type": "code",
   "execution_count": 53,
   "metadata": {},
   "outputs": [],
   "source": [
    "int_cols_to_str = [\n",
    "    'PreK'\n",
    "    ,'K'\n",
    "    ,'G1'\n",
    "    ,'G2'\n",
    "    ,'G3'\n",
    "    ,'G4'\n",
    "    ,'G5'\n",
    "    ,'G6'\n",
    "    ,'G7'\n",
    "    ,'G8' \n",
    "    ,'G9'\n",
    "    ,'G10'\n",
    "    ,'G11'\n",
    "    ,'G12'\n",
    "    ,'MG_SCH'\n",
    "    ,'CHARTER_SCH'\n",
    "    ,'ALT_SCH'\n",
    "                  ]"
   ]
  },
  {
   "cell_type": "code",
   "execution_count": 54,
   "metadata": {},
   "outputs": [],
   "source": [
    "df_1112[int_cols_to_str] =  df_1112[int_cols_to_str].replace('0', 'No').replace('1', 'Yes').replace(0, 'No').replace(1, 'Yes')"
   ]
  },
  {
   "cell_type": "code",
   "execution_count": 55,
   "metadata": {},
   "outputs": [],
   "source": [
    "df_1112['SCH_FTESECURITY_IND'] = df_1112['SCH_FTESECURITY_IND'].str.replace('-9','No').str.replace('-5','No')"
   ]
  },
  {
   "cell_type": "markdown",
   "metadata": {},
   "source": [
    "Make types consistent within each column"
   ]
  },
  {
   "cell_type": "code",
   "execution_count": 56,
   "metadata": {},
   "outputs": [
    {
     "data": {
      "text/plain": [
       "'str'"
      ]
     },
     "execution_count": 56,
     "metadata": {},
     "output_type": "execute_result"
    }
   ],
   "source": [
    "type_dict_11_12.pop('COMBOKEY')"
   ]
  },
  {
   "cell_type": "code",
   "execution_count": 57,
   "metadata": {},
   "outputs": [],
   "source": [
    "df_1112 = df_1112.astype(final_type_dict_11_12)"
   ]
  },
  {
   "cell_type": "markdown",
   "metadata": {},
   "source": [
    "Custom case handling: Juvenile Justice facilities"
   ]
  },
  {
   "cell_type": "code",
   "execution_count": 58,
   "metadata": {},
   "outputs": [],
   "source": [
    "df_1112['JJ'] = df_1112['JJ'].str.replace('Z', 'Yes').str.replace('X', 'Yes')"
   ]
  },
  {
   "cell_type": "markdown",
   "metadata": {},
   "source": [
    "Rename columns to match 13/14 and 15/16 data"
   ]
  },
  {
   "cell_type": "code",
   "execution_count": 59,
   "metadata": {},
   "outputs": [],
   "source": [
    "df_1112.rename(columns=map_11_12, inplace=True)"
   ]
  },
  {
   "cell_type": "code",
   "execution_count": 60,
   "metadata": {},
   "outputs": [],
   "source": [
    "superset = field_mappings['col_superset'].values\n",
    "ordered_cols_1112 = [c for c in superset if c in df_1112.columns]"
   ]
  },
  {
   "cell_type": "code",
   "execution_count": 61,
   "metadata": {},
   "outputs": [
    {
     "data": {
      "text/plain": [
       "101133"
      ]
     },
     "execution_count": 61,
     "metadata": {},
     "output_type": "execute_result"
    }
   ],
   "source": [
    "df_1112.index.nunique()"
   ]
  },
  {
   "cell_type": "code",
   "execution_count": 62,
   "metadata": {},
   "outputs": [],
   "source": [
    "df_1112 = df_1112[ordered_cols_1112]\n",
    "df_1112_final = join_col_descriptions(df_1112, '2011-12')"
   ]
  },
  {
   "cell_type": "code",
   "execution_count": 63,
   "metadata": {},
   "outputs": [],
   "source": [
    "df_1112_final[::100].to_csv('~/Desktop/discriminology/output/11_12_sample.csv')"
   ]
  },
  {
   "cell_type": "code",
   "execution_count": 64,
   "metadata": {},
   "outputs": [
    {
     "data": {
      "text/plain": [
       "(101133, 220)"
      ]
     },
     "execution_count": 64,
     "metadata": {},
     "output_type": "execute_result"
    }
   ],
   "source": [
    "df_1112_final.shape"
   ]
  },
  {
   "cell_type": "markdown",
   "metadata": {},
   "source": [
    "### Load all data + col description files for 2013-14"
   ]
  },
  {
   "cell_type": "markdown",
   "metadata": {},
   "source": [
    "Collect column name descriptions from each spreadsheet"
   ]
  },
  {
   "cell_type": "code",
   "execution_count": 65,
   "metadata": {},
   "outputs": [],
   "source": [
    "# # Read originals from excel\n",
    "\n",
    "# df1_1314, df1_desc_1314 = pd.read_excel('~/Desktop/discriminology/OCR School data sample/2013:14/CRDC-collected data file for Schools/01 School Characteristics.xlsx', sheet_name=None).values()\n",
    "# df2_1314, df2_desc_1314 = pd.read_excel('~/Desktop/discriminology/OCR School data sample/2013:14/CRDC-collected data file for Schools/03 Enrollment.xlsx', sheet_name=None).values()\n",
    "# df3_1314, df3_desc_1314 = pd.read_excel('~/Desktop/discriminology/OCR School data sample/2013:14/CRDC-collected data file for Schools/04-1 Gifted and Talented Enrollment.xlsx', sheet_name=None).values()\n",
    "# df4_1314, df4_desc_1314 = pd.read_excel('~/Desktop/discriminology/OCR School data sample/2013:14/CRDC-collected data file for Schools/06 Advanced Placement and International Baccalaureate Diploma Programme Enrollment.xlsx', sheet_name=None).values()\n",
    "# df5_1314, df5_desc_1314 = pd.read_excel('~/Desktop/discriminology/OCR School data sample/2013:14/CRDC-collected data file for Schools/07-2 Advanced Placement Exams.xlsx', sheet_name=None).values()\n",
    "# df6_1314, df6_desc_1314 = pd.read_excel('~/Desktop/discriminology/OCR School data sample/2013:14/CRDC-collected data file for Schools/08-1 School Support and Security Staff (required elements).xlsx', sheet_name=None).values()\n",
    "# df7_1314, df7_desc_1314 = pd.read_excel('~/Desktop/discriminology/OCR School data sample/2013:14/CRDC-collected data file for Schools/09-1 Chronic Absenteeism.xlsx', sheet_name=None).values()\n",
    "# df8_1314, df8_desc_1314 = pd.read_excel('~/Desktop/discriminology/OCR School data sample/2013:14/CRDC-collected data file for Schools/11-2 Suspensions (required elements).xlsx', sheet_name=None).values()\n",
    "# df9_1314, df9_desc_1314 = pd.read_excel('~/Desktop/discriminology/OCR School data sample/2013:14/CRDC-collected data file for Schools/11-3 Expulsions.xlsx', sheet_name=None).values()\n",
    "# df10_1314, df10_desc_1314 = pd.read_excel('~/Desktop/discriminology/OCR School data sample/2013:14/CRDC-collected data file for Schools/12 Student Referrals and Arrests.xlsx', sheet_name=None).values()\n",
    "# df11_1314, df11_desc_1314 = pd.read_excel('~/Desktop/discriminology/OCR School data sample/2013:14/CRDC-collected data file for Schools/16 School Expenditures.xlsx', sheet_name=None).values()\n",
    "# df12_1314, df12_desc_1314 = pd.read_excel('~/Desktop/discriminology/OCR School data sample/2013:14/CRDC-collected data file for Schools/17 Justice Facilities.xlsx', sheet_name=None).values()"
   ]
  },
  {
   "cell_type": "code",
   "execution_count": 66,
   "metadata": {},
   "outputs": [],
   "source": [
    "# ctr = 0\n",
    "# for frame in desc_frames_1314:\n",
    "#     frame.to_csv(f'~/Desktop/discriminology/2013_14/descriptions/file_{ctr}.csv')\n",
    "#     ctr += 1\n",
    "\n",
    "\n",
    "# ctr = 0\n",
    "# for frame in frames_1314:\n",
    "#     frame.to_csv(f'~/Desktop/discriminology/2013_14/data/file_{ctr}.csv')\n",
    "#     ctr += 1\n"
   ]
  },
  {
   "cell_type": "code",
   "execution_count": 67,
   "metadata": {},
   "outputs": [],
   "source": [
    "df1_1314 = pd.read_csv('~/Desktop/discriminology/2013_14/data/file_1.csv', dtype=universal_types)\n",
    "df2_1314 = pd.read_csv('~/Desktop/discriminology/2013_14/data/file_2.csv', dtype=universal_types)\n",
    "df3_1314 = pd.read_csv('~/Desktop/discriminology/2013_14/data/file_3.csv', dtype=universal_types)\n",
    "df4_1314 = pd.read_csv('~/Desktop/discriminology/2013_14/data/file_4.csv', dtype=universal_types)\n",
    "df5_1314 = pd.read_csv('~/Desktop/discriminology/2013_14/data/file_5.csv', dtype=universal_types)\n",
    "df6_1314 = pd.read_csv('~/Desktop/discriminology/2013_14/data/file_6.csv', dtype=universal_types)\n",
    "df7_1314 = pd.read_csv('~/Desktop/discriminology/2013_14/data/file_7.csv', dtype=universal_types)\n",
    "df8_1314 = pd.read_csv('~/Desktop/discriminology/2013_14/data/file_8.csv', dtype=universal_types)\n",
    "df9_1314 = pd.read_csv('~/Desktop/discriminology/2013_14/data/file_9.csv', dtype=universal_types)\n",
    "df10_1314 = pd.read_csv('~/Desktop/discriminology/2013_14/data/file_10.csv', dtype=universal_types)\n",
    "df11_1314 = pd.read_csv('~/Desktop/discriminology/2013_14/data/file_11.csv', dtype=universal_types)\n",
    "df12_1314 = pd.read_csv('~/Desktop/discriminology/2013_14/data/file_0.csv', dtype=universal_types)"
   ]
  },
  {
   "cell_type": "code",
   "execution_count": 68,
   "metadata": {},
   "outputs": [],
   "source": [
    "df1_desc_1314 = pd.read_csv('~/Desktop/discriminology/2013_14/descriptions/file_1.csv', dtype=universal_types, index_col=0)\n",
    "df2_desc_1314 = pd.read_csv('~/Desktop/discriminology/2013_14/descriptions/file_2.csv', dtype=universal_types, index_col=0)\n",
    "df3_desc_1314 = pd.read_csv('~/Desktop/discriminology/2013_14/descriptions/file_3.csv', dtype=universal_types, index_col=0)\n",
    "df4_desc_1314 = pd.read_csv('~/Desktop/discriminology/2013_14/descriptions/file_4.csv', dtype=universal_types, index_col=0)\n",
    "df5_desc_1314 = pd.read_csv('~/Desktop/discriminology/2013_14/descriptions/file_5.csv', dtype=universal_types, index_col=0)\n",
    "df6_desc_1314 = pd.read_csv('~/Desktop/discriminology/2013_14/descriptions/file_6.csv', dtype=universal_types, index_col=0)\n",
    "df7_desc_1314 = pd.read_csv('~/Desktop/discriminology/2013_14/descriptions/file_7.csv', dtype=universal_types, index_col=0)\n",
    "df8_desc_1314 = pd.read_csv('~/Desktop/discriminology/2013_14/descriptions/file_8.csv', dtype=universal_types, index_col=0)\n",
    "df9_desc_1314 = pd.read_csv('~/Desktop/discriminology/2013_14/descriptions/file_9.csv', dtype=universal_types, index_col=0)\n",
    "df10_desc_1314 = pd.read_csv('~/Desktop/discriminology/2013_14/descriptions/file_10.csv', dtype=universal_types, index_col=0)\n",
    "df11_desc_1314 = pd.read_csv('~/Desktop/discriminology/2013_14/descriptions/file_11.csv', dtype=universal_types, index_col=0)\n",
    "df12_desc_1314 = pd.read_csv('~/Desktop/discriminology/2013_14/descriptions/file_0.csv', dtype=universal_types, index_col=0)\n"
   ]
  },
  {
   "cell_type": "code",
   "execution_count": 69,
   "metadata": {},
   "outputs": [],
   "source": [
    "frames_1314 = [df1_1314, df2_1314, df3_1314, df4_1314, df5_1314,\n",
    "               df6_1314, df7_1314, df8_1314, df9_1314, df10_1314,\n",
    "               df11_1314, df12_1314]\n",
    "\n",
    "\n",
    "desc_frames_1314 = [df1_desc_1314, df2_desc_1314, df3_desc_1314,\n",
    "                    df4_desc_1314, df5_desc_1314, df6_desc_1314,\n",
    "                    df7_desc_1314, df8_desc_1314, df9_desc_1314,\n",
    "                    df10_desc_1314, df11_desc_1314, df12_desc_1314]\n"
   ]
  },
  {
   "cell_type": "code",
   "execution_count": 70,
   "metadata": {},
   "outputs": [],
   "source": [
    "df_1314_raw = aggregate_data(frames_1314, fields_1314)"
   ]
  },
  {
   "cell_type": "code",
   "execution_count": 71,
   "metadata": {},
   "outputs": [],
   "source": [
    "df_1314 = df_1314_raw.copy()"
   ]
  },
  {
   "cell_type": "code",
   "execution_count": 73,
   "metadata": {},
   "outputs": [],
   "source": [
    "df_1314['SCH_FTESECURITY_IND'] = df_1314['SCH_FTESECURITY_IND'].str.replace('-9','No').str.replace('-5','No')\n",
    "df_1314 = df_1314.replace('-5', None)\n",
    "df_1314 = df_1314.replace('-9', None)"
   ]
  },
  {
   "cell_type": "code",
   "execution_count": 74,
   "metadata": {},
   "outputs": [
    {
     "data": {
      "text/plain": [
       "95507"
      ]
     },
     "execution_count": 74,
     "metadata": {},
     "output_type": "execute_result"
    }
   ],
   "source": [
    "df_1314.index.nunique()"
   ]
  },
  {
   "cell_type": "code",
   "execution_count": 75,
   "metadata": {},
   "outputs": [],
   "source": [
    "df_1314_final = join_col_descriptions(df_1314, '2013-14')"
   ]
  },
  {
   "cell_type": "code",
   "execution_count": 76,
   "metadata": {},
   "outputs": [],
   "source": [
    "df_1314_final[::100].to_csv('~/Desktop/discriminology/output/13_14_sample.csv')"
   ]
  },
  {
   "cell_type": "markdown",
   "metadata": {},
   "source": [
    "### Get column decriptions for the 2015-16 data"
   ]
  },
  {
   "cell_type": "code",
   "execution_count": 78,
   "metadata": {},
   "outputs": [],
   "source": [
    "col_descr_1516 = pd.read_excel('/Users/cave/Desktop/discriminology/OCR School data sample/2015:16/CRDC 2015-16 School Data Record Layout copy.xlsx', index_col='Field_Name')\n",
    "decoded_names = pd.DataFrame(col_descr_1516.loc[fields_1516]['Field_Description'])\n",
    "decoded_names.columns = ['description']"
   ]
  },
  {
   "cell_type": "code",
   "execution_count": 79,
   "metadata": {},
   "outputs": [],
   "source": [
    "decoded_names.reset_index().to_csv('/Users/cave/Desktop/2015_16_field_descriptions.csv')"
   ]
  },
  {
   "cell_type": "markdown",
   "metadata": {},
   "source": [
    "### Isolate numeric columns in 15/16 and replace negative numbers with zeroes."
   ]
  },
  {
   "cell_type": "code",
   "execution_count": 81,
   "metadata": {},
   "outputs": [],
   "source": [
    "df1516_raw = pd.read_csv('/Users/cave/Desktop/discriminology/OCR School data sample/2015:16/CRDC 2015-16 School Data copy.csv'\n",
    "                      , encoding='iso-8859-1'\n",
    "                     )\n",
    "df1516_raw['LEAID'] = df1516_raw['LEAID'].astype(str).str.zfill(7)\n",
    "df1516_raw['COMBOKEY'] = df1516_raw['LEAID'] + df1516_raw['SCHID'].astype(str).str.zfill(5)\n",
    "df1516_raw = df1516_raw[fields_1516]"
   ]
  },
  {
   "cell_type": "markdown",
   "metadata": {},
   "source": [
    "### Replace negative values with zeroes."
   ]
  },
  {
   "cell_type": "code",
   "execution_count": 524,
   "metadata": {},
   "outputs": [],
   "source": [
    "num = df1516_raw._get_numeric_data()\n",
    "num[num < 0] = 0"
   ]
  },
  {
   "cell_type": "code",
   "execution_count": 525,
   "metadata": {},
   "outputs": [],
   "source": [
    "df1516_raw = df1516_raw.replace('-5', 'No').replace('-9', 'No')"
   ]
  },
  {
   "cell_type": "code",
   "execution_count": 526,
   "metadata": {},
   "outputs": [],
   "source": [
    "df1516_raw.set_index('COMBOKEY', inplace=True)"
   ]
  },
  {
   "cell_type": "code",
   "execution_count": 590,
   "metadata": {},
   "outputs": [
    {
     "data": {
      "text/plain": [
       "96360"
      ]
     },
     "execution_count": 590,
     "metadata": {},
     "output_type": "execute_result"
    }
   ],
   "source": [
    "df_1516_final.index.nunique()"
   ]
  },
  {
   "cell_type": "code",
   "execution_count": 527,
   "metadata": {},
   "outputs": [],
   "source": [
    "df_1516_final = pd.merge(df1516_raw.T, descriptions, left_index=True, right_index=True).set_index('description', append=True).T\n",
    "df_1516_final['YEAR','School Year'] = '2015-16'"
   ]
  },
  {
   "cell_type": "code",
   "execution_count": 528,
   "metadata": {},
   "outputs": [],
   "source": [
    "df_1516_final[::100].to_csv('~/Desktop/discriminology/output/15_16_sample.csv')\n",
    "df_1516_final.to_csv('~/Desktop/discriminology/output/final_data_2015-16.csv')"
   ]
  },
  {
   "cell_type": "markdown",
   "metadata": {},
   "source": [
    "### Concatenate all three years of data together"
   ]
  },
  {
   "cell_type": "code",
   "execution_count": 609,
   "metadata": {},
   "outputs": [
    {
     "data": {
      "text/plain": [
       "17342"
      ]
     },
     "execution_count": 609,
     "metadata": {},
     "output_type": "execute_result"
    }
   ],
   "source": [
    "df_1112_raw['LEAID'].nunique()"
   ]
  },
  {
   "cell_type": "code",
   "execution_count": 610,
   "metadata": {},
   "outputs": [
    {
     "data": {
      "text/plain": [
       "16758"
      ]
     },
     "execution_count": 610,
     "metadata": {},
     "output_type": "execute_result"
    }
   ],
   "source": [
    "df_1314_raw['LEAID'].nunique()"
   ]
  },
  {
   "cell_type": "code",
   "execution_count": 611,
   "metadata": {},
   "outputs": [
    {
     "data": {
      "text/plain": [
       "17337"
      ]
     },
     "execution_count": 611,
     "metadata": {},
     "output_type": "execute_result"
    }
   ],
   "source": [
    "df1516_raw['LEAID'].nunique()"
   ]
  },
  {
   "cell_type": "code",
   "execution_count": 571,
   "metadata": {},
   "outputs": [],
   "source": [
    "full_table = pd.concat([df_1516_final, df_1314_final, df_1112_final], axis=0)"
   ]
  },
  {
   "cell_type": "code",
   "execution_count": 572,
   "metadata": {},
   "outputs": [],
   "source": [
    "full_table = full_table.astype(numeric_type_map)"
   ]
  },
  {
   "cell_type": "code",
   "execution_count": 573,
   "metadata": {},
   "outputs": [],
   "source": [
    "full_table['LEA_NAME', 'District Name'] = full_table['LEA_NAME', 'District Name'].str.title()\n",
    "full_table['SCH_NAME', 'School Name'] = full_table['SCH_NAME', 'School Name'].str.title()\n",
    "full_table['SCH_ADDRESS', 'School address'] = full_table['SCH_ADDRESS', 'School address'].str.title()\n",
    "full_table['SCHID', '5 Digit School Identification Code'] = full_table['SCHID', '5 Digit School Identification Code'].astype(str).str.zfill(5)"
   ]
  },
  {
   "cell_type": "code",
   "execution_count": 574,
   "metadata": {},
   "outputs": [],
   "source": [
    "full_table.to_csv('/Users/cave/Desktop/discriminology/output/full_table_all_years.csv')"
   ]
  },
  {
   "cell_type": "code",
   "execution_count": 662,
   "metadata": {},
   "outputs": [],
   "source": [
    "full_table.sort_index(inplace=True)"
   ]
  },
  {
   "cell_type": "code",
   "execution_count": 663,
   "metadata": {},
   "outputs": [],
   "source": [
    "full_table[:2000].to_csv('/Users/cave/Desktop/discriminology/output/full_table_sample.csv')"
   ]
  },
  {
   "cell_type": "markdown",
   "metadata": {},
   "source": [
    "### Group by districts and sum over fields"
   ]
  },
  {
   "cell_type": "code",
   "execution_count": 563,
   "metadata": {},
   "outputs": [
    {
     "name": "stderr",
     "output_type": "stream",
     "text": [
      "/Users/cave/miniconda3/lib/python3.7/site-packages/IPython/core/interactiveshell.py:3058: DtypeWarning: Columns (0,2,4,6,21,150,186) have mixed types.Specify dtype option on import or set low_memory=False.\n",
      "  interactivity=interactivity, compiler=compiler, result=result)\n"
     ]
    }
   ],
   "source": [
    "# full_table = pd.read_csv('/Users/cave/Desktop/discriminology/output/full_table_all_years.csv', header=[0,1], index_col=0)"
   ]
  },
  {
   "cell_type": "code",
   "execution_count": 632,
   "metadata": {},
   "outputs": [],
   "source": [
    "district = full_table.copy()"
   ]
  },
  {
   "cell_type": "code",
   "execution_count": 636,
   "metadata": {},
   "outputs": [],
   "source": [
    "district.columns = district.columns.droplevel(1)\n",
    "district = district.astype(numeric_type_map)"
   ]
  },
  {
   "cell_type": "code",
   "execution_count": 689,
   "metadata": {},
   "outputs": [],
   "source": [
    "district['TOTAL_SCHOOLS'] = 1.0\n",
    "district['TOTAL_ENROLLMENT'] = district['TOT_ENR_F'] + district['TOT_ENR_M']"
   ]
  },
  {
   "cell_type": "code",
   "execution_count": 690,
   "metadata": {},
   "outputs": [],
   "source": [
    "agg_cols = ['LEA_NAME', 'LEA_STATE_NAME', 'TOTAL_SCHOOLS', 'TOTAL_ENROLLMENT',\n",
    "'SCH_DISCWODIS_MULTOOS_HI_M',\n",
    " 'SCH_DISCWDIS_ARR_IDEA_AM_M',\n",
    " 'SCH_GTENR_IDEA_F',\n",
    " 'SCH_DISCWODIS_SINGOOS_HP_F',\n",
    " 'SCH_FTECOUNSELORS',\n",
    " 'SCH_DISCWODIS_ARR_WH_M',\n",
    " 'TOT_DISCWDIS_ARR_IDEA_M',\n",
    " 'SCH_GTENR_TR_M',\n",
    " 'SCH_DISCWODIS_MULTOOS_AS_M',\n",
    " 'SCH_APENR_AM_F',\n",
    " 'SCH_DISCWODIS_REF_BL_F',\n",
    " 'SCH_DISCWODIS_ARR_AM_F',\n",
    " 'TOT_DISCWODIS_REF_M',\n",
    " 'SCH_IDEAENR_HI_M',\n",
    " 'SCH_FTESERVICES_PSY',\n",
    " 'SCH_DISCWDIS_MULTOOS_IDEA_BL_F',\n",
    " 'TOT_APENR_F',\n",
    " 'SCH_DISCWODIS_ARR_WH_F',\n",
    " 'SCH_IDEAENR_HP_M',\n",
    " 'SCH_DISCWDIS_MULTOOS_IDEA_TR_F',\n",
    " 'SCH_DISCWDIS_REF_IDEA_WH_F',\n",
    " 'SCH_DISCWODIS_MULTOOS_WH_M',\n",
    " 'SCH_FTESECURITY_GUA',\n",
    " 'SCH_DISCWODIS_SINGOOS_TR_M',\n",
    " 'SCH_DISCWDIS_REF_IDEA_WH_M',\n",
    " 'SCH_DISCWODIS_ARR_TR_M',\n",
    " 'SCH_DISCWDIS_ARR_IDEA_BL_F',\n",
    " 'SCH_DISCWDIS_ARR_IDEA_TR_M',\n",
    " 'SCH_DISCWDIS_MULTOOS_IDEA_BL_M',\n",
    " 'SCH_DISCWODIS_ARR_AM_M',\n",
    " 'SCH_DISCWDIS_ARR_IDEA_AS_M',\n",
    " 'SCH_DISCWDIS_REF_IDEA_BL_M',\n",
    " 'SCH_GTENR_IDEA_M',\n",
    " 'TOT_DISCWODIS_MULTOOS_M',\n",
    " 'SCH_DISCWDIS_SINGOOS_IDEA_HI_F',\n",
    " 'TOT_DISCWODIS_SINGOOS_F',\n",
    " 'SCH_DISCWDIS_MULTOOS_IDEA_AM_F',\n",
    " 'SCH_DISCWODIS_MULTOOS_TR_F',\n",
    " 'TOT_DISCWODIS_SINGOOS_M',\n",
    " 'SCH_ENR_HI_M',\n",
    " 'SCH_APENR_HI_F',\n",
    " 'SCH_IDEAENR_HI_F',\n",
    " 'SCH_DISCWDIS_REF_IDEA_BL_F',\n",
    " 'SCH_DISCWODIS_MULTOOS_AM_F',\n",
    " 'TOT_DISCWDIS_MULTOOS_IDEA_M',\n",
    " 'SCH_DISCWDIS_REF_IDEA_AS_M',\n",
    " 'SCH_GTENR_HI_M',\n",
    " 'SCH_DISCWODIS_REF_HI_M',\n",
    " 'SCH_FTESERVICES_SOC',\n",
    " 'SCH_DISCWDIS_SINGOOS_IDEA_AM_F',\n",
    " 'SCH_DISCWODIS_REF_TR_M',\n",
    " 'SCH_DISCWDIS_MULTOOS_IDEA_HP_M',\n",
    " 'SCH_DISCWDIS_SINGOOS_IDEA_BL_M',\n",
    " 'TOT_ENR_F',\n",
    " 'SCH_GTENR_AS_F',\n",
    " 'SCH_GTENR_HP_F',\n",
    " 'SCH_ENR_BL_F',\n",
    " 'SCH_DISCWODIS_SINGOOS_BL_M',\n",
    " 'SCH_DISCWODIS_SINGOOS_TR_F',\n",
    " 'SCH_DISCWDIS_MULTOOS_IDEA_WH_F',\n",
    " 'SCH_DISCWDIS_MULTOOS_IDEA_AS_F',\n",
    " 'SCH_DISCWODIS_SINGOOS_HP_M',\n",
    " 'SCH_GTENR_WH_M',\n",
    " 'SCH_DISCWODIS_REF_AM_F',\n",
    " 'SCH_DISCWODIS_SINGOOS_AS_F',\n",
    " 'SCH_DISCWDIS_MULTOOS_IDEA_HI_F',\n",
    " 'SCH_DISCWDIS_SINGOOS_IDEA_HI_M',\n",
    " 'SCH_DISCWODIS_SINGOOS_HI_M',\n",
    " 'SCH_APENR_TR_M',\n",
    " 'SCH_DISCWODIS_REF_HI_F',\n",
    " 'SCH_DISCWODIS_ARR_BL_F',\n",
    " 'SCH_ENR_TR_F',\n",
    " 'SCH_DISCWODIS_SINGOOS_BL_F',\n",
    " 'SCH_DISCWODIS_ARR_HP_F',\n",
    " 'SCH_APENR_AS_M',\n",
    " 'SCH_GTENR_LEP_M',\n",
    " 'SCH_DISCWDIS_REF_IDEA_HI_F',\n",
    " 'SCH_DISCWODIS_MULTOOS_BL_F',\n",
    " 'SCH_DISCWODIS_REF_HP_M',\n",
    " 'SCH_APENR_BL_F',\n",
    " 'SCH_IDEAENR_AS_M',\n",
    " 'TOT_DISCWODIS_ARR_M',\n",
    " 'SCH_DISCWODIS_SINGOOS_HI_F',\n",
    " 'SCH_DISCWDIS_SINGOOS_IDEA_WH_F',\n",
    " 'SCH_IDEAENR_AM_F',\n",
    " 'TOT_APENR_M',\n",
    " 'SCH_DISCWDIS_SINGOOS_IDEA_TR_M',\n",
    " 'SCH_DISCWODIS_REF_TR_F',\n",
    " 'SCH_DISCWDIS_REF_IDEA_AM_M',\n",
    " 'SCH_GTENR_BL_F',\n",
    " 'SCH_IDEAENR_TR_F',\n",
    " 'SCH_DISCWDIS_MULTOOS_IDEA_AM_M',\n",
    " 'SCH_GTENR_HI_F',\n",
    " 'SCH_DISCWODIS_ARR_AS_F',\n",
    " 'SCH_DISCWDIS_SINGOOS_IDEA_TR_F',\n",
    " 'TOT_DISCWODIS_MULTOOS_F',\n",
    " 'SCH_DISCWODIS_REF_AS_M',\n",
    " 'SCH_DISCWDIS_ARR_IDEA_WH_M',\n",
    " 'SCH_DISCWDIS_SINGOOS_IDEA_BL_F',\n",
    " 'TOT_DISCWDIS_SINGOOS_IDEA_M',\n",
    " 'SCH_APENR_HI_M',\n",
    " 'SCH_DISCWODIS_SINGOOS_WH_F',\n",
    " 'SCH_DISCWDIS_ARR_IDEA_HP_M',\n",
    " 'SCH_IDEAENR_AM_M',\n",
    " 'SCH_APENR_AM_M',\n",
    " 'SCH_GTENR_TR_F',\n",
    " 'TOT_GTENR_F',\n",
    " 'SCH_DISCWODIS_SINGOOS_AM_F',\n",
    " 'SCH_APENR_WH_M',\n",
    " 'SCH_DISCWODIS_REF_AM_M',\n",
    " 'TOT_DISCWODIS_REF_F',\n",
    " 'SCH_IDEAENR_BL_F',\n",
    " 'SCH_DISCWODIS_SINGOOS_AS_M',\n",
    " 'TOT_DISCWDIS_SINGOOS_IDEA_F',\n",
    " 'SCH_DISCWODIS_ARR_HI_M',\n",
    " 'SCH_DISCWDIS_ARR_IDEA_HP_F',\n",
    " 'SCH_DISCWDIS_REF_IDEA_HI_M',\n",
    " 'SCH_ENR_TR_M',\n",
    " 'SCH_GTENR_BL_M',\n",
    " 'SCH_DISCWDIS_SINGOOS_IDEA_AM_M',\n",
    " 'SCH_DISCWODIS_ARR_HI_F',\n",
    " 'SCH_IDEAENR_AS_F',\n",
    " 'SCH_DISCWDIS_ARR_IDEA_HI_F',\n",
    " 'SCH_APENR_HP_F',\n",
    " 'TOT_IDEAENR_M',\n",
    " 'SCH_GTENR_AM_M',\n",
    " 'SCH_ENR_BL_M',\n",
    " 'SCH_DISCWDIS_MULTOOS_IDEA_AS_M',\n",
    " 'SCH_ENR_AM_M',\n",
    " 'SCH_DISCWODIS_MULTOOS_WH_F',\n",
    " 'SCH_ENR_HP_M',\n",
    " 'SCH_IDEAENR_BL_M',\n",
    " 'SCH_IDEAENR_TR_M',\n",
    " 'SCH_APENR_WH_F',\n",
    " 'SCH_DISCWDIS_SINGOOS_IDEA_AS_F',\n",
    " 'SCH_ENR_AM_F',\n",
    " 'SCH_DISCWDIS_REF_IDEA_TR_M',\n",
    " 'SCH_DISCWODIS_REF_AS_F',\n",
    " 'SCH_DISCWDIS_ARR_IDEA_AM_F',\n",
    " 'SCH_ENR_WH_M',\n",
    " 'SCH_DISCWODIS_REF_BL_M',\n",
    " 'SCH_DISCWODIS_MULTOOS_AM_M',\n",
    " 'SCH_DISCWDIS_ARR_IDEA_HI_M',\n",
    " 'SCH_DISCWODIS_REF_HP_F',\n",
    " 'SCH_DISCWDIS_SINGOOS_IDEA_AS_M',\n",
    " 'SCH_DISCWODIS_ARR_AS_M',\n",
    " 'SCH_IDEAENR_WH_M',\n",
    " 'SCH_DISCWDIS_MULTOOS_IDEA_HP_F',\n",
    " 'TOT_DISCWDIS_REF_IDEA_M',\n",
    " 'SCH_FTESECURITY_LEO',\n",
    " 'SCH_DISCWODIS_MULTOOS_TR_M',\n",
    " 'SCH_IDEAENR_HP_F',\n",
    " 'SCH_DISCWODIS_MULTOOS_HI_F',\n",
    " 'SCH_DISCWDIS_ARR_IDEA_WH_F',\n",
    " 'SCH_GTENR_HP_M',\n",
    " 'SCH_DISCWDIS_MULTOOS_IDEA_TR_M',\n",
    " 'SCH_DISCWDIS_ARR_IDEA_AS_F',\n",
    " 'SCH_DISCWODIS_REF_WH_M',\n",
    " 'SCH_DISCWODIS_ARR_BL_M',\n",
    " 'TOT_IDEAENR_F',\n",
    " 'TOT_DISCWDIS_ARR_IDEA_F',\n",
    " 'SCH_DISCWODIS_MULTOOS_AS_F',\n",
    " 'SCH_DISCWDIS_MULTOOS_IDEA_WH_M',\n",
    " 'SCH_APENR_TR_F',\n",
    " 'SCH_ENR_WH_F',\n",
    " 'SCH_DISCWODIS_REF_WH_F',\n",
    " 'SCH_APENR_HP_M',\n",
    " 'SCH_DISCWODIS_MULTOOS_BL_M',\n",
    " 'SCH_GTENR_AM_F',\n",
    " 'TOT_DISCWDIS_MULTOOS_IDEA_F',\n",
    " 'SCH_DISCWDIS_REF_IDEA_HP_M',\n",
    " 'SCH_ENR_HI_F',\n",
    " 'SCH_DISCWDIS_REF_IDEA_HP_F',\n",
    " 'TOT_ENR_M',\n",
    " 'SCH_ENR_AS_F',\n",
    " 'SCH_DISCWDIS_REF_IDEA_AM_F',\n",
    " 'SCH_DISCWODIS_ARR_HP_M',\n",
    " 'SCH_APENR_AS_F',\n",
    " 'TOT_DISCWODIS_ARR_F',\n",
    " 'SCH_ENR_AS_M',\n",
    " 'SCH_GTENR_WH_F',\n",
    " 'SCH_DISCWDIS_SINGOOS_IDEA_HP_F',\n",
    " 'SCH_GTENR_LEP_F',\n",
    " 'SCH_IDEAENR_WH_F',\n",
    " 'SCH_DISCWODIS_SINGOOS_AM_M',\n",
    " 'SCH_DISCWODIS_SINGOOS_WH_M',\n",
    " 'SCH_DISCWDIS_ARR_IDEA_TR_F',\n",
    " 'SCH_ENR_HP_F',\n",
    " 'SCH_DISCWODIS_MULTOOS_HP_M',\n",
    " 'SCH_DISCWDIS_REF_IDEA_TR_F',\n",
    " 'SCH_GTENR_AS_M',\n",
    " 'SCH_DISCWDIS_SINGOOS_IDEA_WH_M',\n",
    " 'TOT_GTENR_M',\n",
    " 'SCH_DISCWODIS_ARR_TR_F',\n",
    " 'SCH_DISCWDIS_SINGOOS_IDEA_HP_M',\n",
    " 'SCH_DISCWODIS_MULTOOS_HP_F',\n",
    " 'SCH_DISCWDIS_ARR_IDEA_BL_M',\n",
    " 'SCH_DISCWDIS_REF_IDEA_AS_F',\n",
    " 'SCH_APENR_BL_M',\n",
    " 'TOT_DISCWDIS_REF_IDEA_F',\n",
    " 'SCH_DISCWDIS_MULTOOS_IDEA_HI_M']"
   ]
  },
  {
   "cell_type": "markdown",
   "metadata": {},
   "source": [
    "Custom aggregation dictionary - for string values, take the first non-null value.  For numeric fields, take the sum"
   ]
  },
  {
   "cell_type": "code",
   "execution_count": 691,
   "metadata": {},
   "outputs": [],
   "source": [
    "agg_dict = {k:sum if k not in {'LEA_NAME', 'LEA_STATE_NAME'} else 'first' for k in agg_cols}"
   ]
  },
  {
   "cell_type": "code",
   "execution_count": 692,
   "metadata": {},
   "outputs": [
    {
     "data": {
      "text/plain": [
       "True"
      ]
     },
     "execution_count": 692,
     "metadata": {},
     "output_type": "execute_result"
    }
   ],
   "source": [
    "len(agg_dict) == len(agg_cols)"
   ]
  },
  {
   "cell_type": "code",
   "execution_count": 693,
   "metadata": {},
   "outputs": [],
   "source": [
    "grouped_by_distyr = district.groupby(['LEAID', 'YEAR'])[agg_cols].agg(agg_dict)\n",
    "grouped_by_distyr = grouped_by_distyr[agg_cols]\n",
    "grouped_by_distyr.reset_index(inplace=True)\n",
    "grouped_by_distyr.sort_values(by=['LEAID', 'YEAR'], inplace=True)"
   ]
  },
  {
   "cell_type": "markdown",
   "metadata": {},
   "source": [
    "Fill in missing district states for 11/12 and 13/14 using the 15/16 value"
   ]
  },
  {
   "cell_type": "code",
   "execution_count": 694,
   "metadata": {},
   "outputs": [],
   "source": [
    "grouped_by_distyr['LEA_STATE_NAME'] = grouped_by_distyr['LEA_STATE_NAME'].fillna(method='bfill')"
   ]
  },
  {
   "cell_type": "markdown",
   "metadata": {},
   "source": [
    "Read geodata from file and join to district aggregation."
   ]
  },
  {
   "cell_type": "code",
   "execution_count": 23,
   "metadata": {},
   "outputs": [],
   "source": [
    "geo_data = pd.read_excel('/Users/cave/Desktop/discriminology/LEA Profile Info.xlsx', dtype={'LEAID': str})\n",
    "geo_data['LEAID'] = geo_data['LEAID'].str.zfill(7)"
   ]
  },
  {
   "cell_type": "code",
   "execution_count": 24,
   "metadata": {},
   "outputs": [
    {
     "data": {
      "text/plain": [
       "16758"
      ]
     },
     "execution_count": 24,
     "metadata": {},
     "output_type": "execute_result"
    }
   ],
   "source": [
    "len(geo_data)"
   ]
  },
  {
   "cell_type": "code",
   "execution_count": 25,
   "metadata": {},
   "outputs": [
    {
     "data": {
      "text/plain": [
       "16758"
      ]
     },
     "execution_count": 25,
     "metadata": {},
     "output_type": "execute_result"
    }
   ],
   "source": [
    "geo_data['LEAID'].nunique()"
   ]
  },
  {
   "cell_type": "code",
   "execution_count": 26,
   "metadata": {},
   "outputs": [
    {
     "ename": "NameError",
     "evalue": "name 'grouped_by_distyr' is not defined",
     "output_type": "error",
     "traceback": [
      "\u001b[0;31m---------------------------------------------------------------------------\u001b[0m",
      "\u001b[0;31mNameError\u001b[0m                                 Traceback (most recent call last)",
      "\u001b[0;32m<ipython-input-26-1c82584f2a31>\u001b[0m in \u001b[0;36m<module>\u001b[0;34m\u001b[0m\n\u001b[0;32m----> 1\u001b[0;31m \u001b[0mlen\u001b[0m\u001b[0;34m(\u001b[0m\u001b[0mset\u001b[0m\u001b[0;34m(\u001b[0m\u001b[0mgrouped_by_distyr\u001b[0m\u001b[0;34m[\u001b[0m\u001b[0;34m'LEAID'\u001b[0m\u001b[0;34m]\u001b[0m\u001b[0;34m.\u001b[0m\u001b[0mvalues\u001b[0m\u001b[0;34m)\u001b[0m\u001b[0;34m)\u001b[0m\u001b[0;34m\u001b[0m\u001b[0m\n\u001b[0m",
      "\u001b[0;31mNameError\u001b[0m: name 'grouped_by_distyr' is not defined"
     ]
    }
   ],
   "source": [
    "len(set(grouped_by_distyr['LEAID'].values))"
   ]
  },
  {
   "cell_type": "code",
   "execution_count": 701,
   "metadata": {},
   "outputs": [
    {
     "data": {
      "text/plain": [
       "16758"
      ]
     },
     "execution_count": 701,
     "metadata": {},
     "output_type": "execute_result"
    }
   ],
   "source": [
    "len(set(geo_data['LEAID'].values).intersection(set(grouped_by_distyr['LEAID'].values)))"
   ]
  },
  {
   "cell_type": "code",
   "execution_count": 31,
   "metadata": {},
   "outputs": [
    {
     "data": {
      "text/plain": [
       "Index(['Current Representative Address', 'Current Representative Phone',\n",
       "       'Current Representative Twitter', 'Current Representative Facebook',\n",
       "       'Current Representative Source', 'Current Senator #1 Last name',\n",
       "       'Current Senator #1 First name', 'Current Senator #1 Party',\n",
       "       'Current Senator #1 Url', 'Current Senator #1 Address',\n",
       "       ...\n",
       "       'Mayor Last name', 'Mayor email address', 'Mayor Phone',\n",
       "       'Mayor Twitter ', 'Alderman #1 First name', 'Alderman #1 Last name',\n",
       "       'Alderman #1 Ward/legislative district # ', 'Alderman #1 email address',\n",
       "       'Alderman #1 Phone', 'Alderman #1 Twitter '],\n",
       "      dtype='object', length=120)"
      ]
     },
     "execution_count": 31,
     "metadata": {},
     "output_type": "execute_result"
    }
   ],
   "source": [
    "geo_data.columns[-120:]"
   ]
  },
  {
   "cell_type": "code",
   "execution_count": 702,
   "metadata": {},
   "outputs": [],
   "source": [
    "district_geo = geo_data[['LEAID', 'LEA_ADDRESS', 'LEA_CITY', 'LEA_ZIP',\n",
    "       'CJJ', 'LEA_ENR', 'LEA_SCHOOLS', 'Latitude', 'Longitude']]"
   ]
  },
  {
   "cell_type": "code",
   "execution_count": 703,
   "metadata": {},
   "outputs": [
    {
     "data": {
      "text/html": [
       "<div>\n",
       "<style scoped>\n",
       "    .dataframe tbody tr th:only-of-type {\n",
       "        vertical-align: middle;\n",
       "    }\n",
       "\n",
       "    .dataframe tbody tr th {\n",
       "        vertical-align: top;\n",
       "    }\n",
       "\n",
       "    .dataframe thead th {\n",
       "        text-align: right;\n",
       "    }\n",
       "</style>\n",
       "<table border=\"1\" class=\"dataframe\">\n",
       "  <thead>\n",
       "    <tr style=\"text-align: right;\">\n",
       "      <th></th>\n",
       "      <th>LEAID</th>\n",
       "      <th>LEA_ADDRESS</th>\n",
       "      <th>LEA_CITY</th>\n",
       "      <th>LEA_ZIP</th>\n",
       "      <th>CJJ</th>\n",
       "      <th>LEA_ENR</th>\n",
       "      <th>LEA_SCHOOLS</th>\n",
       "      <th>Latitude</th>\n",
       "      <th>Longitude</th>\n",
       "    </tr>\n",
       "  </thead>\n",
       "  <tbody>\n",
       "    <tr>\n",
       "      <th>0</th>\n",
       "      <td>0100002</td>\n",
       "      <td>1000 INDUSTRIAL SCHOOL ROAD</td>\n",
       "      <td>MT. MEIGS</td>\n",
       "      <td>36057</td>\n",
       "      <td>Yes</td>\n",
       "      <td>3674</td>\n",
       "      <td>3</td>\n",
       "      <td>32.371901</td>\n",
       "      <td>-86.083791</td>\n",
       "    </tr>\n",
       "    <tr>\n",
       "      <th>1</th>\n",
       "      <td>0100005</td>\n",
       "      <td>107 WEST MAIN STREET</td>\n",
       "      <td>ALBERTVILLE</td>\n",
       "      <td>35950</td>\n",
       "      <td>No</td>\n",
       "      <td>4712</td>\n",
       "      <td>6</td>\n",
       "      <td>34.268415</td>\n",
       "      <td>-86.209216</td>\n",
       "    </tr>\n",
       "    <tr>\n",
       "      <th>2</th>\n",
       "      <td>0100006</td>\n",
       "      <td>12380 US HIGHWAY 431 S</td>\n",
       "      <td>GUNTERSVILLE</td>\n",
       "      <td>35976</td>\n",
       "      <td>No</td>\n",
       "      <td>5624</td>\n",
       "      <td>14</td>\n",
       "      <td>34.305366</td>\n",
       "      <td>-86.287334</td>\n",
       "    </tr>\n",
       "    <tr>\n",
       "      <th>3</th>\n",
       "      <td>0100007</td>\n",
       "      <td>2810 METROPOLITAN WAY</td>\n",
       "      <td>HOOVER</td>\n",
       "      <td>35243</td>\n",
       "      <td>No</td>\n",
       "      <td>14054</td>\n",
       "      <td>16</td>\n",
       "      <td>33.445932</td>\n",
       "      <td>-86.750203</td>\n",
       "    </tr>\n",
       "    <tr>\n",
       "      <th>4</th>\n",
       "      <td>0100008</td>\n",
       "      <td>211 CELTIC DRIVE</td>\n",
       "      <td>MADISON</td>\n",
       "      <td>35758</td>\n",
       "      <td>Yes</td>\n",
       "      <td>9206</td>\n",
       "      <td>11</td>\n",
       "      <td>34.686749</td>\n",
       "      <td>-86.745762</td>\n",
       "    </tr>\n",
       "  </tbody>\n",
       "</table>\n",
       "</div>"
      ],
      "text/plain": [
       "     LEAID                  LEA_ADDRESS      LEA_CITY  LEA_ZIP  CJJ  LEA_ENR  \\\n",
       "0  0100002  1000 INDUSTRIAL SCHOOL ROAD     MT. MEIGS    36057  Yes     3674   \n",
       "1  0100005         107 WEST MAIN STREET   ALBERTVILLE    35950   No     4712   \n",
       "2  0100006       12380 US HIGHWAY 431 S  GUNTERSVILLE    35976   No     5624   \n",
       "3  0100007        2810 METROPOLITAN WAY        HOOVER    35243   No    14054   \n",
       "4  0100008             211 CELTIC DRIVE       MADISON    35758  Yes     9206   \n",
       "\n",
       "   LEA_SCHOOLS   Latitude  Longitude  \n",
       "0            3  32.371901 -86.083791  \n",
       "1            6  34.268415 -86.209216  \n",
       "2           14  34.305366 -86.287334  \n",
       "3           16  33.445932 -86.750203  \n",
       "4           11  34.686749 -86.745762  "
      ]
     },
     "execution_count": 703,
     "metadata": {},
     "output_type": "execute_result"
    }
   ],
   "source": [
    "district_geo.head()"
   ]
  },
  {
   "cell_type": "code",
   "execution_count": 704,
   "metadata": {},
   "outputs": [],
   "source": [
    "district_group_w_geo = pd.merge(grouped_by_distyr, district_geo, left_on='LEAID', right_on='LEAID', how='left')"
   ]
  },
  {
   "cell_type": "code",
   "execution_count": 717,
   "metadata": {},
   "outputs": [
    {
     "data": {
      "text/plain": [
       "1098.0"
      ]
     },
     "execution_count": 717,
     "metadata": {},
     "output_type": "execute_result"
    }
   ],
   "source": [
    "(df_1112_raw[df_1112_raw['LEAID']=='0100002']['F_TOT_7_ENROL'] + df_1112_raw[df_1112_raw['LEAID']=='0100002']['M_TOT_7_ENROL']).sum()"
   ]
  },
  {
   "cell_type": "code",
   "execution_count": 719,
   "metadata": {},
   "outputs": [
    {
     "data": {
      "text/plain": [
       "3702"
      ]
     },
     "execution_count": 719,
     "metadata": {},
     "output_type": "execute_result"
    }
   ],
   "source": [
    "(df_1314_raw[df_1314_raw['LEAID']=='0100002']['TOT_ENR_F'] + df_1314_raw[df_1314_raw['LEAID']=='0100002']['TOT_ENR_M']).sum()\n",
    "\n"
   ]
  },
  {
   "cell_type": "code",
   "execution_count": 720,
   "metadata": {},
   "outputs": [
    {
     "data": {
      "text/plain": [
       "1126"
      ]
     },
     "execution_count": 720,
     "metadata": {},
     "output_type": "execute_result"
    }
   ],
   "source": [
    "(df1516_raw[df1516_raw['LEAID']=='0100002']['TOT_ENR_F'] + df1516_raw[df1516_raw['LEAID']=='0100002']['TOT_ENR_M']).sum()\n",
    "\n"
   ]
  },
  {
   "cell_type": "code",
   "execution_count": 726,
   "metadata": {},
   "outputs": [],
   "source": [
    "totals_compare = district_group_w_geo[['LEAID', 'YEAR', 'LEA_ENR', 'TOTAL_ENROLLMENT', 'TOTAL_SCHOOLS', 'LEA_SCHOOLS']][~district_group_w_geo['LEA_ENR'].isna()]\n",
    "\n"
   ]
  },
  {
   "cell_type": "code",
   "execution_count": 738,
   "metadata": {},
   "outputs": [],
   "source": [
    "totals_compare['enrollment_discrepancy'] = totals_compare['TOTAL_ENROLLMENT'] - totals_compare['LEA_ENR']\n",
    "totals_compare['enrollment_discrepancy_percentage'] = 100*(totals_compare.enrollment_discrepancy / (totals_compare['TOTAL_ENROLLMENT']+1))"
   ]
  },
  {
   "cell_type": "code",
   "execution_count": 742,
   "metadata": {},
   "outputs": [
    {
     "data": {
      "text/html": [
       "<div>\n",
       "<style scoped>\n",
       "    .dataframe tbody tr th:only-of-type {\n",
       "        vertical-align: middle;\n",
       "    }\n",
       "\n",
       "    .dataframe tbody tr th {\n",
       "        vertical-align: top;\n",
       "    }\n",
       "\n",
       "    .dataframe thead th {\n",
       "        text-align: right;\n",
       "    }\n",
       "</style>\n",
       "<table border=\"1\" class=\"dataframe\">\n",
       "  <thead>\n",
       "    <tr style=\"text-align: right;\">\n",
       "      <th></th>\n",
       "      <th>LEAID</th>\n",
       "      <th>YEAR</th>\n",
       "      <th>LEA_ENR</th>\n",
       "      <th>TOTAL_ENROLLMENT</th>\n",
       "      <th>TOTAL_SCHOOLS</th>\n",
       "      <th>LEA_SCHOOLS</th>\n",
       "      <th>enrollment_discrepancy</th>\n",
       "      <th>enrollment_discrepancy_percentage</th>\n",
       "    </tr>\n",
       "  </thead>\n",
       "  <tbody>\n",
       "    <tr>\n",
       "      <th>2</th>\n",
       "      <td>0100002</td>\n",
       "      <td>2015-16</td>\n",
       "      <td>3674.0</td>\n",
       "      <td>1126.0</td>\n",
       "      <td>4.0</td>\n",
       "      <td>3.0</td>\n",
       "      <td>-2548.0</td>\n",
       "      <td>-226.086957</td>\n",
       "    </tr>\n",
       "    <tr>\n",
       "      <th>5</th>\n",
       "      <td>0100005</td>\n",
       "      <td>2015-16</td>\n",
       "      <td>4712.0</td>\n",
       "      <td>5203.0</td>\n",
       "      <td>6.0</td>\n",
       "      <td>6.0</td>\n",
       "      <td>491.0</td>\n",
       "      <td>9.435050</td>\n",
       "    </tr>\n",
       "    <tr>\n",
       "      <th>8</th>\n",
       "      <td>0100006</td>\n",
       "      <td>2015-16</td>\n",
       "      <td>5624.0</td>\n",
       "      <td>5671.0</td>\n",
       "      <td>14.0</td>\n",
       "      <td>14.0</td>\n",
       "      <td>47.0</td>\n",
       "      <td>0.828632</td>\n",
       "    </tr>\n",
       "    <tr>\n",
       "      <th>11</th>\n",
       "      <td>0100007</td>\n",
       "      <td>2015-16</td>\n",
       "      <td>14054.0</td>\n",
       "      <td>14479.0</td>\n",
       "      <td>16.0</td>\n",
       "      <td>16.0</td>\n",
       "      <td>425.0</td>\n",
       "      <td>2.935083</td>\n",
       "    </tr>\n",
       "    <tr>\n",
       "      <th>14</th>\n",
       "      <td>0100008</td>\n",
       "      <td>2015-16</td>\n",
       "      <td>9206.0</td>\n",
       "      <td>10021.0</td>\n",
       "      <td>11.0</td>\n",
       "      <td>11.0</td>\n",
       "      <td>815.0</td>\n",
       "      <td>8.132109</td>\n",
       "    </tr>\n",
       "    <tr>\n",
       "      <th>...</th>\n",
       "      <td>...</td>\n",
       "      <td>...</td>\n",
       "      <td>...</td>\n",
       "      <td>...</td>\n",
       "      <td>...</td>\n",
       "      <td>...</td>\n",
       "      <td>...</td>\n",
       "      <td>...</td>\n",
       "    </tr>\n",
       "    <tr>\n",
       "      <th>51345</th>\n",
       "      <td>5606240</td>\n",
       "      <td>2015-16</td>\n",
       "      <td>1388.0</td>\n",
       "      <td>1359.0</td>\n",
       "      <td>5.0</td>\n",
       "      <td>5.0</td>\n",
       "      <td>-29.0</td>\n",
       "      <td>-2.132353</td>\n",
       "    </tr>\n",
       "    <tr>\n",
       "      <th>51348</th>\n",
       "      <td>5680180</td>\n",
       "      <td>2015-16</td>\n",
       "      <td>32.0</td>\n",
       "      <td>41.0</td>\n",
       "      <td>1.0</td>\n",
       "      <td>16.0</td>\n",
       "      <td>9.0</td>\n",
       "      <td>21.428571</td>\n",
       "    </tr>\n",
       "    <tr>\n",
       "      <th>51351</th>\n",
       "      <td>5680250</td>\n",
       "      <td>2015-16</td>\n",
       "      <td>41.0</td>\n",
       "      <td>50.0</td>\n",
       "      <td>1.0</td>\n",
       "      <td>3.0</td>\n",
       "      <td>9.0</td>\n",
       "      <td>17.647059</td>\n",
       "    </tr>\n",
       "    <tr>\n",
       "      <th>51354</th>\n",
       "      <td>5680251</td>\n",
       "      <td>2015-16</td>\n",
       "      <td>95.0</td>\n",
       "      <td>269.0</td>\n",
       "      <td>2.0</td>\n",
       "      <td>2.0</td>\n",
       "      <td>174.0</td>\n",
       "      <td>64.444444</td>\n",
       "    </tr>\n",
       "    <tr>\n",
       "      <th>51357</th>\n",
       "      <td>5680252</td>\n",
       "      <td>2015-16</td>\n",
       "      <td>35.0</td>\n",
       "      <td>39.0</td>\n",
       "      <td>1.0</td>\n",
       "      <td>1.0</td>\n",
       "      <td>4.0</td>\n",
       "      <td>10.000000</td>\n",
       "    </tr>\n",
       "  </tbody>\n",
       "</table>\n",
       "<p>16412 rows × 8 columns</p>\n",
       "</div>"
      ],
      "text/plain": [
       "         LEAID     YEAR  LEA_ENR  TOTAL_ENROLLMENT  TOTAL_SCHOOLS  \\\n",
       "2      0100002  2015-16   3674.0            1126.0            4.0   \n",
       "5      0100005  2015-16   4712.0            5203.0            6.0   \n",
       "8      0100006  2015-16   5624.0            5671.0           14.0   \n",
       "11     0100007  2015-16  14054.0           14479.0           16.0   \n",
       "14     0100008  2015-16   9206.0           10021.0           11.0   \n",
       "...        ...      ...      ...               ...            ...   \n",
       "51345  5606240  2015-16   1388.0            1359.0            5.0   \n",
       "51348  5680180  2015-16     32.0              41.0            1.0   \n",
       "51351  5680250  2015-16     41.0              50.0            1.0   \n",
       "51354  5680251  2015-16     95.0             269.0            2.0   \n",
       "51357  5680252  2015-16     35.0              39.0            1.0   \n",
       "\n",
       "       LEA_SCHOOLS  enrollment_discrepancy  enrollment_discrepancy_percentage  \n",
       "2              3.0                 -2548.0                        -226.086957  \n",
       "5              6.0                   491.0                           9.435050  \n",
       "8             14.0                    47.0                           0.828632  \n",
       "11            16.0                   425.0                           2.935083  \n",
       "14            11.0                   815.0                           8.132109  \n",
       "...            ...                     ...                                ...  \n",
       "51345          5.0                   -29.0                          -2.132353  \n",
       "51348         16.0                     9.0                          21.428571  \n",
       "51351          3.0                     9.0                          17.647059  \n",
       "51354          2.0                   174.0                          64.444444  \n",
       "51357          1.0                     4.0                          10.000000  \n",
       "\n",
       "[16412 rows x 8 columns]"
      ]
     },
     "execution_count": 742,
     "metadata": {},
     "output_type": "execute_result"
    }
   ],
   "source": [
    "totals_compare[totals_compare['YEAR']=='2015-16']"
   ]
  },
  {
   "cell_type": "code",
   "execution_count": 743,
   "metadata": {},
   "outputs": [
    {
     "data": {
      "text/html": [
       "<div>\n",
       "<style scoped>\n",
       "    .dataframe tbody tr th:only-of-type {\n",
       "        vertical-align: middle;\n",
       "    }\n",
       "\n",
       "    .dataframe tbody tr th {\n",
       "        vertical-align: top;\n",
       "    }\n",
       "\n",
       "    .dataframe thead th {\n",
       "        text-align: right;\n",
       "    }\n",
       "</style>\n",
       "<table border=\"1\" class=\"dataframe\">\n",
       "  <thead>\n",
       "    <tr style=\"text-align: right;\">\n",
       "      <th></th>\n",
       "      <th>LEAID</th>\n",
       "      <th>YEAR</th>\n",
       "      <th>LEA_ENR</th>\n",
       "      <th>TOTAL_ENROLLMENT</th>\n",
       "      <th>TOTAL_SCHOOLS</th>\n",
       "      <th>LEA_SCHOOLS</th>\n",
       "      <th>enrollment_discrepancy</th>\n",
       "      <th>enrollment_discrepancy_percentage</th>\n",
       "    </tr>\n",
       "  </thead>\n",
       "  <tbody>\n",
       "    <tr>\n",
       "      <th>1</th>\n",
       "      <td>0100002</td>\n",
       "      <td>2013-14</td>\n",
       "      <td>3674.0</td>\n",
       "      <td>3702.0</td>\n",
       "      <td>3.0</td>\n",
       "      <td>3.0</td>\n",
       "      <td>28.0</td>\n",
       "      <td>0.756144</td>\n",
       "    </tr>\n",
       "    <tr>\n",
       "      <th>4</th>\n",
       "      <td>0100005</td>\n",
       "      <td>2013-14</td>\n",
       "      <td>4712.0</td>\n",
       "      <td>4723.0</td>\n",
       "      <td>6.0</td>\n",
       "      <td>6.0</td>\n",
       "      <td>11.0</td>\n",
       "      <td>0.232854</td>\n",
       "    </tr>\n",
       "    <tr>\n",
       "      <th>7</th>\n",
       "      <td>0100006</td>\n",
       "      <td>2013-14</td>\n",
       "      <td>5624.0</td>\n",
       "      <td>5658.0</td>\n",
       "      <td>14.0</td>\n",
       "      <td>14.0</td>\n",
       "      <td>34.0</td>\n",
       "      <td>0.600813</td>\n",
       "    </tr>\n",
       "    <tr>\n",
       "      <th>10</th>\n",
       "      <td>0100007</td>\n",
       "      <td>2013-14</td>\n",
       "      <td>14054.0</td>\n",
       "      <td>13916.0</td>\n",
       "      <td>16.0</td>\n",
       "      <td>16.0</td>\n",
       "      <td>-138.0</td>\n",
       "      <td>-0.991593</td>\n",
       "    </tr>\n",
       "    <tr>\n",
       "      <th>13</th>\n",
       "      <td>0100008</td>\n",
       "      <td>2013-14</td>\n",
       "      <td>9206.0</td>\n",
       "      <td>9618.0</td>\n",
       "      <td>11.0</td>\n",
       "      <td>11.0</td>\n",
       "      <td>412.0</td>\n",
       "      <td>4.283190</td>\n",
       "    </tr>\n",
       "    <tr>\n",
       "      <th>...</th>\n",
       "      <td>...</td>\n",
       "      <td>...</td>\n",
       "      <td>...</td>\n",
       "      <td>...</td>\n",
       "      <td>...</td>\n",
       "      <td>...</td>\n",
       "      <td>...</td>\n",
       "      <td>...</td>\n",
       "    </tr>\n",
       "    <tr>\n",
       "      <th>51344</th>\n",
       "      <td>5606240</td>\n",
       "      <td>2013-14</td>\n",
       "      <td>1388.0</td>\n",
       "      <td>1385.0</td>\n",
       "      <td>5.0</td>\n",
       "      <td>5.0</td>\n",
       "      <td>-3.0</td>\n",
       "      <td>-0.216450</td>\n",
       "    </tr>\n",
       "    <tr>\n",
       "      <th>51347</th>\n",
       "      <td>5680180</td>\n",
       "      <td>2013-14</td>\n",
       "      <td>32.0</td>\n",
       "      <td>34.0</td>\n",
       "      <td>1.0</td>\n",
       "      <td>16.0</td>\n",
       "      <td>2.0</td>\n",
       "      <td>5.714286</td>\n",
       "    </tr>\n",
       "    <tr>\n",
       "      <th>51350</th>\n",
       "      <td>5680250</td>\n",
       "      <td>2013-14</td>\n",
       "      <td>41.0</td>\n",
       "      <td>36.0</td>\n",
       "      <td>1.0</td>\n",
       "      <td>3.0</td>\n",
       "      <td>-5.0</td>\n",
       "      <td>-13.513514</td>\n",
       "    </tr>\n",
       "    <tr>\n",
       "      <th>51353</th>\n",
       "      <td>5680251</td>\n",
       "      <td>2013-14</td>\n",
       "      <td>95.0</td>\n",
       "      <td>111.0</td>\n",
       "      <td>2.0</td>\n",
       "      <td>2.0</td>\n",
       "      <td>16.0</td>\n",
       "      <td>14.285714</td>\n",
       "    </tr>\n",
       "    <tr>\n",
       "      <th>51356</th>\n",
       "      <td>5680252</td>\n",
       "      <td>2013-14</td>\n",
       "      <td>35.0</td>\n",
       "      <td>44.0</td>\n",
       "      <td>1.0</td>\n",
       "      <td>1.0</td>\n",
       "      <td>9.0</td>\n",
       "      <td>20.000000</td>\n",
       "    </tr>\n",
       "  </tbody>\n",
       "</table>\n",
       "<p>16758 rows × 8 columns</p>\n",
       "</div>"
      ],
      "text/plain": [
       "         LEAID     YEAR  LEA_ENR  TOTAL_ENROLLMENT  TOTAL_SCHOOLS  \\\n",
       "1      0100002  2013-14   3674.0            3702.0            3.0   \n",
       "4      0100005  2013-14   4712.0            4723.0            6.0   \n",
       "7      0100006  2013-14   5624.0            5658.0           14.0   \n",
       "10     0100007  2013-14  14054.0           13916.0           16.0   \n",
       "13     0100008  2013-14   9206.0            9618.0           11.0   \n",
       "...        ...      ...      ...               ...            ...   \n",
       "51344  5606240  2013-14   1388.0            1385.0            5.0   \n",
       "51347  5680180  2013-14     32.0              34.0            1.0   \n",
       "51350  5680250  2013-14     41.0              36.0            1.0   \n",
       "51353  5680251  2013-14     95.0             111.0            2.0   \n",
       "51356  5680252  2013-14     35.0              44.0            1.0   \n",
       "\n",
       "       LEA_SCHOOLS  enrollment_discrepancy  enrollment_discrepancy_percentage  \n",
       "1              3.0                    28.0                           0.756144  \n",
       "4              6.0                    11.0                           0.232854  \n",
       "7             14.0                    34.0                           0.600813  \n",
       "10            16.0                  -138.0                          -0.991593  \n",
       "13            11.0                   412.0                           4.283190  \n",
       "...            ...                     ...                                ...  \n",
       "51344          5.0                    -3.0                          -0.216450  \n",
       "51347         16.0                     2.0                           5.714286  \n",
       "51350          3.0                    -5.0                         -13.513514  \n",
       "51353          2.0                    16.0                          14.285714  \n",
       "51356          1.0                     9.0                          20.000000  \n",
       "\n",
       "[16758 rows x 8 columns]"
      ]
     },
     "execution_count": 743,
     "metadata": {},
     "output_type": "execute_result"
    }
   ],
   "source": [
    "totals_compare[totals_compare['YEAR']=='2013-14']"
   ]
  },
  {
   "cell_type": "code",
   "execution_count": 744,
   "metadata": {},
   "outputs": [
    {
     "data": {
      "text/html": [
       "<div>\n",
       "<style scoped>\n",
       "    .dataframe tbody tr th:only-of-type {\n",
       "        vertical-align: middle;\n",
       "    }\n",
       "\n",
       "    .dataframe tbody tr th {\n",
       "        vertical-align: top;\n",
       "    }\n",
       "\n",
       "    .dataframe thead th {\n",
       "        text-align: right;\n",
       "    }\n",
       "</style>\n",
       "<table border=\"1\" class=\"dataframe\">\n",
       "  <thead>\n",
       "    <tr style=\"text-align: right;\">\n",
       "      <th></th>\n",
       "      <th>JJ</th>\n",
       "      <th>LEAID</th>\n",
       "      <th>LEA_NAME</th>\n",
       "      <th>LEA_STATE</th>\n",
       "      <th>SCHID</th>\n",
       "      <th>SCH_APENR_AM_F</th>\n",
       "      <th>SCH_APENR_AM_M</th>\n",
       "      <th>SCH_APENR_AS_F</th>\n",
       "      <th>SCH_APENR_AS_M</th>\n",
       "      <th>SCH_APENR_BL_F</th>\n",
       "      <th>...</th>\n",
       "      <th>TOT_DISCWODIS_REF_F</th>\n",
       "      <th>TOT_DISCWODIS_REF_M</th>\n",
       "      <th>TOT_DISCWODIS_SINGOOS_F</th>\n",
       "      <th>TOT_DISCWODIS_SINGOOS_M</th>\n",
       "      <th>TOT_ENR_F</th>\n",
       "      <th>TOT_ENR_M</th>\n",
       "      <th>TOT_GTENR_F</th>\n",
       "      <th>TOT_GTENR_M</th>\n",
       "      <th>TOT_IDEAENR_F</th>\n",
       "      <th>TOT_IDEAENR_M</th>\n",
       "    </tr>\n",
       "  </thead>\n",
       "  <tbody>\n",
       "    <tr>\n",
       "      <th>568025000048</th>\n",
       "      <td>No</td>\n",
       "      <td>5680250</td>\n",
       "      <td>REGION V BOCES</td>\n",
       "      <td>WY</td>\n",
       "      <td>48</td>\n",
       "      <td>0</td>\n",
       "      <td>0</td>\n",
       "      <td>0</td>\n",
       "      <td>0</td>\n",
       "      <td>0</td>\n",
       "      <td>...</td>\n",
       "      <td>0</td>\n",
       "      <td>0</td>\n",
       "      <td>0</td>\n",
       "      <td>0</td>\n",
       "      <td>8</td>\n",
       "      <td>28</td>\n",
       "      <td>0</td>\n",
       "      <td>0</td>\n",
       "      <td>7</td>\n",
       "      <td>28</td>\n",
       "    </tr>\n",
       "  </tbody>\n",
       "</table>\n",
       "<p>1 rows × 218 columns</p>\n",
       "</div>"
      ],
      "text/plain": [
       "              JJ    LEAID        LEA_NAME LEA_STATE SCHID SCH_APENR_AM_F  \\\n",
       "568025000048  No  5680250  REGION V BOCES        WY    48              0   \n",
       "\n",
       "             SCH_APENR_AM_M SCH_APENR_AS_F SCH_APENR_AS_M SCH_APENR_BL_F  ...  \\\n",
       "568025000048              0              0              0              0  ...   \n",
       "\n",
       "             TOT_DISCWODIS_REF_F TOT_DISCWODIS_REF_M TOT_DISCWODIS_SINGOOS_F  \\\n",
       "568025000048                   0                   0                       0   \n",
       "\n",
       "             TOT_DISCWODIS_SINGOOS_M TOT_ENR_F TOT_ENR_M TOT_GTENR_F  \\\n",
       "568025000048                       0         8        28           0   \n",
       "\n",
       "             TOT_GTENR_M TOT_IDEAENR_F TOT_IDEAENR_M  \n",
       "568025000048           0             7            28  \n",
       "\n",
       "[1 rows x 218 columns]"
      ]
     },
     "execution_count": 744,
     "metadata": {},
     "output_type": "execute_result"
    }
   ],
   "source": [
    "df_1314_raw[df_1314_raw['LEAID']=='5680250']"
   ]
  },
  {
   "cell_type": "code",
   "execution_count": 740,
   "metadata": {},
   "outputs": [],
   "source": [
    "district_merge = pd.merge(district_group_w_geo.T, descriptions, left_index=True, right_index=True, how='left').set_index('description', append=True).T"
   ]
  },
  {
   "cell_type": "code",
   "execution_count": 386,
   "metadata": {},
   "outputs": [],
   "source": [
    "sample = district_merge[~district_merge['Latitude', None].isna()]\n",
    "sample[-600:].to_csv('~/Desktop/discriminology/output/district_level_sample.csv')"
   ]
  },
  {
   "cell_type": "code",
   "execution_count": 401,
   "metadata": {},
   "outputs": [
    {
     "data": {
      "text/html": [
       "<div>\n",
       "<style scoped>\n",
       "    .dataframe tbody tr th:only-of-type {\n",
       "        vertical-align: middle;\n",
       "    }\n",
       "\n",
       "    .dataframe tbody tr th {\n",
       "        vertical-align: top;\n",
       "    }\n",
       "\n",
       "    .dataframe thead tr th {\n",
       "        text-align: left;\n",
       "    }\n",
       "</style>\n",
       "<table border=\"1\" class=\"dataframe\">\n",
       "  <thead>\n",
       "    <tr>\n",
       "      <th></th>\n",
       "      <th>LEAID</th>\n",
       "      <th>YEAR</th>\n",
       "      <th>LEA_NAME</th>\n",
       "      <th>LEA_STATE_NAME</th>\n",
       "      <th>SCH_DISCWODIS_MULTOOS_HI_M</th>\n",
       "      <th>SCH_DISCWDIS_ARR_IDEA_AM_M</th>\n",
       "      <th>SCH_GTENR_IDEA_F</th>\n",
       "      <th>SCH_DISCWODIS_SINGOOS_HP_F</th>\n",
       "      <th>SCH_FTECOUNSELORS</th>\n",
       "      <th>SCH_DISCWODIS_ARR_WH_M</th>\n",
       "      <th>...</th>\n",
       "      <th>TOT_DISCWDIS_REF_IDEA_F</th>\n",
       "      <th>SCH_DISCWDIS_MULTOOS_IDEA_HI_M</th>\n",
       "      <th>LEA_ADDRESS</th>\n",
       "      <th>LEA_CITY</th>\n",
       "      <th>LEA_ZIP</th>\n",
       "      <th>CJJ</th>\n",
       "      <th>LEA_ENR</th>\n",
       "      <th>LEA_SCHOOLS</th>\n",
       "      <th>Latitude</th>\n",
       "      <th>Longitude</th>\n",
       "    </tr>\n",
       "    <tr>\n",
       "      <th>description</th>\n",
       "      <th>7 Digit LEAID District Identification Code</th>\n",
       "      <th>NaN</th>\n",
       "      <th>District Name</th>\n",
       "      <th>District State Name</th>\n",
       "      <th>Students without disabilities who received more than one out-of-school suspension: Hispanic Male</th>\n",
       "      <th>Students with disabilities who received a school-related arrest: American Indian/Alaska Native Male</th>\n",
       "      <th>Gifted and Talented Student Enrollment: IDEA Female</th>\n",
       "      <th>Students without disabilities who received only one out-of-school suspension: Native Hawaiian/Pacific Islander Female</th>\n",
       "      <th>School Counselors: Number of FTE school counselors</th>\n",
       "      <th>Students without disabilities who received a school-related arrest: White Male</th>\n",
       "      <th>...</th>\n",
       "      <th>Students with disabilities who were referred to a law enforcement agency or official: Calculated Female Total</th>\n",
       "      <th>Students with disabilities who received more than one out-of-school suspension: Hispanic Male</th>\n",
       "      <th>NaN</th>\n",
       "      <th>NaN</th>\n",
       "      <th>NaN</th>\n",
       "      <th>NaN</th>\n",
       "      <th>NaN</th>\n",
       "      <th>NaN</th>\n",
       "      <th>NaN</th>\n",
       "      <th>NaN</th>\n",
       "    </tr>\n",
       "  </thead>\n",
       "  <tbody>\n",
       "    <tr>\n",
       "      <th>69</th>\n",
       "      <td>100040</td>\n",
       "      <td>2011-12</td>\n",
       "      <td>Brantwood Children'S Home</td>\n",
       "      <td>ALABAMA</td>\n",
       "      <td>0</td>\n",
       "      <td>0</td>\n",
       "      <td>0</td>\n",
       "      <td>0</td>\n",
       "      <td>0</td>\n",
       "      <td>0</td>\n",
       "      <td>...</td>\n",
       "      <td>0</td>\n",
       "      <td>0</td>\n",
       "      <td>NaN</td>\n",
       "      <td>NaN</td>\n",
       "      <td>NaN</td>\n",
       "      <td>NaN</td>\n",
       "      <td>NaN</td>\n",
       "      <td>NaN</td>\n",
       "      <td>NaN</td>\n",
       "      <td>NaN</td>\n",
       "    </tr>\n",
       "    <tr>\n",
       "      <th>97</th>\n",
       "      <td>100179</td>\n",
       "      <td>2011-12</td>\n",
       "      <td>The Bridge Ii</td>\n",
       "      <td>ALABAMA</td>\n",
       "      <td>0</td>\n",
       "      <td>0</td>\n",
       "      <td>0</td>\n",
       "      <td>0</td>\n",
       "      <td>0</td>\n",
       "      <td>0</td>\n",
       "      <td>...</td>\n",
       "      <td>0</td>\n",
       "      <td>0</td>\n",
       "      <td>NaN</td>\n",
       "      <td>NaN</td>\n",
       "      <td>NaN</td>\n",
       "      <td>NaN</td>\n",
       "      <td>NaN</td>\n",
       "      <td>NaN</td>\n",
       "      <td>NaN</td>\n",
       "      <td>NaN</td>\n",
       "    </tr>\n",
       "    <tr>\n",
       "      <th>115</th>\n",
       "      <td>100189</td>\n",
       "      <td>2015-16</td>\n",
       "      <td>Satsuma City</td>\n",
       "      <td>ALABAMA</td>\n",
       "      <td>0</td>\n",
       "      <td>0</td>\n",
       "      <td>2</td>\n",
       "      <td>0</td>\n",
       "      <td>2.5</td>\n",
       "      <td>0</td>\n",
       "      <td>...</td>\n",
       "      <td>0</td>\n",
       "      <td>0</td>\n",
       "      <td>NaN</td>\n",
       "      <td>NaN</td>\n",
       "      <td>NaN</td>\n",
       "      <td>NaN</td>\n",
       "      <td>NaN</td>\n",
       "      <td>NaN</td>\n",
       "      <td>NaN</td>\n",
       "      <td>NaN</td>\n",
       "    </tr>\n",
       "    <tr>\n",
       "      <th>119</th>\n",
       "      <td>100194</td>\n",
       "      <td>2015-16</td>\n",
       "      <td>Pelham City</td>\n",
       "      <td>ALABAMA</td>\n",
       "      <td>6</td>\n",
       "      <td>0</td>\n",
       "      <td>0</td>\n",
       "      <td>0</td>\n",
       "      <td>7</td>\n",
       "      <td>0</td>\n",
       "      <td>...</td>\n",
       "      <td>0</td>\n",
       "      <td>0</td>\n",
       "      <td>NaN</td>\n",
       "      <td>NaN</td>\n",
       "      <td>NaN</td>\n",
       "      <td>NaN</td>\n",
       "      <td>NaN</td>\n",
       "      <td>NaN</td>\n",
       "      <td>NaN</td>\n",
       "      <td>NaN</td>\n",
       "    </tr>\n",
       "    <tr>\n",
       "      <th>120</th>\n",
       "      <td>100195</td>\n",
       "      <td>2015-16</td>\n",
       "      <td>Pike Road</td>\n",
       "      <td>ALABAMA</td>\n",
       "      <td>2</td>\n",
       "      <td>0</td>\n",
       "      <td>0</td>\n",
       "      <td>0</td>\n",
       "      <td>1</td>\n",
       "      <td>0</td>\n",
       "      <td>...</td>\n",
       "      <td>0</td>\n",
       "      <td>0</td>\n",
       "      <td>NaN</td>\n",
       "      <td>NaN</td>\n",
       "      <td>NaN</td>\n",
       "      <td>NaN</td>\n",
       "      <td>NaN</td>\n",
       "      <td>NaN</td>\n",
       "      <td>NaN</td>\n",
       "      <td>NaN</td>\n",
       "    </tr>\n",
       "    <tr>\n",
       "      <th>...</th>\n",
       "      <td>...</td>\n",
       "      <td>...</td>\n",
       "      <td>...</td>\n",
       "      <td>...</td>\n",
       "      <td>...</td>\n",
       "      <td>...</td>\n",
       "      <td>...</td>\n",
       "      <td>...</td>\n",
       "      <td>...</td>\n",
       "      <td>...</td>\n",
       "      <td>...</td>\n",
       "      <td>...</td>\n",
       "      <td>...</td>\n",
       "      <td>...</td>\n",
       "      <td>...</td>\n",
       "      <td>...</td>\n",
       "      <td>...</td>\n",
       "      <td>...</td>\n",
       "      <td>...</td>\n",
       "      <td>...</td>\n",
       "      <td>...</td>\n",
       "    </tr>\n",
       "    <tr>\n",
       "      <th>51453</th>\n",
       "      <td>804680</td>\n",
       "      <td>2015-16</td>\n",
       "      <td>Holly School District No. Re-3</td>\n",
       "      <td>COLORADO</td>\n",
       "      <td>0</td>\n",
       "      <td>0</td>\n",
       "      <td>0</td>\n",
       "      <td>0</td>\n",
       "      <td>0</td>\n",
       "      <td>0</td>\n",
       "      <td>...</td>\n",
       "      <td>0</td>\n",
       "      <td>0</td>\n",
       "      <td>NaN</td>\n",
       "      <td>NaN</td>\n",
       "      <td>NaN</td>\n",
       "      <td>NaN</td>\n",
       "      <td>NaN</td>\n",
       "      <td>NaN</td>\n",
       "      <td>NaN</td>\n",
       "      <td>NaN</td>\n",
       "    </tr>\n",
       "    <tr>\n",
       "      <th>51454</th>\n",
       "      <td>804710</td>\n",
       "      <td>2015-16</td>\n",
       "      <td>Holyoke School District No. Re-1J</td>\n",
       "      <td>COLORADO</td>\n",
       "      <td>2</td>\n",
       "      <td>0</td>\n",
       "      <td>0</td>\n",
       "      <td>0</td>\n",
       "      <td>2</td>\n",
       "      <td>0</td>\n",
       "      <td>...</td>\n",
       "      <td>0</td>\n",
       "      <td>0</td>\n",
       "      <td>NaN</td>\n",
       "      <td>NaN</td>\n",
       "      <td>NaN</td>\n",
       "      <td>NaN</td>\n",
       "      <td>NaN</td>\n",
       "      <td>NaN</td>\n",
       "      <td>NaN</td>\n",
       "      <td>NaN</td>\n",
       "    </tr>\n",
       "    <tr>\n",
       "      <th>51455</th>\n",
       "      <td>804740</td>\n",
       "      <td>2015-16</td>\n",
       "      <td>Genoa-Hugo School District No. C-113</td>\n",
       "      <td>COLORADO</td>\n",
       "      <td>0</td>\n",
       "      <td>0</td>\n",
       "      <td>0</td>\n",
       "      <td>0</td>\n",
       "      <td>0</td>\n",
       "      <td>0</td>\n",
       "      <td>...</td>\n",
       "      <td>0</td>\n",
       "      <td>0</td>\n",
       "      <td>NaN</td>\n",
       "      <td>NaN</td>\n",
       "      <td>NaN</td>\n",
       "      <td>NaN</td>\n",
       "      <td>NaN</td>\n",
       "      <td>NaN</td>\n",
       "      <td>NaN</td>\n",
       "      <td>NaN</td>\n",
       "    </tr>\n",
       "    <tr>\n",
       "      <th>51456</th>\n",
       "      <td>804770</td>\n",
       "      <td>2015-16</td>\n",
       "      <td>Ignacio School District No. 11Jt</td>\n",
       "      <td>COLORADO</td>\n",
       "      <td>4</td>\n",
       "      <td>0</td>\n",
       "      <td>2</td>\n",
       "      <td>0</td>\n",
       "      <td>4</td>\n",
       "      <td>0</td>\n",
       "      <td>...</td>\n",
       "      <td>0</td>\n",
       "      <td>4</td>\n",
       "      <td>NaN</td>\n",
       "      <td>NaN</td>\n",
       "      <td>NaN</td>\n",
       "      <td>NaN</td>\n",
       "      <td>NaN</td>\n",
       "      <td>NaN</td>\n",
       "      <td>NaN</td>\n",
       "      <td>NaN</td>\n",
       "    </tr>\n",
       "    <tr>\n",
       "      <th>51457</th>\n",
       "      <td>804800</td>\n",
       "      <td>2015-16</td>\n",
       "      <td>Jefferson County School District No. R-1</td>\n",
       "      <td>COLORADO</td>\n",
       "      <td>228</td>\n",
       "      <td>0</td>\n",
       "      <td>54</td>\n",
       "      <td>2</td>\n",
       "      <td>120.6</td>\n",
       "      <td>0</td>\n",
       "      <td>...</td>\n",
       "      <td>30</td>\n",
       "      <td>101</td>\n",
       "      <td>NaN</td>\n",
       "      <td>NaN</td>\n",
       "      <td>NaN</td>\n",
       "      <td>NaN</td>\n",
       "      <td>NaN</td>\n",
       "      <td>NaN</td>\n",
       "      <td>NaN</td>\n",
       "      <td>NaN</td>\n",
       "    </tr>\n",
       "  </tbody>\n",
       "</table>\n",
       "<p>22732 rows × 213 columns</p>\n",
       "</div>"
      ],
      "text/plain": [
       "                                                 LEAID     YEAR  \\\n",
       "description 7 Digit LEAID District Identification Code      NaN   \n",
       "69                                              100040  2011-12   \n",
       "97                                              100179  2011-12   \n",
       "115                                             100189  2015-16   \n",
       "119                                             100194  2015-16   \n",
       "120                                             100195  2015-16   \n",
       "...                                                ...      ...   \n",
       "51453                                           804680  2015-16   \n",
       "51454                                           804710  2015-16   \n",
       "51455                                           804740  2015-16   \n",
       "51456                                           804770  2015-16   \n",
       "51457                                           804800  2015-16   \n",
       "\n",
       "                                             LEA_NAME      LEA_STATE_NAME  \\\n",
       "description                             District Name District State Name   \n",
       "69                          Brantwood Children'S Home             ALABAMA   \n",
       "97                                      The Bridge Ii             ALABAMA   \n",
       "115                                      Satsuma City             ALABAMA   \n",
       "119                                       Pelham City             ALABAMA   \n",
       "120                                         Pike Road             ALABAMA   \n",
       "...                                               ...                 ...   \n",
       "51453                  Holly School District No. Re-3            COLORADO   \n",
       "51454               Holyoke School District No. Re-1J            COLORADO   \n",
       "51455            Genoa-Hugo School District No. C-113            COLORADO   \n",
       "51456                Ignacio School District No. 11Jt            COLORADO   \n",
       "51457        Jefferson County School District No. R-1            COLORADO   \n",
       "\n",
       "                                                                                  SCH_DISCWODIS_MULTOOS_HI_M  \\\n",
       "description Students without disabilities who received more than one out-of-school suspension: Hispanic Male   \n",
       "69                                                           0                                                 \n",
       "97                                                           0                                                 \n",
       "115                                                          0                                                 \n",
       "119                                                          6                                                 \n",
       "120                                                          2                                                 \n",
       "...                                                        ...                                                 \n",
       "51453                                                        0                                                 \n",
       "51454                                                        2                                                 \n",
       "51455                                                        0                                                 \n",
       "51456                                                        4                                                 \n",
       "51457                                                      228                                                 \n",
       "\n",
       "                                                                                     SCH_DISCWDIS_ARR_IDEA_AM_M  \\\n",
       "description Students with disabilities who received a school-related arrest: American Indian/Alaska Native Male   \n",
       "69                                                           0                                                    \n",
       "97                                                           0                                                    \n",
       "115                                                          0                                                    \n",
       "119                                                          0                                                    \n",
       "120                                                          0                                                    \n",
       "...                                                        ...                                                    \n",
       "51453                                                        0                                                    \n",
       "51454                                                        0                                                    \n",
       "51455                                                        0                                                    \n",
       "51456                                                        0                                                    \n",
       "51457                                                        0                                                    \n",
       "\n",
       "                                               SCH_GTENR_IDEA_F  \\\n",
       "description Gifted and Talented Student Enrollment: IDEA Female   \n",
       "69                                                           0    \n",
       "97                                                           0    \n",
       "115                                                          2    \n",
       "119                                                          0    \n",
       "120                                                          0    \n",
       "...                                                        ...    \n",
       "51453                                                        0    \n",
       "51454                                                        0    \n",
       "51455                                                        0    \n",
       "51456                                                        2    \n",
       "51457                                                       54    \n",
       "\n",
       "                                                                                                       SCH_DISCWODIS_SINGOOS_HP_F  \\\n",
       "description Students without disabilities who received only one out-of-school suspension: Native Hawaiian/Pacific Islander Female   \n",
       "69                                                           0                                                                      \n",
       "97                                                           0                                                                      \n",
       "115                                                          0                                                                      \n",
       "119                                                          0                                                                      \n",
       "120                                                          0                                                                      \n",
       "...                                                        ...                                                                      \n",
       "51453                                                        0                                                                      \n",
       "51454                                                        0                                                                      \n",
       "51455                                                        0                                                                      \n",
       "51456                                                        0                                                                      \n",
       "51457                                                        2                                                                      \n",
       "\n",
       "                                             SCH_FTECOUNSELORS  \\\n",
       "description School Counselors: Number of FTE school counselors   \n",
       "69                                                           0   \n",
       "97                                                           0   \n",
       "115                                                        2.5   \n",
       "119                                                          7   \n",
       "120                                                          1   \n",
       "...                                                        ...   \n",
       "51453                                                        0   \n",
       "51454                                                        2   \n",
       "51455                                                        0   \n",
       "51456                                                        4   \n",
       "51457                                                    120.6   \n",
       "\n",
       "                                                                    SCH_DISCWODIS_ARR_WH_M  \\\n",
       "description Students without disabilities who received a school-related arrest: White Male   \n",
       "69                                                           0                               \n",
       "97                                                           0                               \n",
       "115                                                          0                               \n",
       "119                                                          0                               \n",
       "120                                                          0                               \n",
       "...                                                        ...                               \n",
       "51453                                                        0                               \n",
       "51454                                                        0                               \n",
       "51455                                                        0                               \n",
       "51456                                                        0                               \n",
       "51457                                                        0                               \n",
       "\n",
       "             ...  \\\n",
       "description  ...   \n",
       "69           ...   \n",
       "97           ...   \n",
       "115          ...   \n",
       "119          ...   \n",
       "120          ...   \n",
       "...          ...   \n",
       "51453        ...   \n",
       "51454        ...   \n",
       "51455        ...   \n",
       "51456        ...   \n",
       "51457        ...   \n",
       "\n",
       "                                                                                                  TOT_DISCWDIS_REF_IDEA_F  \\\n",
       "description Students with disabilities who were referred to a law enforcement agency or official: Calculated Female Total   \n",
       "69                                                           0                                                              \n",
       "97                                                           0                                                              \n",
       "115                                                          0                                                              \n",
       "119                                                          0                                                              \n",
       "120                                                          0                                                              \n",
       "...                                                        ...                                                              \n",
       "51453                                                        0                                                              \n",
       "51454                                                        0                                                              \n",
       "51455                                                        0                                                              \n",
       "51456                                                        0                                                              \n",
       "51457                                                       30                                                              \n",
       "\n",
       "                                                                           SCH_DISCWDIS_MULTOOS_IDEA_HI_M  \\\n",
       "description Students with disabilities who received more than one out-of-school suspension: Hispanic Male   \n",
       "69                                                           0                                              \n",
       "97                                                           0                                              \n",
       "115                                                          0                                              \n",
       "119                                                          0                                              \n",
       "120                                                          0                                              \n",
       "...                                                        ...                                              \n",
       "51453                                                        0                                              \n",
       "51454                                                        0                                              \n",
       "51455                                                        0                                              \n",
       "51456                                                        4                                              \n",
       "51457                                                      101                                              \n",
       "\n",
       "            LEA_ADDRESS LEA_CITY LEA_ZIP  CJJ LEA_ENR LEA_SCHOOLS Latitude  \\\n",
       "description         NaN      NaN     NaN  NaN     NaN         NaN      NaN   \n",
       "69                  NaN      NaN     NaN  NaN     NaN         NaN      NaN   \n",
       "97                  NaN      NaN     NaN  NaN     NaN         NaN      NaN   \n",
       "115                 NaN      NaN     NaN  NaN     NaN         NaN      NaN   \n",
       "119                 NaN      NaN     NaN  NaN     NaN         NaN      NaN   \n",
       "120                 NaN      NaN     NaN  NaN     NaN         NaN      NaN   \n",
       "...                 ...      ...     ...  ...     ...         ...      ...   \n",
       "51453               NaN      NaN     NaN  NaN     NaN         NaN      NaN   \n",
       "51454               NaN      NaN     NaN  NaN     NaN         NaN      NaN   \n",
       "51455               NaN      NaN     NaN  NaN     NaN         NaN      NaN   \n",
       "51456               NaN      NaN     NaN  NaN     NaN         NaN      NaN   \n",
       "51457               NaN      NaN     NaN  NaN     NaN         NaN      NaN   \n",
       "\n",
       "            Longitude  \n",
       "description       NaN  \n",
       "69                NaN  \n",
       "97                NaN  \n",
       "115               NaN  \n",
       "119               NaN  \n",
       "120               NaN  \n",
       "...               ...  \n",
       "51453             NaN  \n",
       "51454             NaN  \n",
       "51455             NaN  \n",
       "51456             NaN  \n",
       "51457             NaN  \n",
       "\n",
       "[22732 rows x 213 columns]"
      ]
     },
     "execution_count": 401,
     "metadata": {},
     "output_type": "execute_result"
    }
   ],
   "source": [
    "district_merge[district_merge['Latitude', None].isna()]"
   ]
  },
  {
   "cell_type": "code",
   "execution_count": 398,
   "metadata": {},
   "outputs": [
    {
     "data": {
      "text/plain": [
       "28726"
      ]
     },
     "execution_count": 398,
     "metadata": {},
     "output_type": "execute_result"
    }
   ],
   "source": [
    "len(sample)"
   ]
  },
  {
   "cell_type": "code",
   "execution_count": 342,
   "metadata": {},
   "outputs": [],
   "source": [
    "district_merge.to_csv('~/Desktop/discriminology/output/district_level_aggregates.csv')"
   ]
  },
  {
   "cell_type": "markdown",
   "metadata": {},
   "source": [
    "### Code Sandbox - everything below only needs to be run once"
   ]
  },
  {
   "cell_type": "code",
   "execution_count": null,
   "metadata": {
    "scrolled": true
   },
   "outputs": [],
   "source": [
    "# descriptions = pd.concat(desc_frames_1112, axis=0)\n",
    "# descriptions.drop_duplicates(inplace=True)\n",
    "# descriptions.set_index('Field Name', inplace=True)\n",
    "# descriptions = descriptions.loc[fields_1112]\n",
    "# descriptions.columns = ['2011_12_description']\n",
    "# descriptions.reset_index().to_csv('/Users/cave/Desktop/2011_12_field_descriptions.csv')\n",
    "\n",
    "# descriptions = pd.concat(desc_frames_1314, axis=0)\n",
    "# descriptions.drop_duplicates(inplace=True)\n",
    "# descriptions.set_index('Field Name', inplace=True)\n",
    "# descriptions = descriptions.loc[fields_1314]\n",
    "# descriptions.columns = ['2013_14_description']\n",
    "# descriptions.reset_index().to_csv('/Users/cave/Desktop/2013_14_field_descriptions.csv')"
   ]
  }
 ],
 "metadata": {
  "kernelspec": {
   "display_name": "Python 3",
   "language": "python",
   "name": "python3"
  },
  "language_info": {
   "codemirror_mode": {
    "name": "ipython",
    "version": 3
   },
   "file_extension": ".py",
   "mimetype": "text/x-python",
   "name": "python",
   "nbconvert_exporter": "python",
   "pygments_lexer": "ipython3",
   "version": "3.7.0"
  }
 },
 "nbformat": 4,
 "nbformat_minor": 2
}
