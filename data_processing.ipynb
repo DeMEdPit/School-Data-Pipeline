{
 "cells": [
  {
   "cell_type": "code",
   "execution_count": 1,
   "metadata": {},
   "outputs": [],
   "source": [
    "import pandas as pd"
   ]
  },
  {
   "cell_type": "markdown",
   "metadata": {},
   "source": [
    "### Extract methodology fields for each year"
   ]
  },
  {
   "cell_type": "code",
   "execution_count": 2,
   "metadata": {},
   "outputs": [],
   "source": [
    "mf = pd.read_excel('/Users/cave/Desktop/discriminology/methodology_fields.xlsx')"
   ]
  },
  {
   "cell_type": "code",
   "execution_count": 3,
   "metadata": {},
   "outputs": [],
   "source": [
    "fields_1112 = mf['Field_Name 2011/12'].str.replace('\\n', ',').str.split(',').apply(pd.Series).stack().reset_index(drop=True).values\n",
    "fields_1314 = mf['Field_Name 2013/14'].str.replace('\\n', ',').str.split(',').apply(pd.Series).stack().reset_index(drop=True).values\n",
    "fields_1516 = mf['Field_Name 2015/16'].str.replace('\\n', ',').str.split(',').apply(pd.Series).stack().reset_index(drop=True).values\n"
   ]
  },
  {
   "cell_type": "markdown",
   "metadata": {},
   "source": [
    "### Create helper functions to aggregate dataframes and label coded columns"
   ]
  },
  {
   "cell_type": "code",
   "execution_count": null,
   "metadata": {},
   "outputs": [],
   "source": [
    "def aggregate_data(frame_array, desired_fields):\n",
    "\n",
    "    clean_frames = []\n",
    "\n",
    "    for df in frame_array:\n",
    "        # subset dataframe to desired columns\n",
    "        temp = df[list(set(df.columns[df.columns.isin(desired_fields)]))]\n",
    "        num = temp._get_numeric_data()\n",
    "        num[num < 0] = 0 # replace negative numbers with 0\n",
    "        temp = temp.replace('<=', '')\n",
    "        temp['COMBOKEY'] = temp['COMBOKEY'].astype(str)\n",
    "        temp.set_index('COMBOKEY', inplace=True)\n",
    "        clean_frames.append(temp)\n",
    "\n",
    "\n",
    "    concat = pd.concat(clean_frames, axis=1, sort=True)\n",
    "    flipped = concat.T.drop_duplicates()\n",
    "    grouped = flipped.groupby(lambda x: x).agg({c: 'last' for c in flipped.columns})\n",
    "    return grouped.T"
   ]
  },
  {
   "cell_type": "code",
   "execution_count": 206,
   "metadata": {},
   "outputs": [],
   "source": [
    "def join_col_descriptions(frames, agg_data, fields, year):\n",
    "    '''\n",
    "    INPUTS\n",
    "    \n",
    "    frames (list of DataFrames): Array of dataframes with field codes and descriptions\n",
    "    agg_data (DataFrame): Aggregated data with coded fields as columns\n",
    "    year (STR): year range of data e.g. '2015-16'\n",
    "    \n",
    "    '''\n",
    "    descriptions = pd.concat(frames, axis=0)\n",
    "    descriptions.drop_duplicates(inplace=True)\n",
    "    descriptions.set_index('Field Name', inplace=True)\n",
    "    descriptions = descriptions.loc[fields]\n",
    "    descriptions.columns = ['description']\n",
    "    final = pd.merge(agg_data.T, descriptions, left_index=True, right_index=True, how='left').set_index('description', append=True).T\n",
    "    final['YEAR','School Year'] = year\n",
    "    final.to_csv(f'~/Desktop/discriminology/output/final_data_{year}.csv')\n",
    "    return final\n",
    "    "
   ]
  },
  {
   "cell_type": "markdown",
   "metadata": {},
   "source": [
    "### Load all data + col description files for 2011-12"
   ]
  },
  {
   "cell_type": "code",
   "execution_count": 4,
   "metadata": {
    "scrolled": true
   },
   "outputs": [],
   "source": [
    "## Reads originals from excel\n",
    "\n",
    "# df1_1112, df1_desc_1112 = pd.read_excel('~/Desktop/discriminology/OCR School data sample/2011:12/Enrollment/05 - Overall Enrollment.xlsx', sheet_name=None).values()\n",
    "# df2_1112, df2_desc_1112 = pd.read_excel('~/Desktop/discriminology/OCR School data sample/2011:12/Enrollment/08 - Students enrolled in Gifted-Talented Programs.xlsx', sheet_name=None).values()\n",
    "# df3_1112, df3_desc_1112 = pd.read_excel('~/Desktop/discriminology/OCR School data sample/2011:12/Enrollment/10-1 - Students with Disabilities Served under IDEA Enrollment.xlsx', sheet_name=None).values()\n",
    "# df4_1112, df4_desc_1112 = pd.read_excel('~/Desktop/discriminology/OCR School data sample/2011:12/Enrollment/10-2 - Students with Disabilities Served under 504 Enrollment.xlsx', sheet_name=None).values()\n",
    "# df5_1112, df5_desc_1112 = pd.read_excel('~/Desktop/discriminology/OCR School data sample/2011:12/Discipline/Out of School Suspensions/W:O Disabilities/35-3 - Students WO Disab Receiving only one out-of-school suspension.xlsx', sheet_name=None).values()\n",
    "# df6_1112, df6_desc_1112 = pd.read_excel('~/Desktop/discriminology/OCR School data sample/2011:12/Discipline/Out of School Suspensions/W:O Disabilities/35-4 - Students WO Disab Rec more than one out-of-school suspension.xlsx', sheet_name=None).values()\n",
    "# df7_1112, df7_desc_1112 = pd.read_excel('~/Desktop/discriminology/OCR School data sample/2011:12/Discipline/Out of School Suspensions/With Disabilities/36-3 - Students With Disabilities Receiving only one out-of-school suspension.xlsx', sheet_name=None).values()\n",
    "# df8_1112, df8_desc_1112 = pd.read_excel('~/Desktop/discriminology/OCR School data sample/2011:12/Discipline/Out of School Suspensions/With Disabilities/36-4 - Students With Disab Receiving more than one out-of-school suspension.xlsx', sheet_name=None).values()\n",
    "# df9_1112, df9_desc_1112 = pd.read_excel('~/Desktop/discriminology/OCR School data sample/2011:12/Academic/Advanced Placement/17 - Students who are taking at least one AP course.xlsx', sheet_name=None).values()\n",
    "# df10_1112, df10_desc_1112 = pd.read_excel('~/Desktop/discriminology/OCR School data sample/2011:12/Discipline/Referral to law enforcement/W:O Disabilities/35-8 - Students Without Disabilities Referral to law enforcement.xlsx', sheet_name=None).values()\n",
    "# df11_1112, df11_desc_1112 = pd.read_excel('~/Desktop/discriminology/OCR School data sample/2011:12/Discipline/Referral to law enforcement/With Disabilities/36-8 - Students With Disabilities Referral to law enforcement.xlsx', sheet_name=None).values()\n",
    "# df12_1112, df12_desc_1112 = pd.read_excel('~/Desktop/discriminology/OCR School data sample/2011:12/Discipline/School Related Arrest/W:O Disabilities/35-9 - Students Without Disabilities School-related arrest.xlsx', sheet_name=None).values()\n",
    "# df13_1112, df13_desc_1112 = pd.read_excel('~/Desktop/discriminology/OCR School data sample/2011:12/Discipline/School Related Arrest/With Disabilities/36-9 - Students With Disabilities School-related arrest.xlsx', sheet_name=None).values()\n",
    "# df14_1112, df14_desc_1112 = pd.read_excel('~/Desktop/discriminology/OCR School data sample/2011:12/School Characteristics/02 - School Characteristics.xlsx', sheet_name=None).values()\n",
    "# df15_1112, df15_desc_1112 = pd.read_excel('~/Desktop/discriminology/OCR School data sample/2011:12/Staff/08-1 School Support and Security Staff (required elements).xlsx', sheet_name=None).values()\n",
    "# df16_1112, df16_desc_1112 = pd.read_excel('~/Desktop/discriminology/OCR School data sample/2011:12/Enrollment/06 - Enrolled in Early Childhood and Prekindergarten.xlsx', sheet_name=None).values()"
   ]
  },
  {
   "cell_type": "code",
   "execution_count": 13,
   "metadata": {},
   "outputs": [],
   "source": [
    "# ctr = 0\n",
    "# for frame in desc_frames_1112:\n",
    "#     frame.to_csv(f'/Users/cave/Desktop/discriminology/2011_12/descriptions/file_{ctr}.csv')\n",
    "#     ctr += 1\n"
   ]
  },
  {
   "cell_type": "markdown",
   "metadata": {},
   "source": [
    "Collect data and description frames into arrays:"
   ]
  },
  {
   "cell_type": "code",
   "execution_count": 123,
   "metadata": {
    "scrolled": true
   },
   "outputs": [
    {
     "name": "stderr",
     "output_type": "stream",
     "text": [
      "/Users/cave/miniconda3/lib/python3.7/site-packages/IPython/core/interactiveshell.py:3058: DtypeWarning: Columns (8,9,10,11,12,13,14,17,18,19,20,21,22,23,24,25,28,29) have mixed types. Specify dtype option on import or set low_memory=False.\n",
      "  interactivity=interactivity, compiler=compiler, result=result)\n"
     ]
    }
   ],
   "source": [
    "df1_1112 = pd.read_csv('~/Desktop/discriminology/2011_12/data/file_1.csv')\n",
    "df2_1112 = pd.read_csv('~/Desktop/discriminology/2011_12/data/file_2.csv')\n",
    "df3_1112 = pd.read_csv('~/Desktop/discriminology/2011_12/data/file_3.csv')\n",
    "df4_1112 = pd.read_csv('~/Desktop/discriminology/2011_12/data/file_4.csv')\n",
    "df5_1112 = pd.read_csv('~/Desktop/discriminology/2011_12/data/file_5.csv')\n",
    "df6_1112 = pd.read_csv('~/Desktop/discriminology/2011_12/data/file_6.csv')\n",
    "df7_1112 = pd.read_csv('~/Desktop/discriminology/2011_12/data/file_7.csv')\n",
    "df8_1112 = pd.read_csv('~/Desktop/discriminology/2011_12/data/file_8.csv')\n",
    "df9_1112 = pd.read_csv('~/Desktop/discriminology/2011_12/data/file_9.csv')\n",
    "df10_1112 = pd.read_csv('~/Desktop/discriminology/2011_12/data/file_10.csv')\n",
    "df11_1112 = pd.read_csv('~/Desktop/discriminology/2011_12/data/file_11.csv')\n",
    "df12_1112 = pd.read_csv('~/Desktop/discriminology/2011_12/data/file_12.csv')\n",
    "df13_1112 = pd.read_csv('~/Desktop/discriminology/2011_12/data/file_13.csv')\n",
    "df14_1112 = pd.read_csv('~/Desktop/discriminology/2011_12/data/file_14.csv')\n",
    "df15_1112 = pd.read_csv('~/Desktop/discriminology/2011_12/data/file_15.csv')\n",
    "df16_1112 = pd.read_csv('~/Desktop/discriminology/2011_12/data/file_0.csv')"
   ]
  },
  {
   "cell_type": "code",
   "execution_count": 124,
   "metadata": {},
   "outputs": [],
   "source": [
    "\n",
    "frames_1112 = [df1_1112, df2_1112, df3_1112, df4_1112, df5_1112, df6_1112,\n",
    "               df7_1112, df8_1112, df9_1112, df10_1112, df11_1112, df12_1112,\n",
    "               df13_1112, df14_1112, df15_1112, df16_1112]\n",
    "\n",
    "\n",
    "\n",
    "desc_frames_1112 = [df1_desc_1112, df2_desc_1112, df3_desc_1112, df4_desc_1112,\n",
    "                    df5_desc_1112, df6_desc_1112, df7_desc_1112, df8_desc_1112,\n",
    "                    df9_desc_1112, df10_desc_1112, df11_desc_1112, df12_desc_1112,\n",
    "                    df13_desc_1112, df14_desc_1112, df15_desc_1112, df16_desc_1112]\n"
   ]
  },
  {
   "cell_type": "markdown",
   "metadata": {},
   "source": [
    "Pull field definitions from second tabs of all spreadsheets, collect into a single spreadsheet for each year."
   ]
  },
  {
   "cell_type": "code",
   "execution_count": 183,
   "metadata": {},
   "outputs": [],
   "source": [
    "df_1112 = aggregate_data(frames_1112, fields_1112)"
   ]
  },
  {
   "cell_type": "code",
   "execution_count": 185,
   "metadata": {},
   "outputs": [
    {
     "data": {
      "text/plain": [
       "(101133, 220)"
      ]
     },
     "execution_count": 185,
     "metadata": {},
     "output_type": "execute_result"
    }
   ],
   "source": [
    "df_1112.shape"
   ]
  },
  {
   "cell_type": "code",
   "execution_count": null,
   "metadata": {
    "scrolled": true
   },
   "outputs": [],
   "source": [
    "# descriptions = pd.concat(desc_frames_1112, axis=0)\n",
    "# descriptions.drop_duplicates(inplace=True)\n",
    "# descriptions.set_index('Field Name', inplace=True)\n",
    "# descriptions = descriptions.loc[fields_1112]\n",
    "# descriptions.columns = ['2011_12_description']\n",
    "# descriptions.reset_index().to_csv('/Users/cave/Desktop/2011_12_field_descriptions.csv')\n",
    "\n",
    "# descriptions = pd.concat(desc_frames_1314, axis=0)\n",
    "# descriptions.drop_duplicates(inplace=True)\n",
    "# descriptions.set_index('Field Name', inplace=True)\n",
    "# descriptions = descriptions.loc[fields_1314]\n",
    "# descriptions.columns = ['2013_14_description']\n",
    "# descriptions.reset_index().to_csv('/Users/cave/Desktop/2013_14_field_descriptions.csv')"
   ]
  },
  {
   "cell_type": "markdown",
   "metadata": {},
   "source": [
    "Use helper function to aggregate frames and clean up negative values."
   ]
  },
  {
   "cell_type": "code",
   "execution_count": 212,
   "metadata": {},
   "outputs": [],
   "source": [
    "# df_1112 = aggregate_data(frames_1112, fields_1112)\n",
    "df_1112_final = join_col_descriptions(desc_frames_1112, df_1112, fields_1112, '2011-12')"
   ]
  },
  {
   "cell_type": "code",
   "execution_count": 214,
   "metadata": {},
   "outputs": [],
   "source": [
    "missing_fields = pd.Series(fields_1112)[~pd.Series(fields_1112).isin(df_1112.columns)].values\n",
    "assert missing_fields ==  'COMBOKEY'"
   ]
  },
  {
   "cell_type": "markdown",
   "metadata": {},
   "source": [
    "### Load all data + col description files for 2013-14"
   ]
  },
  {
   "cell_type": "markdown",
   "metadata": {},
   "source": [
    "Collect column name descriptions from each spreadsheet"
   ]
  },
  {
   "cell_type": "code",
   "execution_count": 188,
   "metadata": {},
   "outputs": [],
   "source": [
    "# # Read originals from excel\n",
    "\n",
    "# df1_1314, df1_desc_1314 = pd.read_excel('~/Desktop/discriminology/OCR School data sample/2013:14/CRDC-collected data file for Schools/01 School Characteristics.xlsx', sheet_name=None).values()\n",
    "# df2_1314, df2_desc_1314 = pd.read_excel('~/Desktop/discriminology/OCR School data sample/2013:14/CRDC-collected data file for Schools/03 Enrollment.xlsx', sheet_name=None).values()\n",
    "# df3_1314, df3_desc_1314 = pd.read_excel('~/Desktop/discriminology/OCR School data sample/2013:14/CRDC-collected data file for Schools/04-1 Gifted and Talented Enrollment.xlsx', sheet_name=None).values()\n",
    "# df4_1314, df4_desc_1314 = pd.read_excel('~/Desktop/discriminology/OCR School data sample/2013:14/CRDC-collected data file for Schools/06 Advanced Placement and International Baccalaureate Diploma Programme Enrollment.xlsx', sheet_name=None).values()\n",
    "# df5_1314, df5_desc_1314 = pd.read_excel('~/Desktop/discriminology/OCR School data sample/2013:14/CRDC-collected data file for Schools/07-2 Advanced Placement Exams.xlsx', sheet_name=None).values()\n",
    "# df6_1314, df6_desc_1314 = pd.read_excel('~/Desktop/discriminology/OCR School data sample/2013:14/CRDC-collected data file for Schools/08-1 School Support and Security Staff (required elements).xlsx', sheet_name=None).values()\n",
    "# df7_1314, df7_desc_1314 = pd.read_excel('~/Desktop/discriminology/OCR School data sample/2013:14/CRDC-collected data file for Schools/09-1 Chronic Absenteeism.xlsx', sheet_name=None).values()\n",
    "# df8_1314, df8_desc_1314 = pd.read_excel('~/Desktop/discriminology/OCR School data sample/2013:14/CRDC-collected data file for Schools/11-2 Suspensions (required elements).xlsx', sheet_name=None).values()\n",
    "# df9_1314, df9_desc_1314 = pd.read_excel('~/Desktop/discriminology/OCR School data sample/2013:14/CRDC-collected data file for Schools/11-3 Expulsions.xlsx', sheet_name=None).values()\n",
    "# df10_1314, df10_desc_1314 = pd.read_excel('~/Desktop/discriminology/OCR School data sample/2013:14/CRDC-collected data file for Schools/12 Student Referrals and Arrests.xlsx', sheet_name=None).values()\n",
    "# df11_1314, df11_desc_1314 = pd.read_excel('~/Desktop/discriminology/OCR School data sample/2013:14/CRDC-collected data file for Schools/16 School Expenditures.xlsx', sheet_name=None).values()\n",
    "# df12_1314, df12_desc_1314 = pd.read_excel('~/Desktop/discriminology/OCR School data sample/2013:14/CRDC-collected data file for Schools/17 Justice Facilities.xlsx', sheet_name=None).values()"
   ]
  },
  {
   "cell_type": "code",
   "execution_count": 189,
   "metadata": {},
   "outputs": [],
   "source": [
    "frames_1314 = [df1_1314, df2_1314, df3_1314, df4_1314, df5_1314,\n",
    "               df6_1314, df7_1314, df8_1314, df9_1314, df10_1314,\n",
    "               df11_1314, df12_1314]\n",
    "\n",
    "desc_frames_1314 = [df1_desc_1314, df2_desc_1314, df3_desc_1314,\n",
    "                    df4_desc_1314, df5_desc_1314, df6_desc_1314,\n",
    "                    df7_desc_1314, df8_desc_1314, df9_desc_1314,\n",
    "                    df10_desc_1314, df11_desc_1314, df12_desc_1314]\n"
   ]
  },
  {
   "cell_type": "code",
   "execution_count": 191,
   "metadata": {},
   "outputs": [],
   "source": [
    "# ctr = 0\n",
    "# for frame in desc_frames_1314:\n",
    "#     frame.to_csv(f'~/Desktop/discriminology/2013_14/descriptions/file_{ctr}.csv')\n",
    "#     ctr += 1\n",
    "\n",
    "\n",
    "# ctr = 0\n",
    "# for frame in frames_1314:\n",
    "#     frame.to_csv(f'~/Desktop/discriminology/2013_14/data/file_{ctr}.csv')\n",
    "#     ctr += 1\n"
   ]
  },
  {
   "cell_type": "code",
   "execution_count": 193,
   "metadata": {},
   "outputs": [],
   "source": [
    "df1_1314 = pd.read_csv('~/Desktop/discriminology/2013_14/data/file_1.csv')\n",
    "df2_1314 = pd.read_csv('~/Desktop/discriminology/2013_14/data/file_2.csv')\n",
    "df3_1314 = pd.read_csv('~/Desktop/discriminology/2013_14/data/file_3.csv')\n",
    "df4_1314 = pd.read_csv('~/Desktop/discriminology/2013_14/data/file_4.csv')\n",
    "df5_1314 = pd.read_csv('~/Desktop/discriminology/2013_14/data/file_5.csv')\n",
    "df6_1314 = pd.read_csv('~/Desktop/discriminology/2013_14/data/file_6.csv')\n",
    "df7_1314 = pd.read_csv('~/Desktop/discriminology/2013_14/data/file_7.csv')\n",
    "df8_1314 = pd.read_csv('~/Desktop/discriminology/2013_14/data/file_8.csv')\n",
    "df9_1314 = pd.read_csv('~/Desktop/discriminology/2013_14/data/file_9.csv')\n",
    "df10_1314 = pd.read_csv('~/Desktop/discriminology/2013_14/data/file_10.csv')\n",
    "df11_1314 = pd.read_csv('~/Desktop/discriminology/2013_14/data/file_11.csv')\n",
    "df12_1314 = pd.read_csv('~/Desktop/discriminology/2013_14/data/file_0.csv')"
   ]
  },
  {
   "cell_type": "code",
   "execution_count": 194,
   "metadata": {},
   "outputs": [],
   "source": [
    "df_1314 = aggregate_data(frames_1314, fields_1314)"
   ]
  },
  {
   "cell_type": "code",
   "execution_count": 195,
   "metadata": {},
   "outputs": [
    {
     "data": {
      "text/html": [
       "<div>\n",
       "<style scoped>\n",
       "    .dataframe tbody tr th:only-of-type {\n",
       "        vertical-align: middle;\n",
       "    }\n",
       "\n",
       "    .dataframe tbody tr th {\n",
       "        vertical-align: top;\n",
       "    }\n",
       "\n",
       "    .dataframe thead th {\n",
       "        text-align: right;\n",
       "    }\n",
       "</style>\n",
       "<table border=\"1\" class=\"dataframe\">\n",
       "  <thead>\n",
       "    <tr style=\"text-align: right;\">\n",
       "      <th></th>\n",
       "      <th>JJ</th>\n",
       "      <th>LEAID</th>\n",
       "      <th>LEA_NAME</th>\n",
       "      <th>LEA_STATE</th>\n",
       "      <th>SCHID</th>\n",
       "      <th>SCH_APENR_AM_F</th>\n",
       "      <th>SCH_APENR_AM_M</th>\n",
       "      <th>SCH_APENR_AS_F</th>\n",
       "      <th>SCH_APENR_AS_M</th>\n",
       "      <th>SCH_APENR_BL_F</th>\n",
       "      <th>...</th>\n",
       "      <th>TOT_DISCWODIS_REF_F</th>\n",
       "      <th>TOT_DISCWODIS_REF_M</th>\n",
       "      <th>TOT_DISCWODIS_SINGOOS_F</th>\n",
       "      <th>TOT_DISCWODIS_SINGOOS_M</th>\n",
       "      <th>TOT_ENR_F</th>\n",
       "      <th>TOT_ENR_M</th>\n",
       "      <th>TOT_GTENR_F</th>\n",
       "      <th>TOT_GTENR_M</th>\n",
       "      <th>TOT_IDEAENR_F</th>\n",
       "      <th>TOT_IDEAENR_M</th>\n",
       "    </tr>\n",
       "  </thead>\n",
       "  <tbody>\n",
       "    <tr>\n",
       "      <th>010000201705</th>\n",
       "      <td>Yes</td>\n",
       "      <td>0100002</td>\n",
       "      <td>ALABAMA YOUTH SERVICES</td>\n",
       "      <td>AL</td>\n",
       "      <td>1705</td>\n",
       "      <td>0</td>\n",
       "      <td>0</td>\n",
       "      <td>0</td>\n",
       "      <td>0</td>\n",
       "      <td>0</td>\n",
       "      <td>...</td>\n",
       "      <td>0</td>\n",
       "      <td>0</td>\n",
       "      <td>0</td>\n",
       "      <td>0</td>\n",
       "      <td>0</td>\n",
       "      <td>1798</td>\n",
       "      <td>0</td>\n",
       "      <td>0</td>\n",
       "      <td>0</td>\n",
       "      <td>0</td>\n",
       "    </tr>\n",
       "    <tr>\n",
       "      <th>010000201706</th>\n",
       "      <td>Yes</td>\n",
       "      <td>0100002</td>\n",
       "      <td>ALABAMA YOUTH SERVICES</td>\n",
       "      <td>AL</td>\n",
       "      <td>1706</td>\n",
       "      <td>0</td>\n",
       "      <td>0</td>\n",
       "      <td>0</td>\n",
       "      <td>0</td>\n",
       "      <td>0</td>\n",
       "      <td>...</td>\n",
       "      <td>0</td>\n",
       "      <td>0</td>\n",
       "      <td>0</td>\n",
       "      <td>0</td>\n",
       "      <td>0</td>\n",
       "      <td>994</td>\n",
       "      <td>0</td>\n",
       "      <td>0</td>\n",
       "      <td>0</td>\n",
       "      <td>38</td>\n",
       "    </tr>\n",
       "    <tr>\n",
       "      <th>010000299995</th>\n",
       "      <td>Yes</td>\n",
       "      <td>0100002</td>\n",
       "      <td>ALA YOUTH SER</td>\n",
       "      <td>AL</td>\n",
       "      <td>99995</td>\n",
       "      <td>0</td>\n",
       "      <td>0</td>\n",
       "      <td>0</td>\n",
       "      <td>0</td>\n",
       "      <td>0</td>\n",
       "      <td>...</td>\n",
       "      <td>0</td>\n",
       "      <td>0</td>\n",
       "      <td>0</td>\n",
       "      <td>0</td>\n",
       "      <td>0</td>\n",
       "      <td>910</td>\n",
       "      <td>0</td>\n",
       "      <td>0</td>\n",
       "      <td>0</td>\n",
       "      <td>0</td>\n",
       "    </tr>\n",
       "    <tr>\n",
       "      <th>010000500870</th>\n",
       "      <td>No</td>\n",
       "      <td>0100005</td>\n",
       "      <td>ALBERTVILLE CITY</td>\n",
       "      <td>AL</td>\n",
       "      <td>870</td>\n",
       "      <td>0</td>\n",
       "      <td>0</td>\n",
       "      <td>0</td>\n",
       "      <td>0</td>\n",
       "      <td>0</td>\n",
       "      <td>...</td>\n",
       "      <td>0</td>\n",
       "      <td>0</td>\n",
       "      <td>2</td>\n",
       "      <td>13</td>\n",
       "      <td>328</td>\n",
       "      <td>307</td>\n",
       "      <td>0</td>\n",
       "      <td>0</td>\n",
       "      <td>36</td>\n",
       "      <td>63</td>\n",
       "    </tr>\n",
       "    <tr>\n",
       "      <th>010000500871</th>\n",
       "      <td>No</td>\n",
       "      <td>0100005</td>\n",
       "      <td>ALBERTVILLE CITY</td>\n",
       "      <td>AL</td>\n",
       "      <td>871</td>\n",
       "      <td>2</td>\n",
       "      <td>0</td>\n",
       "      <td>0</td>\n",
       "      <td>0</td>\n",
       "      <td>0</td>\n",
       "      <td>...</td>\n",
       "      <td>0</td>\n",
       "      <td>4</td>\n",
       "      <td>15</td>\n",
       "      <td>15</td>\n",
       "      <td>577</td>\n",
       "      <td>537</td>\n",
       "      <td>0</td>\n",
       "      <td>0</td>\n",
       "      <td>50</td>\n",
       "      <td>93</td>\n",
       "    </tr>\n",
       "  </tbody>\n",
       "</table>\n",
       "<p>5 rows × 218 columns</p>\n",
       "</div>"
      ],
      "text/plain": [
       "               JJ    LEAID                LEA_NAME LEA_STATE  SCHID  \\\n",
       "010000201705  Yes  0100002  ALABAMA YOUTH SERVICES        AL   1705   \n",
       "010000201706  Yes  0100002  ALABAMA YOUTH SERVICES        AL   1706   \n",
       "010000299995  Yes  0100002           ALA YOUTH SER        AL  99995   \n",
       "010000500870   No  0100005        ALBERTVILLE CITY        AL    870   \n",
       "010000500871   No  0100005        ALBERTVILLE CITY        AL    871   \n",
       "\n",
       "             SCH_APENR_AM_F SCH_APENR_AM_M SCH_APENR_AS_F SCH_APENR_AS_M  \\\n",
       "010000201705              0              0              0              0   \n",
       "010000201706              0              0              0              0   \n",
       "010000299995              0              0              0              0   \n",
       "010000500870              0              0              0              0   \n",
       "010000500871              2              0              0              0   \n",
       "\n",
       "             SCH_APENR_BL_F      ...      TOT_DISCWODIS_REF_F  \\\n",
       "010000201705              0      ...                        0   \n",
       "010000201706              0      ...                        0   \n",
       "010000299995              0      ...                        0   \n",
       "010000500870              0      ...                        0   \n",
       "010000500871              0      ...                        0   \n",
       "\n",
       "             TOT_DISCWODIS_REF_M TOT_DISCWODIS_SINGOOS_F  \\\n",
       "010000201705                   0                       0   \n",
       "010000201706                   0                       0   \n",
       "010000299995                   0                       0   \n",
       "010000500870                   0                       2   \n",
       "010000500871                   4                      15   \n",
       "\n",
       "             TOT_DISCWODIS_SINGOOS_M TOT_ENR_F TOT_ENR_M TOT_GTENR_F  \\\n",
       "010000201705                       0         0      1798           0   \n",
       "010000201706                       0         0       994           0   \n",
       "010000299995                       0         0       910           0   \n",
       "010000500870                      13       328       307           0   \n",
       "010000500871                      15       577       537           0   \n",
       "\n",
       "             TOT_GTENR_M TOT_IDEAENR_F TOT_IDEAENR_M  \n",
       "010000201705           0             0             0  \n",
       "010000201706           0             0            38  \n",
       "010000299995           0             0             0  \n",
       "010000500870           0            36            63  \n",
       "010000500871           0            50            93  \n",
       "\n",
       "[5 rows x 218 columns]"
      ]
     },
     "execution_count": 195,
     "metadata": {},
     "output_type": "execute_result"
    }
   ],
   "source": [
    "df_1314.head()"
   ]
  },
  {
   "cell_type": "code",
   "execution_count": 196,
   "metadata": {},
   "outputs": [
    {
     "data": {
      "text/plain": [
       "(95507, 218)"
      ]
     },
     "execution_count": 196,
     "metadata": {},
     "output_type": "execute_result"
    }
   ],
   "source": [
    "df_1314.shape"
   ]
  },
  {
   "cell_type": "code",
   "execution_count": 207,
   "metadata": {},
   "outputs": [],
   "source": [
    "df_1314_final = join_col_descriptions(desc_frames_1314, df_1314, fields_1314, '2013-14')"
   ]
  },
  {
   "cell_type": "code",
   "execution_count": 208,
   "metadata": {},
   "outputs": [
    {
     "data": {
      "text/html": [
       "<div>\n",
       "<style scoped>\n",
       "    .dataframe tbody tr th:only-of-type {\n",
       "        vertical-align: middle;\n",
       "    }\n",
       "\n",
       "    .dataframe tbody tr th {\n",
       "        vertical-align: top;\n",
       "    }\n",
       "\n",
       "    .dataframe thead tr th {\n",
       "        text-align: left;\n",
       "    }\n",
       "</style>\n",
       "<table border=\"1\" class=\"dataframe\">\n",
       "  <thead>\n",
       "    <tr>\n",
       "      <th></th>\n",
       "      <th>JJ</th>\n",
       "      <th>LEAID</th>\n",
       "      <th>LEA_NAME</th>\n",
       "      <th>LEA_STATE</th>\n",
       "      <th>SCHID</th>\n",
       "      <th>SCH_APENR_AM_F</th>\n",
       "      <th>SCH_APENR_AM_M</th>\n",
       "      <th>SCH_APENR_AS_F</th>\n",
       "      <th>SCH_APENR_AS_M</th>\n",
       "      <th>SCH_APENR_BL_F</th>\n",
       "      <th>...</th>\n",
       "      <th>TOT_DISCWODIS_REF_M</th>\n",
       "      <th>TOT_DISCWODIS_SINGOOS_F</th>\n",
       "      <th>TOT_DISCWODIS_SINGOOS_M</th>\n",
       "      <th>TOT_ENR_F</th>\n",
       "      <th>TOT_ENR_M</th>\n",
       "      <th>TOT_GTENR_F</th>\n",
       "      <th>TOT_GTENR_M</th>\n",
       "      <th>TOT_IDEAENR_F</th>\n",
       "      <th>TOT_IDEAENR_M</th>\n",
       "      <th>YEAR</th>\n",
       "    </tr>\n",
       "    <tr>\n",
       "      <th>description</th>\n",
       "      <th>Juvenile Justice Facility: \"Yes\" indicates a long-term secure facility; \"No\" indicates not a JJ facility</th>\n",
       "      <th>7 Digit LEAID District Identification Code</th>\n",
       "      <th>District Name</th>\n",
       "      <th>District State</th>\n",
       "      <th>5 Digit School Identification Code</th>\n",
       "      <th>Students Enrolled in at least one AP Course: American Indian/Alaska Native Female</th>\n",
       "      <th>Students Enrolled in at least one AP Course: American Indian/Alaska Native Male</th>\n",
       "      <th>Students Enrolled in at least one AP Course: Asian Female</th>\n",
       "      <th>Students Enrolled in at least one AP Course: Asian Male</th>\n",
       "      <th>Students Enrolled in at least one AP Course: Black Female</th>\n",
       "      <th>...</th>\n",
       "      <th>Total Number of Students without disabilities who were referred to a law enforcement agency or official: Male</th>\n",
       "      <th>Total number of students without disabilities who received only one out-of-school suspension: Female</th>\n",
       "      <th>Total number of students without disabilities who received only one out-of-school suspension: Male</th>\n",
       "      <th>Total Number of Students Enrolled: Female</th>\n",
       "      <th>Total Number of Students Enrolled: Male</th>\n",
       "      <th>Total Number of Students Enrolled in gifted/talented programs: Female</th>\n",
       "      <th>Total Number of Students Enrolled in gifted/talented programs: Male</th>\n",
       "      <th>Total Number of Students with a Disability, served under IDEA: Female</th>\n",
       "      <th>Total Number of Students with a Disability, served under IDEA: Male</th>\n",
       "      <th>School Year</th>\n",
       "    </tr>\n",
       "  </thead>\n",
       "  <tbody>\n",
       "    <tr>\n",
       "      <th>010000201705</th>\n",
       "      <td>Yes</td>\n",
       "      <td>0100002</td>\n",
       "      <td>ALABAMA YOUTH SERVICES</td>\n",
       "      <td>AL</td>\n",
       "      <td>1705</td>\n",
       "      <td>0</td>\n",
       "      <td>0</td>\n",
       "      <td>0</td>\n",
       "      <td>0</td>\n",
       "      <td>0</td>\n",
       "      <td>...</td>\n",
       "      <td>0</td>\n",
       "      <td>0</td>\n",
       "      <td>0</td>\n",
       "      <td>0</td>\n",
       "      <td>1798</td>\n",
       "      <td>0</td>\n",
       "      <td>0</td>\n",
       "      <td>0</td>\n",
       "      <td>0</td>\n",
       "      <td>2013-14</td>\n",
       "    </tr>\n",
       "    <tr>\n",
       "      <th>010000201706</th>\n",
       "      <td>Yes</td>\n",
       "      <td>0100002</td>\n",
       "      <td>ALABAMA YOUTH SERVICES</td>\n",
       "      <td>AL</td>\n",
       "      <td>1706</td>\n",
       "      <td>0</td>\n",
       "      <td>0</td>\n",
       "      <td>0</td>\n",
       "      <td>0</td>\n",
       "      <td>0</td>\n",
       "      <td>...</td>\n",
       "      <td>0</td>\n",
       "      <td>0</td>\n",
       "      <td>0</td>\n",
       "      <td>0</td>\n",
       "      <td>994</td>\n",
       "      <td>0</td>\n",
       "      <td>0</td>\n",
       "      <td>0</td>\n",
       "      <td>38</td>\n",
       "      <td>2013-14</td>\n",
       "    </tr>\n",
       "    <tr>\n",
       "      <th>010000299995</th>\n",
       "      <td>Yes</td>\n",
       "      <td>0100002</td>\n",
       "      <td>ALA YOUTH SER</td>\n",
       "      <td>AL</td>\n",
       "      <td>99995</td>\n",
       "      <td>0</td>\n",
       "      <td>0</td>\n",
       "      <td>0</td>\n",
       "      <td>0</td>\n",
       "      <td>0</td>\n",
       "      <td>...</td>\n",
       "      <td>0</td>\n",
       "      <td>0</td>\n",
       "      <td>0</td>\n",
       "      <td>0</td>\n",
       "      <td>910</td>\n",
       "      <td>0</td>\n",
       "      <td>0</td>\n",
       "      <td>0</td>\n",
       "      <td>0</td>\n",
       "      <td>2013-14</td>\n",
       "    </tr>\n",
       "    <tr>\n",
       "      <th>010000500870</th>\n",
       "      <td>No</td>\n",
       "      <td>0100005</td>\n",
       "      <td>ALBERTVILLE CITY</td>\n",
       "      <td>AL</td>\n",
       "      <td>870</td>\n",
       "      <td>0</td>\n",
       "      <td>0</td>\n",
       "      <td>0</td>\n",
       "      <td>0</td>\n",
       "      <td>0</td>\n",
       "      <td>...</td>\n",
       "      <td>0</td>\n",
       "      <td>2</td>\n",
       "      <td>13</td>\n",
       "      <td>328</td>\n",
       "      <td>307</td>\n",
       "      <td>0</td>\n",
       "      <td>0</td>\n",
       "      <td>36</td>\n",
       "      <td>63</td>\n",
       "      <td>2013-14</td>\n",
       "    </tr>\n",
       "    <tr>\n",
       "      <th>010000500871</th>\n",
       "      <td>No</td>\n",
       "      <td>0100005</td>\n",
       "      <td>ALBERTVILLE CITY</td>\n",
       "      <td>AL</td>\n",
       "      <td>871</td>\n",
       "      <td>2</td>\n",
       "      <td>0</td>\n",
       "      <td>0</td>\n",
       "      <td>0</td>\n",
       "      <td>0</td>\n",
       "      <td>...</td>\n",
       "      <td>4</td>\n",
       "      <td>15</td>\n",
       "      <td>15</td>\n",
       "      <td>577</td>\n",
       "      <td>537</td>\n",
       "      <td>0</td>\n",
       "      <td>0</td>\n",
       "      <td>50</td>\n",
       "      <td>93</td>\n",
       "      <td>2013-14</td>\n",
       "    </tr>\n",
       "  </tbody>\n",
       "</table>\n",
       "<p>5 rows × 220 columns</p>\n",
       "</div>"
      ],
      "text/plain": [
       "                                                                                                                   JJ  \\\n",
       "description  Juvenile Justice Facility: \"Yes\" indicates a long-term secure facility; \"No\" indicates not a JJ facility   \n",
       "010000201705                                                Yes                                                         \n",
       "010000201706                                                Yes                                                         \n",
       "010000299995                                                Yes                                                         \n",
       "010000500870                                                 No                                                         \n",
       "010000500871                                                 No                                                         \n",
       "\n",
       "                                                  LEAID  \\\n",
       "description  7 Digit LEAID District Identification Code   \n",
       "010000201705                                    0100002   \n",
       "010000201706                                    0100002   \n",
       "010000299995                                    0100002   \n",
       "010000500870                                    0100005   \n",
       "010000500871                                    0100005   \n",
       "\n",
       "                            LEA_NAME      LEA_STATE  \\\n",
       "description            District Name District State   \n",
       "010000201705  ALABAMA YOUTH SERVICES             AL   \n",
       "010000201706  ALABAMA YOUTH SERVICES             AL   \n",
       "010000299995           ALA YOUTH SER             AL   \n",
       "010000500870        ALBERTVILLE CITY             AL   \n",
       "010000500871        ALBERTVILLE CITY             AL   \n",
       "\n",
       "                                          SCHID  \\\n",
       "description  5 Digit School Identification Code   \n",
       "010000201705                               1705   \n",
       "010000201706                               1706   \n",
       "010000299995                              99995   \n",
       "010000500870                                870   \n",
       "010000500871                                871   \n",
       "\n",
       "                                                                                SCH_APENR_AM_F  \\\n",
       "description  Students Enrolled in at least one AP Course: American Indian/Alaska Native Female   \n",
       "010000201705                                                  0                                  \n",
       "010000201706                                                  0                                  \n",
       "010000299995                                                  0                                  \n",
       "010000500870                                                  0                                  \n",
       "010000500871                                                  2                                  \n",
       "\n",
       "                                                                              SCH_APENR_AM_M  \\\n",
       "description  Students Enrolled in at least one AP Course: American Indian/Alaska Native Male   \n",
       "010000201705                                                  0                                \n",
       "010000201706                                                  0                                \n",
       "010000299995                                                  0                                \n",
       "010000500870                                                  0                                \n",
       "010000500871                                                  0                                \n",
       "\n",
       "                                                        SCH_APENR_AS_F  \\\n",
       "description  Students Enrolled in at least one AP Course: Asian Female   \n",
       "010000201705                                                  0          \n",
       "010000201706                                                  0          \n",
       "010000299995                                                  0          \n",
       "010000500870                                                  0          \n",
       "010000500871                                                  0          \n",
       "\n",
       "                                                      SCH_APENR_AS_M  \\\n",
       "description  Students Enrolled in at least one AP Course: Asian Male   \n",
       "010000201705                                                  0        \n",
       "010000201706                                                  0        \n",
       "010000299995                                                  0        \n",
       "010000500870                                                  0        \n",
       "010000500871                                                  0        \n",
       "\n",
       "                                                        SCH_APENR_BL_F  \\\n",
       "description  Students Enrolled in at least one AP Course: Black Female   \n",
       "010000201705                                                  0          \n",
       "010000201706                                                  0          \n",
       "010000299995                                                  0          \n",
       "010000500870                                                  0          \n",
       "010000500871                                                  0          \n",
       "\n",
       "                 ...      \\\n",
       "description      ...       \n",
       "010000201705     ...       \n",
       "010000201706     ...       \n",
       "010000299995     ...       \n",
       "010000500870     ...       \n",
       "010000500871     ...       \n",
       "\n",
       "                                                                                                       TOT_DISCWODIS_REF_M  \\\n",
       "description  Total Number of Students without disabilities who were referred to a law enforcement agency or official: Male   \n",
       "010000201705                                                  0                                                              \n",
       "010000201706                                                  0                                                              \n",
       "010000299995                                                  0                                                              \n",
       "010000500870                                                  0                                                              \n",
       "010000500871                                                  4                                                              \n",
       "\n",
       "                                                                                          TOT_DISCWODIS_SINGOOS_F  \\\n",
       "description  Total number of students without disabilities who received only one out-of-school suspension: Female   \n",
       "010000201705                                                  0                                                     \n",
       "010000201706                                                  0                                                     \n",
       "010000299995                                                  0                                                     \n",
       "010000500870                                                  2                                                     \n",
       "010000500871                                                 15                                                     \n",
       "\n",
       "                                                                                        TOT_DISCWODIS_SINGOOS_M  \\\n",
       "description  Total number of students without disabilities who received only one out-of-school suspension: Male   \n",
       "010000201705                                                  0                                                   \n",
       "010000201706                                                  0                                                   \n",
       "010000299995                                                  0                                                   \n",
       "010000500870                                                 13                                                   \n",
       "010000500871                                                 15                                                   \n",
       "\n",
       "                                             TOT_ENR_F  \\\n",
       "description  Total Number of Students Enrolled: Female   \n",
       "010000201705                                         0   \n",
       "010000201706                                         0   \n",
       "010000299995                                         0   \n",
       "010000500870                                       328   \n",
       "010000500871                                       577   \n",
       "\n",
       "                                           TOT_ENR_M  \\\n",
       "description  Total Number of Students Enrolled: Male   \n",
       "010000201705                                    1798   \n",
       "010000201706                                     994   \n",
       "010000299995                                     910   \n",
       "010000500870                                     307   \n",
       "010000500871                                     537   \n",
       "\n",
       "                                                                       TOT_GTENR_F  \\\n",
       "description  Total Number of Students Enrolled in gifted/talented programs: Female   \n",
       "010000201705                                                  0                      \n",
       "010000201706                                                  0                      \n",
       "010000299995                                                  0                      \n",
       "010000500870                                                  0                      \n",
       "010000500871                                                  0                      \n",
       "\n",
       "                                                                     TOT_GTENR_M  \\\n",
       "description  Total Number of Students Enrolled in gifted/talented programs: Male   \n",
       "010000201705                                                  0                    \n",
       "010000201706                                                  0                    \n",
       "010000299995                                                  0                    \n",
       "010000500870                                                  0                    \n",
       "010000500871                                                  0                    \n",
       "\n",
       "                                                                     TOT_IDEAENR_F  \\\n",
       "description  Total Number of Students with a Disability, served under IDEA: Female   \n",
       "010000201705                                                  0                      \n",
       "010000201706                                                  0                      \n",
       "010000299995                                                  0                      \n",
       "010000500870                                                 36                      \n",
       "010000500871                                                 50                      \n",
       "\n",
       "                                                                   TOT_IDEAENR_M  \\\n",
       "description  Total Number of Students with a Disability, served under IDEA: Male   \n",
       "010000201705                                                  0                    \n",
       "010000201706                                                 38                    \n",
       "010000299995                                                  0                    \n",
       "010000500870                                                 63                    \n",
       "010000500871                                                 93                    \n",
       "\n",
       "                    YEAR  \n",
       "description  School Year  \n",
       "010000201705     2013-14  \n",
       "010000201706     2013-14  \n",
       "010000299995     2013-14  \n",
       "010000500870     2013-14  \n",
       "010000500871     2013-14  \n",
       "\n",
       "[5 rows x 220 columns]"
      ]
     },
     "execution_count": 208,
     "metadata": {},
     "output_type": "execute_result"
    }
   ],
   "source": [
    "df_1314_final.head()"
   ]
  },
  {
   "cell_type": "code",
   "execution_count": 215,
   "metadata": {},
   "outputs": [],
   "source": [
    "missing_fields = pd.Series(fields_1314)[~pd.Series(fields_1314).isin(df_1314.columns)].values\n",
    "assert missing_fields ==  'COMBOKEY'"
   ]
  },
  {
   "cell_type": "markdown",
   "metadata": {},
   "source": [
    "### Get column decriptions for the 2015-16 data"
   ]
  },
  {
   "cell_type": "code",
   "execution_count": 229,
   "metadata": {},
   "outputs": [],
   "source": [
    "col_descr_1516 = pd.read_excel('/Users/cave/Desktop/discriminology/OCR School data sample/2015:16/CRDC 2015-16 School Data Record Layout copy.xlsx', index_col='Field_Name')\n",
    "decoded_names = pd.DataFrame(col_descr_1516.loc[fields_1516]['Field_Description'])\n",
    "decoded_names.columns = ['description']"
   ]
  },
  {
   "cell_type": "code",
   "execution_count": 230,
   "metadata": {},
   "outputs": [],
   "source": [
    "decoded_names.reset_index().to_csv('/Users/cave/Desktop/2015_16_field_descriptions.csv')"
   ]
  },
  {
   "cell_type": "markdown",
   "metadata": {},
   "source": [
    "### Isolate numeric columns in 15/16 and replace negative numbers with zeroes."
   ]
  },
  {
   "cell_type": "code",
   "execution_count": 219,
   "metadata": {},
   "outputs": [
    {
     "name": "stderr",
     "output_type": "stream",
     "text": [
      "/Users/cave/miniconda3/lib/python3.7/site-packages/IPython/core/interactiveshell.py:3058: DtypeWarning: Columns (2,6,23,24,25,30,31,1828) have mixed types. Specify dtype option on import or set low_memory=False.\n",
      "  interactivity=interactivity, compiler=compiler, result=result)\n"
     ]
    }
   ],
   "source": [
    "df1516_raw = pd.read_csv('/Users/cave/Desktop/discriminology/OCR School data sample/2015:16/CRDC 2015-16 School Data copy.csv'\n",
    "                      , encoding='iso-8859-1'\n",
    "                     )\n",
    "df1516_raw['COMBOKEY'] = df1516_raw['LEAID'].astype(str) + df1516_raw['SCHID'].astype(str).str.zfill(5)\n",
    "df1516_raw = df1516_raw[list(set(fields_1516))]"
   ]
  },
  {
   "cell_type": "code",
   "execution_count": 220,
   "metadata": {},
   "outputs": [
    {
     "data": {
      "text/plain": [
       "96360"
      ]
     },
     "execution_count": 220,
     "metadata": {},
     "output_type": "execute_result"
    }
   ],
   "source": [
    "df1516_raw.COMBOKEY.nunique()"
   ]
  },
  {
   "cell_type": "markdown",
   "metadata": {},
   "source": [
    "### Replace negative values with zeroes."
   ]
  },
  {
   "cell_type": "code",
   "execution_count": 222,
   "metadata": {},
   "outputs": [],
   "source": [
    "num = df1516_raw._get_numeric_data()\n",
    "num[num < 0] = 0\n",
    "df1516_raw = df1516_raw.set_index(['COMBOKEY'])"
   ]
  },
  {
   "cell_type": "code",
   "execution_count": 225,
   "metadata": {},
   "outputs": [
    {
     "data": {
      "text/plain": [
       "(96360, 230)"
      ]
     },
     "execution_count": 225,
     "metadata": {},
     "output_type": "execute_result"
    }
   ],
   "source": [
    "df1516_raw.shape"
   ]
  },
  {
   "cell_type": "code",
   "execution_count": 231,
   "metadata": {},
   "outputs": [],
   "source": [
    "df1516_final = pd.merge(df1516_raw.T, decoded_names, left_index=True, right_index=True).set_index('description', append=True).T\n",
    "df1516_final['YEAR','School Year'] = '2015-16'"
   ]
  },
  {
   "cell_type": "code",
   "execution_count": 241,
   "metadata": {},
   "outputs": [],
   "source": [
    "missing_fields = pd.Series(fields_1516)[~pd.Series(fields_1516).isin(df1516_raw.columns)].values\n",
    "assert missing_fields ==  'COMBOKEY'\n",
    "assert len(df1516_final) == df1516_final.index.nunique()"
   ]
  },
  {
   "cell_type": "code",
   "execution_count": 238,
   "metadata": {},
   "outputs": [],
   "source": [
    "df1516_final.to_csv('~/Desktop/discriminology/output/final_data_2015-16.csv')"
   ]
  }
 ],
 "metadata": {
  "kernelspec": {
   "display_name": "Python 3",
   "language": "python",
   "name": "python3"
  }
 },
 "nbformat": 4,
 "nbformat_minor": 2
}
